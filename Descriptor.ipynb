{
 "cells": [
  {
   "cell_type": "code",
   "execution_count": 1,
   "metadata": {},
   "outputs": [
    {
     "name": "stdout",
     "output_type": "stream",
     "text": [
      "__getattribute__ ==> self:<__main__.MyClass object at 0x7f8f4013f320> name:x\n",
      "__getattribute__ ==> self:<__main__.MyClass object at 0x7f8f4013f320> name:__dict__\n",
      "get property: __dict__\n",
      "get property: x\n",
      "Retrieving var \"x\"\n",
      "================================================================================\n",
      "__getattribute__ ==> self:<__main__.MyClass object at 0x7f8f4013f320> name:y\n",
      "__getattribute__ ==> self:<__main__.MyClass object at 0x7f8f4013f320> name:__dict__\n",
      "get property: __dict__\n",
      "get property: y\n",
      "================================================================================\n",
      "__getattribute__ ==> self:<__main__.MyClass object at 0x7f8f4013f320> name:__dict__\n",
      "get property: __dict__\n",
      "set property: x\n",
      "Updating var \"x\"\n"
     ]
    }
   ],
   "source": [
    "#####################\n",
    "# Descriptor usage #\n",
    "#####################\n",
    "# https://docs.python.org/3/howto/descriptor.html\n",
    "\n",
    "class RevealAccess(object):\n",
    "    \"\"\"A data descriptor that sets and returns values\n",
    "       normally and prints a message logging their access.\n",
    "    \"\"\"\n",
    "\n",
    "    def __init__(self, initval=None, name='var'):\n",
    "        self.val = initval\n",
    "        self.name = name\n",
    "\n",
    "    def __get__(self, obj, objtype):\n",
    "        print('Retrieving', self.name)\n",
    "        return self.val\n",
    "    \n",
    "    def __set__(self, obj, val):\n",
    "        print('Updating', self.name)\n",
    "        self.val = val\n",
    "\n",
    "class MyClass(object):\n",
    "    x = RevealAccess(10, 'var \"x\"')\n",
    "    y = 5\n",
    "    \n",
    "    def __getattribute__(self, name):\n",
    "        print (\"__getattribute__ ==> self:\" + repr(self) + \" name:\" + str(name))\n",
    "        if name != \"__dict__\" and name in self.__dict__:\n",
    "            print(\"get defined property: \" + str(name))\n",
    "            return self.__dict__[name]\n",
    "        else:\n",
    "            print(\"get property: \" + str(name))\n",
    "            ############################################################################################\n",
    "            # !!!! The object.__getattribute__(...) will handle the invoking of __get__() method. !!!! #\n",
    "            ############################################################################################\n",
    "            return super().__getattribute__(name)\n",
    "\n",
    "    def __setattr__(self, name, value):\n",
    "        if name in self.__dict__:\n",
    "            print(\"set defined property: \" + str(name))\n",
    "            self.__dict__[name] = value\n",
    "        else:\n",
    "            print(\"set property: \" + str(name))\n",
    "            #######################################################################################\n",
    "            # !!!! The object.__setattr__(...) will handle the invoking of __set__() method. !!!! #\n",
    "            #######################################################################################\n",
    "            super().__setattr__(name, value)\n",
    "\n",
    "\n",
    "m = MyClass()\n",
    "m.x\n",
    "print(\"=\" * 80)\n",
    "m.y\n",
    "print(\"=\" * 80)\n",
    "m.x = 1"
   ]
  },
  {
   "cell_type": "code",
   "execution_count": null,
   "metadata": {
    "collapsed": true
   },
   "outputs": [],
   "source": []
  }
 ],
 "metadata": {
  "kernelspec": {
   "display_name": "Python 3",
   "language": "python",
   "name": "python3"
  },
  "language_info": {
   "codemirror_mode": {
    "name": "ipython",
    "version": 3
   },
   "file_extension": ".py",
   "mimetype": "text/x-python",
   "name": "python",
   "nbconvert_exporter": "python",
   "pygments_lexer": "ipython3",
   "version": "3.6.3"
  }
 },
 "nbformat": 4,
 "nbformat_minor": 2
}
