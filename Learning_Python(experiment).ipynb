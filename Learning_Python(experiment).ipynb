{
 "cells": [
  {
   "cell_type": "code",
   "execution_count": 1,
   "metadata": {
    "tags": []
   },
   "outputs": [],
   "source": [
    "action = (lambda x: (lambda y: x + y))"
   ]
  },
  {
   "cell_type": "code",
   "execution_count": 2,
   "metadata": {
    "tags": []
   },
   "outputs": [],
   "source": [
    "act = action(99)"
   ]
  },
  {
   "cell_type": "code",
   "execution_count": 3,
   "metadata": {},
   "outputs": [
    {
     "data": {
      "text/plain": [
       "102"
      ]
     },
     "execution_count": 3,
     "metadata": {},
     "output_type": "execute_result"
    }
   ],
   "source": [
    "act(3)"
   ]
  },
  {
   "cell_type": "code",
   "execution_count": 4,
   "metadata": {},
   "outputs": [
    {
     "data": {
      "text/plain": [
       "103"
      ]
     },
     "execution_count": 4,
     "metadata": {},
     "output_type": "execute_result"
    }
   ],
   "source": [
    "((lambda x: (lambda y: x + y))(99))(4)"
   ]
  },
  {
   "cell_type": "code",
   "execution_count": 5,
   "metadata": {
    "tags": []
   },
   "outputs": [],
   "source": [
    "inc = map((lambda x: x + 3), [1, 2, 3, 4])"
   ]
  },
  {
   "cell_type": "code",
   "execution_count": 6,
   "metadata": {},
   "outputs": [
    {
     "name": "stdout",
     "output_type": "stream",
     "text": [
      "4 5 6 7\n"
     ]
    }
   ],
   "source": [
    "print (*inc)"
   ]
  },
  {
   "cell_type": "code",
   "execution_count": 7,
   "metadata": {
    "tags": []
   },
   "outputs": [],
   "source": [
    "fi = filter((lambda x: x > 0), range(-5, 5))"
   ]
  },
  {
   "cell_type": "code",
   "execution_count": 8,
   "metadata": {},
   "outputs": [
    {
     "name": "stdout",
     "output_type": "stream",
     "text": [
      "<filter object at 0x7fa2cc367048>\n"
     ]
    }
   ],
   "source": [
    "print (fi)"
   ]
  },
  {
   "cell_type": "code",
   "execution_count": 9,
   "metadata": {},
   "outputs": [
    {
     "name": "stdout",
     "output_type": "stream",
     "text": [
      "[1, 2, 3, 4]\n"
     ]
    }
   ],
   "source": [
    "print (list(fi))"
   ]
  },
  {
   "cell_type": "code",
   "execution_count": 10,
   "metadata": {},
   "outputs": [
    {
     "name": "stdout",
     "output_type": "stream",
     "text": [
      "Help on built-in function dir in module builtins:\n",
      "\n",
      "dir(...)\n",
      "    dir([object]) -> list of strings\n",
      "    \n",
      "    If called without an argument, return the names in the current scope.\n",
      "    Else, return an alphabetized list of names comprising (some of) the attributes\n",
      "    of the given object, and of attributes reachable from it.\n",
      "    If the object supplies a method named __dir__, it will be used; otherwise\n",
      "    the default dir() logic is used and returns:\n",
      "      for a module object: the module's attributes.\n",
      "      for a class object:  its attributes, and recursively the attributes\n",
      "        of its bases.\n",
      "      for any other object: its attributes, its class's attributes, and\n",
      "        recursively the attributes of its class's base classes.\n",
      "\n"
     ]
    }
   ],
   "source": [
    "help(dir)"
   ]
  },
  {
   "cell_type": "code",
   "execution_count": 11,
   "metadata": {},
   "outputs": [
    {
     "name": "stdout",
     "output_type": "stream",
     "text": [
      "Help on class filter in module builtins:\n",
      "\n",
      "class filter(object)\n",
      " |  filter(function or None, iterable) --> filter object\n",
      " |  \n",
      " |  Return an iterator yielding those items of iterable for which function(item)\n",
      " |  is true. If function is None, return the items that are true.\n",
      " |  \n",
      " |  Methods defined here:\n",
      " |  \n",
      " |  __getattribute__(self, name, /)\n",
      " |      Return getattr(self, name).\n",
      " |  \n",
      " |  __iter__(self, /)\n",
      " |      Implement iter(self).\n",
      " |  \n",
      " |  __new__(*args, **kwargs) from builtins.type\n",
      " |      Create and return a new object.  See help(type) for accurate signature.\n",
      " |  \n",
      " |  __next__(self, /)\n",
      " |      Implement next(self).\n",
      " |  \n",
      " |  __reduce__(...)\n",
      " |      Return state information for pickling.\n",
      "\n"
     ]
    }
   ],
   "source": [
    "help(filter)"
   ]
  },
  {
   "cell_type": "markdown",
   "metadata": {},
   "source": [
    "* test"
   ]
  },
  {
   "cell_type": "code",
   "execution_count": 12,
   "metadata": {},
   "outputs": [
    {
     "data": {
      "text/plain": [
       "['__annotations__',\n",
       " '__call__',\n",
       " '__class__',\n",
       " '__closure__',\n",
       " '__code__',\n",
       " '__defaults__',\n",
       " '__delattr__',\n",
       " '__dict__',\n",
       " '__dir__',\n",
       " '__doc__',\n",
       " '__eq__',\n",
       " '__format__',\n",
       " '__ge__',\n",
       " '__get__',\n",
       " '__getattribute__',\n",
       " '__globals__',\n",
       " '__gt__',\n",
       " '__hash__',\n",
       " '__init__',\n",
       " '__init_subclass__',\n",
       " '__kwdefaults__',\n",
       " '__le__',\n",
       " '__lt__',\n",
       " '__module__',\n",
       " '__name__',\n",
       " '__ne__',\n",
       " '__new__',\n",
       " '__qualname__',\n",
       " '__reduce__',\n",
       " '__reduce_ex__',\n",
       " '__repr__',\n",
       " '__setattr__',\n",
       " '__sizeof__',\n",
       " '__str__',\n",
       " '__subclasshook__']"
      ]
     },
     "execution_count": 12,
     "metadata": {},
     "output_type": "execute_result"
    }
   ],
   "source": [
    "dir(action)"
   ]
  },
  {
   "cell_type": "code",
   "execution_count": 13,
   "metadata": {
    "collapsed": true,
    "jupyter": {
     "outputs_hidden": true
    }
   },
   "outputs": [],
   "source": [
    "import operator"
   ]
  },
  {
   "cell_type": "code",
   "execution_count": 14,
   "metadata": {},
   "outputs": [
    {
     "name": "stdout",
     "output_type": "stream",
     "text": [
      "Help on built-in function add in module _operator:\n",
      "\n",
      "add(...)\n",
      "    add(a, b) -- Same as a + b.\n",
      "\n"
     ]
    }
   ],
   "source": [
    "help(operator.add)"
   ]
  },
  {
   "cell_type": "code",
   "execution_count": 15,
   "metadata": {
    "collapsed": true,
    "jupyter": {
     "outputs_hidden": true
    }
   },
   "outputs": [],
   "source": [
    "def gensquares(N):\n",
    "    for i in range(N):\n",
    "        yield i ** 2"
   ]
  },
  {
   "cell_type": "code",
   "execution_count": 16,
   "metadata": {},
   "outputs": [
    {
     "data": {
      "text/plain": [
       "generator"
      ]
     },
     "execution_count": 16,
     "metadata": {},
     "output_type": "execute_result"
    }
   ],
   "source": [
    "gen4 = gensquares(4)\n",
    "type(gen4)"
   ]
  },
  {
   "cell_type": "code",
   "execution_count": 17,
   "metadata": {},
   "outputs": [
    {
     "data": {
      "text/plain": [
       "generator"
      ]
     },
     "execution_count": 17,
     "metadata": {},
     "output_type": "execute_result"
    }
   ],
   "source": [
    "it4 = iter(gen4)\n",
    "type(it4)"
   ]
  },
  {
   "cell_type": "code",
   "execution_count": 18,
   "metadata": {},
   "outputs": [
    {
     "name": "stdout",
     "output_type": "stream",
     "text": [
      "Help on generator object:\n",
      "\n",
      "gensquares = class generator(object)\n",
      " |  Methods defined here:\n",
      " |  \n",
      " |  __del__(...)\n",
      " |  \n",
      " |  __getattribute__(self, name, /)\n",
      " |      Return getattr(self, name).\n",
      " |  \n",
      " |  __iter__(self, /)\n",
      " |      Implement iter(self).\n",
      " |  \n",
      " |  __next__(self, /)\n",
      " |      Implement next(self).\n",
      " |  \n",
      " |  __repr__(self, /)\n",
      " |      Return repr(self).\n",
      " |  \n",
      " |  close(...)\n",
      " |      close() -> raise GeneratorExit inside generator.\n",
      " |  \n",
      " |  send(...)\n",
      " |      send(arg) -> send 'arg' into generator,\n",
      " |      return next yielded value or raise StopIteration.\n",
      " |  \n",
      " |  throw(...)\n",
      " |      throw(typ[,val[,tb]]) -> raise exception in generator,\n",
      " |      return next yielded value or raise StopIteration.\n",
      " |  \n",
      " |  ----------------------------------------------------------------------\n",
      " |  Data descriptors defined here:\n",
      " |  \n",
      " |  gi_code\n",
      " |  \n",
      " |  gi_frame\n",
      " |  \n",
      " |  gi_running\n",
      " |  \n",
      " |  gi_yieldfrom\n",
      " |      object being iterated by yield from, or None\n",
      "\n"
     ]
    }
   ],
   "source": [
    "help(it4)"
   ]
  },
  {
   "cell_type": "code",
   "execution_count": 19,
   "metadata": {
    "collapsed": true,
    "jupyter": {
     "outputs_hidden": true
    }
   },
   "outputs": [],
   "source": [
    "G = (c * 4 for c in 'SPAM')"
   ]
  },
  {
   "cell_type": "code",
   "execution_count": 20,
   "metadata": {},
   "outputs": [
    {
     "data": {
      "text/plain": [
       "generator"
      ]
     },
     "execution_count": 20,
     "metadata": {},
     "output_type": "execute_result"
    }
   ],
   "source": [
    "type(G)"
   ]
  },
  {
   "cell_type": "code",
   "execution_count": 21,
   "metadata": {},
   "outputs": [
    {
     "data": {
      "text/plain": [
       "'<generator object <genexpr> at 0x7fa2cc392938>'"
      ]
     },
     "execution_count": 21,
     "metadata": {},
     "output_type": "execute_result"
    }
   ],
   "source": [
    "itG = iter(G)\n",
    "repr(itG)"
   ]
  },
  {
   "cell_type": "code",
   "execution_count": 22,
   "metadata": {},
   "outputs": [
    {
     "data": {
      "text/plain": [
       "'SSSS'"
      ]
     },
     "execution_count": 22,
     "metadata": {},
     "output_type": "execute_result"
    }
   ],
   "source": [
    "next(G)"
   ]
  },
  {
   "cell_type": "code",
   "execution_count": 23,
   "metadata": {},
   "outputs": [
    {
     "data": {
      "text/plain": [
       "'PPPP'"
      ]
     },
     "execution_count": 23,
     "metadata": {},
     "output_type": "execute_result"
    }
   ],
   "source": [
    "next(G)"
   ]
  },
  {
   "cell_type": "code",
   "execution_count": 24,
   "metadata": {},
   "outputs": [
    {
     "data": {
      "text/plain": [
       "'AAAA'"
      ]
     },
     "execution_count": 24,
     "metadata": {},
     "output_type": "execute_result"
    }
   ],
   "source": [
    "next(G)"
   ]
  },
  {
   "cell_type": "code",
   "execution_count": 25,
   "metadata": {},
   "outputs": [
    {
     "data": {
      "text/plain": [
       "'MMMM'"
      ]
     },
     "execution_count": 25,
     "metadata": {},
     "output_type": "execute_result"
    }
   ],
   "source": [
    "next(G)"
   ]
  },
  {
   "cell_type": "code",
   "execution_count": 26,
   "metadata": {},
   "outputs": [
    {
     "ename": "StopIteration",
     "evalue": "",
     "output_type": "error",
     "traceback": [
      "\u001b[0;31m---------------------------------------------------------------------------\u001b[0m",
      "\u001b[0;31mStopIteration\u001b[0m                             Traceback (most recent call last)",
      "\u001b[0;32m<ipython-input-26-380e167d6934>\u001b[0m in \u001b[0;36m<module>\u001b[0;34m()\u001b[0m\n\u001b[0;32m----> 1\u001b[0;31m \u001b[0mnext\u001b[0m\u001b[0;34m(\u001b[0m\u001b[0mG\u001b[0m\u001b[0;34m)\u001b[0m\u001b[0;34m\u001b[0m\u001b[0m\n\u001b[0m",
      "\u001b[0;31mStopIteration\u001b[0m: "
     ]
    }
   ],
   "source": [
    "next(G)"
   ]
  },
  {
   "cell_type": "code",
   "execution_count": 27,
   "metadata": {},
   "outputs": [
    {
     "data": {
      "text/plain": [
       "True"
      ]
     },
     "execution_count": 27,
     "metadata": {},
     "output_type": "execute_result"
    }
   ],
   "source": [
    "iter(G) is (G)"
   ]
  },
  {
   "cell_type": "code",
   "execution_count": 28,
   "metadata": {
    "collapsed": true,
    "jupyter": {
     "outputs_hidden": true
    }
   },
   "outputs": [],
   "source": [
    "import os\n",
    "W = os.walk('.')"
   ]
  },
  {
   "cell_type": "code",
   "execution_count": 29,
   "metadata": {},
   "outputs": [
    {
     "data": {
      "text/plain": [
       "('.', ['.ipynb_checkpoints'], ['Learning Python.ipynb'])"
      ]
     },
     "execution_count": 29,
     "metadata": {},
     "output_type": "execute_result"
    }
   ],
   "source": [
    "next(W)"
   ]
  },
  {
   "cell_type": "code",
   "execution_count": 30,
   "metadata": {
    "scrolled": true
   },
   "outputs": [
    {
     "data": {
      "text/plain": [
       "('./.ipynb_checkpoints', [], ['Learning Python-checkpoint.ipynb'])"
      ]
     },
     "execution_count": 30,
     "metadata": {},
     "output_type": "execute_result"
    }
   ],
   "source": [
    "next(W)"
   ]
  },
  {
   "cell_type": "code",
   "execution_count": 31,
   "metadata": {
    "collapsed": true,
    "jupyter": {
     "outputs_hidden": true
    }
   },
   "outputs": [],
   "source": [
    "D = { 'a' : 1}"
   ]
  },
  {
   "cell_type": "code",
   "execution_count": 32,
   "metadata": {
    "collapsed": true,
    "jupyter": {
     "outputs_hidden": true
    }
   },
   "outputs": [],
   "source": [
    "k,v = D.keys(), D.values()"
   ]
  },
  {
   "cell_type": "code",
   "execution_count": 33,
   "metadata": {},
   "outputs": [
    {
     "name": "stdout",
     "output_type": "stream",
     "text": [
      "<class 'dict_keys'> <class 'dict_values'>\n"
     ]
    }
   ],
   "source": [
    "print (type(k), type(v))"
   ]
  },
  {
   "cell_type": "code",
   "execution_count": 34,
   "metadata": {},
   "outputs": [
    {
     "name": "stdout",
     "output_type": "stream",
     "text": [
      "[0, 0, 4, 8, 8, 16, 12, 24, 16, 32]\n"
     ]
    }
   ],
   "source": [
    "mySet = [ x * y for x in range(10) if x%2==0 for y in [1, 2, 3, 4] if y%2==0 ]\n",
    "print (mySet)"
   ]
  },
  {
   "cell_type": "code",
   "execution_count": 35,
   "metadata": {},
   "outputs": [
    {
     "name": "stdout",
     "output_type": "stream",
     "text": [
      "cold init_stat=1\n",
      "257745 init_stat=2\n",
      "spam init_stat=10\n",
      "245674 init_stat=11\n",
      "duck init_stat=20\n",
      "757899 init_stat=21\n"
     ]
    }
   ],
   "source": [
    "# Each call to a function creates a new local scope.\n",
    "\n",
    "def factory(init_stat=1):\n",
    "    def func1(a):\n",
    "        nonlocal init_stat\n",
    "        print(\"%s init_stat=%d\" % (a, init_stat))\n",
    "        init_stat += 1\n",
    "        \n",
    "    def func2(b):\n",
    "        nonlocal init_stat\n",
    "        print(\"%d init_stat=%d\" % (b, init_stat))\n",
    "        init_stat += 1\n",
    "    return func1, func2\n",
    "\n",
    "\n",
    "funcs0 = factory()\n",
    "funcs0[0](\"cold\")\n",
    "funcs0[1](257745)\n",
    "\n",
    "funcs1 = factory(10)\n",
    "funcs1[0](\"spam\")\n",
    "funcs1[1](245674)\n",
    "\n",
    "funcs2 = factory(20)\n",
    "funcs2[0](\"duck\")\n",
    "funcs2[1](757899)"
   ]
  },
  {
   "cell_type": "code",
   "execution_count": 36,
   "metadata": {},
   "outputs": [
    {
     "name": "stdout",
     "output_type": "stream",
     "text": [
      "__annotations__ {}\n",
      "__call__ can't call w/o args\n",
      "__class__ can't call w/o args\n",
      "__closure__ (<cell at 0x7fa2cc3e6e58: int object at 0x7fa2e1754d20>,)\n",
      "__code__ <code object func1 at 0x7fa2cc3b3e40, file \"<ipython-input-35-21be80bce9e9>\", line 4>\n",
      "__defaults__ None\n",
      "__delattr__ can't call w/o args\n",
      "__dict__ {}\n",
      "__dir__ ['__repr__', '__call__', '__get__', '__new__', '__closure__', '__doc__', '__globals__', '__module__', '__code__', '__defaults__', '__kwdefaults__', '__annotations__', '__dict__', '__name__', '__qualname__', '__hash__', '__str__', '__getattribute__', '__setattr__', '__delattr__', '__lt__', '__le__', '__eq__', '__ne__', '__gt__', '__ge__', '__init__', '__reduce_ex__', '__reduce__', '__subclasshook__', '__init_subclass__', '__format__', '__sizeof__', '__dir__', '__class__']\n",
      "__doc__ None\n",
      "__eq__ can't call w/o args\n",
      "__format__ can't call w/o args\n",
      "__ge__ can't call w/o args\n",
      "__get__ can't call w/o args\n",
      "__getattribute__ can't call w/o args\n",
      "__globals__ {'__name__': '__main__', '__doc__': 'Automatically created module for IPython interactive environment', '__package__': None, '__loader__': None, '__spec__': None, '__builtin__': <module 'builtins' (built-in)>, '__builtins__': <module 'builtins' (built-in)>, '_ih': ['', 'action = (lambda x: (lambda y: x + y))', 'act = action(99)', 'act(3)', '((lambda x: (lambda y: x + y))(99))(4)', 'inc = map((lambda x: x + 3), [1, 2, 3, 4])', 'print (*inc)', 'fi = filter((lambda x: x > 0), range(-5, 5))', 'print (fi)', 'print (list(fi))', 'help(dir)', 'help(filter)', 'dir(action)', 'import operator', 'help(operator.add)', 'def gensquares(N):\\n    for i in range(N):\\n        yield i ** 2', 'gen4 = gensquares(4)\\ntype(gen4)', 'it4 = iter(gen4)\\ntype(it4)', 'help(it4)', \"G = (c * 4 for c in 'SPAM')\", 'type(G)', 'itG = iter(G)\\nrepr(itG)', 'next(G)', 'next(G)', 'next(G)', 'next(G)', 'next(G)', 'iter(G) is (G)', \"import os\\nW = os.walk('.')\", 'next(W)', 'next(W)', \"D = { 'a' : 1}\", 'k,v = D.keys(), D.values()', 'print (type(k), type(v))', 'mySet = [ x * y for x in range(10) if x%2==0 for y in [1, 2, 3, 4] if y%2==0 ]\\nprint (mySet)', '# Each call to a function creates a new local scope.\\n\\ndef factory(init_stat=1):\\n    def func1(a):\\n        nonlocal init_stat\\n        print(\"%s init_stat=%d\" % (a, init_stat))\\n        init_stat += 1\\n        \\n    def func2(b):\\n        nonlocal init_stat\\n        print(\"%d init_stat=%d\" % (b, init_stat))\\n        init_stat += 1\\n    return func1, func2\\n\\n\\nfuncs0 = factory()\\nfuncs0[0](\"cold\")\\nfuncs0[1](257745)\\n\\nfuncs1 = factory(10)\\nfuncs1[0](\"spam\")\\nfuncs1[1](245674)\\n\\nfuncs2 = factory(20)\\nfuncs2[0](\"duck\")\\nfuncs2[1](757899)', 'for func_dir in dir(funcs0[0]):\\n    print(func_dir, end=\\' \\')\\n    if callable(eval(\\'funcs0[0].\\' + func_dir)):\\n        try:\\n            print(eval(\\'funcs0[0].\\' + func_dir + \\'()\\'))\\n        except:\\n            print(\"can\\'t call w/o args\")\\n    else:\\n        print(eval(\\'funcs0[0].\\' + func_dir))'], '_oh': {3: 102, 4: 103, 12: ['__annotations__', '__call__', '__class__', '__closure__', '__code__', '__defaults__', '__delattr__', '__dict__', '__dir__', '__doc__', '__eq__', '__format__', '__ge__', '__get__', '__getattribute__', '__globals__', '__gt__', '__hash__', '__init__', '__init_subclass__', '__kwdefaults__', '__le__', '__lt__', '__module__', '__name__', '__ne__', '__new__', '__qualname__', '__reduce__', '__reduce_ex__', '__repr__', '__setattr__', '__sizeof__', '__str__', '__subclasshook__'], 16: <class 'generator'>, 17: <class 'generator'>, 20: <class 'generator'>, 21: '<generator object <genexpr> at 0x7fa2cc392938>', 22: 'SSSS', 23: 'PPPP', 24: 'AAAA', 25: 'MMMM', 27: True, 29: ('.', ['.ipynb_checkpoints'], ['Learning Python.ipynb']), 30: ('./.ipynb_checkpoints', [], ['Learning Python-checkpoint.ipynb'])}, '_dh': ['/home/melous/lab/notebooks'], 'In': ['', 'action = (lambda x: (lambda y: x + y))', 'act = action(99)', 'act(3)', '((lambda x: (lambda y: x + y))(99))(4)', 'inc = map((lambda x: x + 3), [1, 2, 3, 4])', 'print (*inc)', 'fi = filter((lambda x: x > 0), range(-5, 5))', 'print (fi)', 'print (list(fi))', 'help(dir)', 'help(filter)', 'dir(action)', 'import operator', 'help(operator.add)', 'def gensquares(N):\\n    for i in range(N):\\n        yield i ** 2', 'gen4 = gensquares(4)\\ntype(gen4)', 'it4 = iter(gen4)\\ntype(it4)', 'help(it4)', \"G = (c * 4 for c in 'SPAM')\", 'type(G)', 'itG = iter(G)\\nrepr(itG)', 'next(G)', 'next(G)', 'next(G)', 'next(G)', 'next(G)', 'iter(G) is (G)', \"import os\\nW = os.walk('.')\", 'next(W)', 'next(W)', \"D = { 'a' : 1}\", 'k,v = D.keys(), D.values()', 'print (type(k), type(v))', 'mySet = [ x * y for x in range(10) if x%2==0 for y in [1, 2, 3, 4] if y%2==0 ]\\nprint (mySet)', '# Each call to a function creates a new local scope.\\n\\ndef factory(init_stat=1):\\n    def func1(a):\\n        nonlocal init_stat\\n        print(\"%s init_stat=%d\" % (a, init_stat))\\n        init_stat += 1\\n        \\n    def func2(b):\\n        nonlocal init_stat\\n        print(\"%d init_stat=%d\" % (b, init_stat))\\n        init_stat += 1\\n    return func1, func2\\n\\n\\nfuncs0 = factory()\\nfuncs0[0](\"cold\")\\nfuncs0[1](257745)\\n\\nfuncs1 = factory(10)\\nfuncs1[0](\"spam\")\\nfuncs1[1](245674)\\n\\nfuncs2 = factory(20)\\nfuncs2[0](\"duck\")\\nfuncs2[1](757899)', 'for func_dir in dir(funcs0[0]):\\n    print(func_dir, end=\\' \\')\\n    if callable(eval(\\'funcs0[0].\\' + func_dir)):\\n        try:\\n            print(eval(\\'funcs0[0].\\' + func_dir + \\'()\\'))\\n        except:\\n            print(\"can\\'t call w/o args\")\\n    else:\\n        print(eval(\\'funcs0[0].\\' + func_dir))'], 'Out': {3: 102, 4: 103, 12: ['__annotations__', '__call__', '__class__', '__closure__', '__code__', '__defaults__', '__delattr__', '__dict__', '__dir__', '__doc__', '__eq__', '__format__', '__ge__', '__get__', '__getattribute__', '__globals__', '__gt__', '__hash__', '__init__', '__init_subclass__', '__kwdefaults__', '__le__', '__lt__', '__module__', '__name__', '__ne__', '__new__', '__qualname__', '__reduce__', '__reduce_ex__', '__repr__', '__setattr__', '__sizeof__', '__str__', '__subclasshook__'], 16: <class 'generator'>, 17: <class 'generator'>, 20: <class 'generator'>, 21: '<generator object <genexpr> at 0x7fa2cc392938>', 22: 'SSSS', 23: 'PPPP', 24: 'AAAA', 25: 'MMMM', 27: True, 29: ('.', ['.ipynb_checkpoints'], ['Learning Python.ipynb']), 30: ('./.ipynb_checkpoints', [], ['Learning Python-checkpoint.ipynb'])}, 'get_ipython': <bound method InteractiveShell.get_ipython of <ipykernel.zmqshell.ZMQInteractiveShell object at 0x7fa2d00983c8>>, 'exit': <IPython.core.autocall.ZMQExitAutocall object at 0x7fa2d005ea90>, 'quit': <IPython.core.autocall.ZMQExitAutocall object at 0x7fa2d005ea90>, '_': ('./.ipynb_checkpoints', [], ['Learning Python-checkpoint.ipynb']), '__': ('.', ['.ipynb_checkpoints'], ['Learning Python.ipynb']), '___': True, '_i': '# Each call to a function creates a new local scope.\\n\\ndef factory(init_stat=1):\\n    def func1(a):\\n        nonlocal init_stat\\n        print(\"%s init_stat=%d\" % (a, init_stat))\\n        init_stat += 1\\n        \\n    def func2(b):\\n        nonlocal init_stat\\n        print(\"%d init_stat=%d\" % (b, init_stat))\\n        init_stat += 1\\n    return func1, func2\\n\\n\\nfuncs0 = factory()\\nfuncs0[0](\"cold\")\\nfuncs0[1](257745)\\n\\nfuncs1 = factory(10)\\nfuncs1[0](\"spam\")\\nfuncs1[1](245674)\\n\\nfuncs2 = factory(20)\\nfuncs2[0](\"duck\")\\nfuncs2[1](757899)', '_ii': 'mySet = [ x * y for x in range(10) if x%2==0 for y in [1, 2, 3, 4] if y%2==0 ]\\nprint (mySet)', '_iii': 'print (type(k), type(v))', '_i1': 'action = (lambda x: (lambda y: x + y))', 'action': <function <lambda> at 0x7fa2cc337620>, '_i2': 'act = action(99)', 'act': <function <lambda>.<locals>.<lambda> at 0x7fa2cc3376a8>, '_i3': 'act(3)', '_3': 102, '_i4': '((lambda x: (lambda y: x + y))(99))(4)', '_4': 103, '_i5': 'inc = map((lambda x: x + 3), [1, 2, 3, 4])', 'inc': <map object at 0x7fa2cc33bf28>, '_i6': 'print (*inc)', '_i7': 'fi = filter((lambda x: x > 0), range(-5, 5))', 'fi': <filter object at 0x7fa2cc367048>, '_i8': 'print (fi)', '_i9': 'print (list(fi))', '_i10': 'help(dir)', '_i11': 'help(filter)', '_i12': 'dir(action)', '_12': ['__annotations__', '__call__', '__class__', '__closure__', '__code__', '__defaults__', '__delattr__', '__dict__', '__dir__', '__doc__', '__eq__', '__format__', '__ge__', '__get__', '__getattribute__', '__globals__', '__gt__', '__hash__', '__init__', '__init_subclass__', '__kwdefaults__', '__le__', '__lt__', '__module__', '__name__', '__ne__', '__new__', '__qualname__', '__reduce__', '__reduce_ex__', '__repr__', '__setattr__', '__sizeof__', '__str__', '__subclasshook__'], '_i13': 'import operator', 'operator': <module 'operator' from '/home/melous/anaconda3/lib/python3.6/operator.py'>, '_i14': 'help(operator.add)', '_i15': 'def gensquares(N):\\n    for i in range(N):\\n        yield i ** 2', 'gensquares': <function gensquares at 0x7fa2cc36f730>, '_i16': 'gen4 = gensquares(4)\\ntype(gen4)', 'gen4': <generator object gensquares at 0x7fa2cc366410>, '_16': <class 'generator'>, '_i17': 'it4 = iter(gen4)\\ntype(it4)', 'it4': <generator object gensquares at 0x7fa2cc366410>, '_17': <class 'generator'>, '_i18': 'help(it4)', '_i19': \"G = (c * 4 for c in 'SPAM')\", 'G': <generator object <genexpr> at 0x7fa2cc392938>, '_i20': 'type(G)', '_20': <class 'generator'>, '_i21': 'itG = iter(G)\\nrepr(itG)', 'itG': <generator object <genexpr> at 0x7fa2cc392938>, '_21': '<generator object <genexpr> at 0x7fa2cc392938>', '_i22': 'next(G)', '_22': 'SSSS', '_i23': 'next(G)', '_23': 'PPPP', '_i24': 'next(G)', '_24': 'AAAA', '_i25': 'next(G)', '_25': 'MMMM', '_i26': 'next(G)', '_i27': 'iter(G) is (G)', '_27': True, '_i28': \"import os\\nW = os.walk('.')\", 'os': <module 'os' from '/home/melous/anaconda3/lib/python3.6/os.py'>, 'W': <generator object walk at 0x7fa2cc4231a8>, '_i29': 'next(W)', '_29': ('.', ['.ipynb_checkpoints'], ['Learning Python.ipynb']), '_i30': 'next(W)', '_30': ('./.ipynb_checkpoints', [], ['Learning Python-checkpoint.ipynb']), '_i31': \"D = { 'a' : 1}\", 'D': {'a': 1}, '_i32': 'k,v = D.keys(), D.values()', 'k': dict_keys(['a']), 'v': dict_values([1]), '_i33': 'print (type(k), type(v))', '_i34': 'mySet = [ x * y for x in range(10) if x%2==0 for y in [1, 2, 3, 4] if y%2==0 ]\\nprint (mySet)', 'mySet': [0, 0, 4, 8, 8, 16, 12, 24, 16, 32], '_i35': '# Each call to a function creates a new local scope.\\n\\ndef factory(init_stat=1):\\n    def func1(a):\\n        nonlocal init_stat\\n        print(\"%s init_stat=%d\" % (a, init_stat))\\n        init_stat += 1\\n        \\n    def func2(b):\\n        nonlocal init_stat\\n        print(\"%d init_stat=%d\" % (b, init_stat))\\n        init_stat += 1\\n    return func1, func2\\n\\n\\nfuncs0 = factory()\\nfuncs0[0](\"cold\")\\nfuncs0[1](257745)\\n\\nfuncs1 = factory(10)\\nfuncs1[0](\"spam\")\\nfuncs1[1](245674)\\n\\nfuncs2 = factory(20)\\nfuncs2[0](\"duck\")\\nfuncs2[1](757899)', 'factory': <function factory at 0x7fa2cc2deea0>, 'funcs0': (<function factory.<locals>.func1 at 0x7fa2cc2dee18>, <function factory.<locals>.func2 at 0x7fa2cc36f620>), 'funcs1': (<function factory.<locals>.func1 at 0x7fa2cc36f6a8>, <function factory.<locals>.func2 at 0x7fa2cc36fb70>), 'funcs2': (<function factory.<locals>.func1 at 0x7fa2cc337c80>, <function factory.<locals>.func2 at 0x7fa2cc337bf8>), '_i36': 'for func_dir in dir(funcs0[0]):\\n    print(func_dir, end=\\' \\')\\n    if callable(eval(\\'funcs0[0].\\' + func_dir)):\\n        try:\\n            print(eval(\\'funcs0[0].\\' + func_dir + \\'()\\'))\\n        except:\\n            print(\"can\\'t call w/o args\")\\n    else:\\n        print(eval(\\'funcs0[0].\\' + func_dir))', 'func_dir': '__globals__'}\n",
      "__gt__ can't call w/o args\n",
      "__hash__ -9223363265780588831\n",
      "__init__ None\n",
      "__init_subclass__ None\n",
      "__kwdefaults__ None\n",
      "__le__ can't call w/o args\n",
      "__lt__ can't call w/o args\n",
      "__module__ __main__\n",
      "__name__ func1\n",
      "__ne__ can't call w/o args\n",
      "__new__ can't call w/o args\n",
      "__qualname__ factory.<locals>.func1\n",
      "__reduce__ can't call w/o args\n",
      "__reduce_ex__ can't call w/o args\n",
      "__repr__ <function factory.<locals>.func1 at 0x7fa2cc2dee18>\n",
      "__setattr__ can't call w/o args\n",
      "__sizeof__ 112\n",
      "__str__ <function factory.<locals>.func1 at 0x7fa2cc2dee18>\n",
      "__subclasshook__ NotImplemented\n"
     ]
    }
   ],
   "source": [
    "for func_dir in dir(funcs0[0]):\n",
    "    print(func_dir, end=' ')\n",
    "    if callable(eval('funcs0[0].' + func_dir)):\n",
    "        try:\n",
    "            print(eval('funcs0[0].' + func_dir + '()'))\n",
    "        except:\n",
    "            print(\"can't call w/o args\")\n",
    "    else:\n",
    "        print(eval('funcs0[0].' + func_dir))"
   ]
  },
  {
   "cell_type": "code",
   "execution_count": 37,
   "metadata": {},
   "outputs": [
    {
     "name": "stdout",
     "output_type": "stream",
     "text": [
      "import only make the module name available in enclosing scope\n",
      "['', '/home/melous/anaconda3/lib/python36.zip', '/home/melous/anaconda3/lib/python3.6', '/home/melous/anaconda3/lib/python3.6/lib-dynload', '/home/melous/anaconda3/lib/python3.6/site-packages', '/home/melous/anaconda3/lib/python3.6/site-packages/IPython/extensions', '/home/melous/.ipython']\n"
     ]
    }
   ],
   "source": [
    "def my_load_mod1():\n",
    "    import sys\n",
    "def my_load_mod2():\n",
    "    import sys\n",
    "    return sys\n",
    "\n",
    "try:\n",
    "    my_load_mod1()\n",
    "    print(sys.path)\n",
    "except:\n",
    "    print('import only make the module name available in enclosing scope')\n",
    "    sys = my_load_mod2()\n",
    "\n",
    "print(sys.path)"
   ]
  },
  {
   "cell_type": "code",
   "execution_count": 1,
   "metadata": {},
   "outputs": [
    {
     "name": "stdout",
     "output_type": "stream",
     "text": [
      "['', '/home/melous/anaconda3/lib/python36.zip', '/home/melous/anaconda3/lib/python3.6', '/home/melous/anaconda3/lib/python3.6/lib-dynload', '/home/melous/anaconda3/lib/python3.6/site-packages', '/home/melous/anaconda3/lib/python3.6/site-packages/IPython/extensions', '/home/melous/.ipython']\n"
     ]
    }
   ],
   "source": [
    "# module only have one object instance during the whole runtime no matter how many places that import it.\n",
    "# module a, b below both imported and changed var in module modsvar,\n",
    "# they take effect in the same object instance of module modsvar.\n",
    "\n",
    "import sys\n",
    "print(sys.path)"
   ]
  },
  {
   "cell_type": "code",
   "execution_count": 1,
   "metadata": {},
   "outputs": [
    {
     "name": "stdout",
     "output_type": "stream",
     "text": [
      "modsvar 139963391777912\n",
      "module a is importing 'modsvar' (id:139963391777912)\n",
      "moda\n",
      "module b is importing 'modsvar' (id:139963391777912)\n",
      "modb\n"
     ]
    }
   ],
   "source": [
    "from testmods import modsvar\n",
    "print (modsvar.var, id(modsvar))\n",
    "from testmods import moda\n",
    "print (modsvar.var)\n",
    "from testmods import modb\n",
    "print (modsvar.var)"
   ]
  },
  {
   "cell_type": "code",
   "execution_count": 12,
   "metadata": {},
   "outputs": [
    {
     "name": "stdout",
     "output_type": "stream",
     "text": [
      "Bob\n",
      "Bob Bob\n",
      "Bob Sue Bob\n",
      "SharedName Sue SharedName\n"
     ]
    }
   ],
   "source": [
    "class rec: pass\n",
    "\n",
    "rec.name = 'Bob'\n",
    "rec.age = 40\n",
    "\n",
    "print(rec.name)\n",
    "\n",
    "x = rec()\n",
    "y = rec()\n",
    "\n",
    "print(x.name, y.name)\n",
    "x.name = 'Sue'\n",
    "print(rec.name, x.name, y.name)\n",
    "rec.name = 'SharedName'\n",
    "print(rec.name, x.name, y.name)"
   ]
  },
  {
   "cell_type": "code",
   "execution_count": 9,
   "metadata": {},
   "outputs": [
    {
     "name": "stdout",
     "output_type": "stream",
     "text": [
      "['__module__', '__dict__', '__weakref__', '__doc__', 'name', 'age']\n",
      "['name', 'age']\n",
      "['name']\n",
      "[]\n"
     ]
    }
   ],
   "source": [
    "# The class’s namespace dictionary shows the name and age attributes\n",
    "# we assigned to it, x has its own name, and y is still empty.\n",
    "print(list(rec.__dict__.keys()))\n",
    "print(list(name for name in rec.__dict__ if not name.startswith('__')))\n",
    "print(list(x.__dict__.keys()))\n",
    "print(list(y.__dict__.keys()))\n"
   ]
  },
  {
   "cell_type": "code",
   "execution_count": 10,
   "metadata": {},
   "outputs": [
    {
     "name": "stdout",
     "output_type": "stream",
     "text": [
      "<class '__main__.rec'>\n",
      "(<class 'object'>,)\n",
      "dict_keys(['__repr__', '__hash__', '__str__', '__getattribute__', '__setattr__', '__delattr__', '__lt__', '__le__', '__eq__', '__ne__', '__gt__', '__ge__', '__init__', '__new__', '__reduce_ex__', '__reduce__', '__subclasshook__', '__init_subclass__', '__format__', '__sizeof__', '__dir__', '__class__', '__doc__'])\n",
      "\n",
      "['__class__', '__delattr__', '__dict__', '__dir__', '__doc__', '__eq__', '__format__', '__ge__', '__getattribute__', '__gt__', '__hash__', '__init__', '__init_subclass__', '__le__', '__lt__', '__module__', '__ne__', '__new__', '__reduce__', '__reduce_ex__', '__repr__', '__setattr__', '__sizeof__', '__str__', '__subclasshook__', '__weakref__', 'age', 'name']\n",
      "['__class__', '__delattr__', '__dict__', '__dir__', '__doc__', '__eq__', '__format__', '__ge__', '__getattribute__', '__gt__', '__hash__', '__init__', '__init_subclass__', '__le__', '__lt__', '__module__', '__ne__', '__new__', '__reduce__', '__reduce_ex__', '__repr__', '__setattr__', '__sizeof__', '__str__', '__subclasshook__', '__weakref__', 'age', 'name']\n"
     ]
    }
   ],
   "source": [
    "print(x.__class__)\n",
    "print(rec.__bases__)\n",
    "print(object.__dict__.keys())\n",
    "print()\n",
    "\n",
    "print(dir(x))\n",
    "print(dir(rec))"
   ]
  },
  {
   "cell_type": "code",
   "execution_count": 24,
   "metadata": {},
   "outputs": [
    {
     "name": "stdout",
     "output_type": "stream",
     "text": [
      "11\n",
      "33\n",
      "11\n",
      "33\n"
     ]
    }
   ],
   "source": [
    "X = 11\n",
    "\n",
    "def f():     # Global (module) name/attribute (X, or manynames.X)\n",
    "    print(X) # Access global X (11)\n",
    "\n",
    "def g():\n",
    "    X = 22\n",
    "    print(X) # Local (function) variable (X, hides module X)\n",
    "\n",
    "#################################################\n",
    "#### !!! class is not an enclosing scope !!! ####\n",
    "#################################################\n",
    "class C:\n",
    "    print(X)\n",
    "    X = 33 # This should be treated as attribute\n",
    "    print(X)\n",
    "    def m(self):\n",
    "        #################################################\n",
    "        print(X)     # !!! NOT 33 !!!\n",
    "        #################################################\n",
    "        print(C.X)   # Class attribute (C.X)\n",
    "    def m2():\n",
    "        X = 44       # Local variable in method (X)\n",
    "        self.X = 55  # Instance attribute (instance.X)\n",
    "\n",
    "I = C()\n",
    "I.m()\n"
   ]
  },
  {
   "cell_type": "code",
   "execution_count": 15,
   "metadata": {},
   "outputs": [
    {
     "name": "stdout",
     "output_type": "stream",
     "text": [
      "1\n",
      "1\n",
      "1\n",
      "\n",
      "1\n",
      "3\n",
      "----------------------------------------\n"
     ]
    }
   ],
   "source": [
    "X = 1\n",
    "\n",
    "def nester():\n",
    "    print(X) # Global: 1\n",
    "    class C:\n",
    "        print(X) # Global: 1\n",
    "        def method1(self):\n",
    "            print(X) # Global: 1\n",
    "        def method2(self):\n",
    "            X = 3 # Hides global\n",
    "            print(X) # Local: 3\n",
    "    print()\n",
    "    I = C()\n",
    "    I.method1()\n",
    "    I.method2()\n",
    "\n",
    "print(X)\n",
    "nester()\n",
    "print('-'*40)\n",
    "\n",
    "# Global: 1 # Rest: 1, 1, 1, 3"
   ]
  },
  {
   "cell_type": "code",
   "execution_count": 55,
   "metadata": {},
   "outputs": [
    {
     "name": "stdout",
     "output_type": "stream",
     "text": [
      "True\n",
      "True\n",
      "<generator object gen at 0x7f3614534e08>\n",
      "['__class__', '__del__', '__delattr__', '__dir__', '__doc__', '__eq__', '__format__', '__ge__', '__getattribute__', '__gt__', '__hash__', '__init__', '__init_subclass__', '__iter__', '__le__', '__lt__', '__name__', '__ne__', '__new__', '__next__', '__qualname__', '__reduce__', '__reduce_ex__', '__repr__', '__setattr__', '__sizeof__', '__str__', '__subclasshook__', 'close', 'gi_code', 'gi_frame', 'gi_running', 'gi_yieldfrom', 'send', 'throw']\n",
      "\n",
      "mappingproxy({'__del__': <slot wrapper '__del__' of 'generator' objects>,\n",
      "              '__doc__': None,\n",
      "              '__getattribute__': <slot wrapper '__getattribute__' of 'generator' objects>,\n",
      "              '__iter__': <slot wrapper '__iter__' of 'generator' objects>,\n",
      "              '__name__': <attribute '__name__' of 'generator' objects>,\n",
      "              '__next__': <slot wrapper '__next__' of 'generator' objects>,\n",
      "              '__qualname__': <attribute '__qualname__' of 'generator' objects>,\n",
      "              '__repr__': <slot wrapper '__repr__' of 'generator' objects>,\n",
      "              'close': <method 'close' of 'generator' objects>,\n",
      "              'gi_code': <member 'gi_code' of 'generator' objects>,\n",
      "              'gi_frame': <member 'gi_frame' of 'generator' objects>,\n",
      "              'gi_running': <member 'gi_running' of 'generator' objects>,\n",
      "              'gi_yieldfrom': <attribute 'gi_yieldfrom' of 'generator' objects>,\n",
      "              'send': <method 'send' of 'generator' objects>,\n",
      "              'throw': <method 'throw' of 'generator' objects>})\n"
     ]
    },
    {
     "data": {
      "text/plain": [
       "[0, 1, 4, 9, 16]"
      ]
     },
     "execution_count": 55,
     "metadata": {},
     "output_type": "execute_result"
    }
   ],
   "source": [
    "def gen(x):\n",
    "    for i in range(x): yield i ** 2\n",
    "\n",
    "G = gen(5)\n",
    "print(G.__iter__() == G)\n",
    "print(iter(G) == G)\n",
    "print(iter(G))\n",
    "print(dir(iter(G)))\n",
    "print()\n",
    "from pprint import pprint as print\n",
    "print(iter(G).__class__.__dict__)\n",
    "list(gen(5))"
   ]
  },
  {
   "cell_type": "code",
   "execution_count": 48,
   "metadata": {},
   "outputs": [
    {
     "name": "stdout",
     "output_type": "stream",
     "text": [
      "False\n",
      "True\n",
      "<generator object Squares.__iter__ at 0x7f36143630f8>\n",
      "1\n"
     ]
    }
   ],
   "source": [
    "class Squares:                          # __iter__ + yield generator \n",
    "    def __init__(self, start, stop):    # __next__ is automatic/implied\n",
    "        self.start = start\n",
    "        self.stop = stop\n",
    "    def __iter__(self):\n",
    "        for value in range(self.start, self.stop + 1):\n",
    "            yield value ** 2\n",
    "\n",
    "S = Squares(1,5)\n",
    "SI = iter(S)\n",
    "print(SI == S)\n",
    "print(iter(SI) == SI)\n",
    "print(SI)\n",
    "print(next(SI))"
   ]
  },
  {
   "cell_type": "code",
   "execution_count": 11,
   "metadata": {},
   "outputs": [
    {
     "name": "stdout",
     "output_type": "stream",
     "text": [
      "{'age': 50, 'name': 'bob'}\n",
      "mappingproxy({'__dict__': <attribute '__dict__' of 'Accesscontrol' objects>,\n",
      "              '__doc__': None,\n",
      "              '__module__': '__main__',\n",
      "              '__setattr__': <function Accesscontrol.__setattr__ at 0x7eff3420c378>,\n",
      "              '__weakref__': <attribute '__weakref__' of 'Accesscontrol' objects>})\n",
      "mappingproxy({'__class__': <attribute '__class__' of 'object' objects>,\n",
      "              '__delattr__': <slot wrapper '__delattr__' of 'object' objects>,\n",
      "              '__dir__': <method '__dir__' of 'object' objects>,\n",
      "              '__doc__': 'The most base type',\n",
      "              '__eq__': <slot wrapper '__eq__' of 'object' objects>,\n",
      "              '__format__': <method '__format__' of 'object' objects>,\n",
      "              '__ge__': <slot wrapper '__ge__' of 'object' objects>,\n",
      "              '__getattribute__': <slot wrapper '__getattribute__' of 'object' objects>,\n",
      "              '__gt__': <slot wrapper '__gt__' of 'object' objects>,\n",
      "              '__hash__': <slot wrapper '__hash__' of 'object' objects>,\n",
      "              '__init__': <slot wrapper '__init__' of 'object' objects>,\n",
      "              '__init_subclass__': <method '__init_subclass__' of 'object' objects>,\n",
      "              '__le__': <slot wrapper '__le__' of 'object' objects>,\n",
      "              '__lt__': <slot wrapper '__lt__' of 'object' objects>,\n",
      "              '__ne__': <slot wrapper '__ne__' of 'object' objects>,\n",
      "              '__new__': <built-in method __new__ of type object at 0x7eff47c74360>,\n",
      "              '__reduce__': <method '__reduce__' of 'object' objects>,\n",
      "              '__reduce_ex__': <method '__reduce_ex__' of 'object' objects>,\n",
      "              '__repr__': <slot wrapper '__repr__' of 'object' objects>,\n",
      "              '__setattr__': <slot wrapper '__setattr__' of 'object' objects>,\n",
      "              '__sizeof__': <method '__sizeof__' of 'object' objects>,\n",
      "              '__str__': <slot wrapper '__str__' of 'object' objects>,\n",
      "              '__subclasshook__': <method '__subclasshook__' of 'object' objects>})\n"
     ]
    }
   ],
   "source": [
    "class Accesscontrol:\n",
    "    def __setattr__(self, attr, value): # overload __setattr__ in object\n",
    "        if attr == 'age':\n",
    "            self.__dict__[attr] = value + 10 # Not self.name=val or setattr\n",
    "            # self.age = value + 10 # This code will cause an infinite recursion loop\n",
    "        elif attr == 'name':\n",
    "            # object is all class' base class. It defines default __setattr__,\n",
    "            # and it has no __dict__ .\n",
    "            object.__setattr__(self, attr, value)\n",
    "        else:\n",
    "            raise AttributeError(attr + ' not allowed')\n",
    "\n",
    "X = Accesscontrol()\n",
    "X.age = 40\n",
    "X.name = 'bob'\n",
    "\n",
    "from pprint import pprint as print\n",
    "print(X.__dict__)\n",
    "print(X.__class__.__dict__)\n",
    "#print(X.__class__.__bases__)\n",
    "print(X.__class__.__bases__[0].__dict__)"
   ]
  },
  {
   "cell_type": "code",
   "execution_count": 1,
   "metadata": {},
   "outputs": [
    {
     "name": "stdout",
     "output_type": "stream",
     "text": [
      "<__main__.Number object at 0x7f67ac0c9320> <function Number.double at 0x7f67ac0b1b70> 2\n"
     ]
    },
    {
     "data": {
      "text/plain": [
       "4"
      ]
     },
     "execution_count": 1,
     "metadata": {},
     "output_type": "execute_result"
    }
   ],
   "source": [
    "class Number:\n",
    "    def __init__(self, base):\n",
    "        self.base = base\n",
    "    def double(self):\n",
    "        return self.base * 2\n",
    "    def triple(self):\n",
    "        return self.base * 3\n",
    "    \n",
    "x = Number(2)\n",
    "bound = x.double   #bound method\n",
    "\n",
    "from builtins import print\n",
    "print(bound.__self__, bound.__func__, bound.__self__.base)\n",
    "bound() # calls bound.__func__(bound.__self__, ...)\n"
   ]
  },
  {
   "cell_type": "code",
   "execution_count": 8,
   "metadata": {},
   "outputs": [
    {
     "name": "stdout",
     "output_type": "stream",
     "text": [
      "u\n"
     ]
    }
   ],
   "source": [
    "import array\n",
    "arr = array.array(\"u\")\n",
    "print (arr.typecode)"
   ]
  },
  {
   "cell_type": "code",
   "execution_count": 13,
   "metadata": {},
   "outputs": [
    {
     "name": "stdout",
     "output_type": "stream",
     "text": [
      "<function testfunc at 0x7fb8841d1a60>\n",
      "1\n",
      "<function testfunc at 0x7fb8841d1a60>\n",
      "2\n"
     ]
    }
   ],
   "source": [
    "def testfunc():\n",
    "    print(testfunc)\n",
    "    testfunc.state += 1\n",
    "    print(testfunc.state)\n",
    "testfunc.state = 0\n",
    "testfunc()\n",
    "testfunc()"
   ]
  },
  {
   "cell_type": "code",
   "execution_count": 1,
   "metadata": {},
   "outputs": [
    {
     "name": "stdout",
     "output_type": "stream",
     "text": [
      "<class '__main__.cls'> <__main__.cls object at 0x7f607c6c19b0>\n"
     ]
    }
   ],
   "source": [
    "class cls():\n",
    "    state = 1\n",
    "cls_inst = cls()\n",
    "print(cls, cls_inst)"
   ]
  },
  {
   "cell_type": "code",
   "execution_count": 6,
   "metadata": {},
   "outputs": [
    {
     "name": "stdout",
     "output_type": "stream",
     "text": [
      "5\n",
      "6\n",
      "15\n"
     ]
    },
    {
     "data": {
      "text/plain": [
       "15"
      ]
     },
     "execution_count": 6,
     "metadata": {},
     "output_type": "execute_result"
    }
   ],
   "source": [
    "def gen(start):\n",
    "    for i in range(start,start+10):\n",
    "        print(i)\n",
    "        yield i\n",
    "g1 = gen(5)\n",
    "next(g1)\n",
    "next(g1)\n",
    "g2 = gen(15)\n",
    "next(g2)"
   ]
  },
  {
   "cell_type": "code",
   "execution_count": 43,
   "metadata": {},
   "outputs": [
    {
     "name": "stdout",
     "output_type": "stream",
     "text": [
      "__getattribute__ ==> self:<__main__.MyClass object at 0x7f2d0aad6908> name:x\n",
      "__getattribute__ ==> self:<__main__.MyClass object at 0x7f2d0aad6908> name:__dict__\n",
      "get property: __dict__\n",
      "get property: x\n",
      "Retrieving var \"x\"\n",
      "================================================================================\n",
      "__getattribute__ ==> self:<__main__.MyClass object at 0x7f2d0aad6908> name:y\n",
      "__getattribute__ ==> self:<__main__.MyClass object at 0x7f2d0aad6908> name:__dict__\n",
      "get property: __dict__\n",
      "get property: y\n",
      "================================================================================\n",
      "__getattribute__ ==> self:<__main__.MyClass object at 0x7f2d0aad6908> name:__dict__\n",
      "get property: __dict__\n",
      "set property: x\n",
      "Updating var \"x\"\n"
     ]
    }
   ],
   "source": [
    "#####################\n",
    "# Descriptor usage #\n",
    "#####################\n",
    "\n",
    "# https://docs.python.org/3.7/howto/descriptor.html#descriptor-example\n",
    "\n",
    "class RevealAccess(object):\n",
    "    \"\"\"A data descriptor that sets and returns values\n",
    "       normally and prints a message logging their access.\n",
    "    \"\"\"\n",
    "\n",
    "    def __init__(self, initval=None, name='var'):\n",
    "        self.val = initval\n",
    "        self.name = name\n",
    "\n",
    "    def __get__(self, obj, objtype):\n",
    "        print('Retrieving', self.name)\n",
    "        return self.val\n",
    "    \n",
    "    def __set__(self, obj, val):\n",
    "        print('Updating', self.name)\n",
    "        self.val = val\n",
    "\n",
    "class MyClass(object):\n",
    "    x = RevealAccess(10, 'var \"x\"')\n",
    "    y = 5\n",
    "    \n",
    "    def __getattribute__(self, name):\n",
    "        print (\"__getattribute__ ==> self:\" + repr(self) + \" name:\" + str(name))\n",
    "        if name != \"__dict__\" and name in self.__dict__:\n",
    "            print(\"get defined property: \" + str(name))\n",
    "            return self.__dict__[name]\n",
    "        else:\n",
    "            print(\"get property: \" + str(name))\n",
    "            ############################################################################################\n",
    "            # !!!! The object.__getattribute__(...) will handle the invoking of __get__() method. !!!! #\n",
    "            ############################################################################################\n",
    "            return super().__getattribute__(name)\n",
    "\n",
    "    def __setattr__(self, name, value):\n",
    "        if name in self.__dict__:\n",
    "            print(\"set defined property: \" + str(name))\n",
    "            self.__dict__[name] = value\n",
    "        else:\n",
    "            print(\"set property: \" + str(name))\n",
    "            #######################################################################################\n",
    "            # !!!! The object.__setattr__(...) will handle the invoking of __set__() method. !!!! #\n",
    "            #######################################################################################\n",
    "            super().__setattr__(name, value)\n",
    "\n",
    "\n",
    "m = MyClass()\n",
    "m.x\n",
    "print(\"=\" * 80)\n",
    "m.y\n",
    "print(\"=\" * 80)\n",
    "m.x = 1"
   ]
  },
  {
   "cell_type": "markdown",
   "metadata": {},
   "source": [
    "## Overloading class creation calls with metaclasses"
   ]
  },
  {
   "cell_type": "code",
   "execution_count": 6,
   "metadata": {},
   "outputs": [
    {
     "name": "stdout",
     "output_type": "stream",
     "text": [
      "making metaclass\n",
      "In SuperMeta.new: \n",
      "...SubMeta\n",
      "...(<class 'type'>,)\n",
      "...{'__module__': '__main__', '__qualname__': 'SubMeta', '__new__': <function SubMeta.__new__ at 0x7fffe82bc1f0>, '__init__': <function SubMeta.__init__ at 0x7fffe82bc280>}\n",
      "In SuperMeta init:\n",
      "...SubMeta\n",
      "...(<class 'type'>,)\n",
      "...{'__module__': '__main__', '__qualname__': 'SubMeta', '__new__': <function SubMeta.__new__ at 0x7fffe82bc1f0>, '__init__': <function SubMeta.__init__ at 0x7fffe82bc280>}\n",
      "...init class object: ['__module__', '__new__', '__init__', '__doc__']\n",
      "making class\n",
      "In SuperMeta.call: \n",
      "...Spam\n",
      "...(<class '__main__.Eggs'>,)\n",
      "...{'__module__': '__main__', '__qualname__': 'Spam', 'data': 1, 'meth': <function Spam.meth at 0x7fffe82bcf70>}\n",
      "In SubMeta.new: \n",
      "...Spam\n",
      "...(<class '__main__.Eggs'>,)\n",
      "...{'__module__': '__main__', '__qualname__': 'Spam', 'data': 1, 'meth': <function Spam.meth at 0x7fffe82bcf70>}\n",
      "In SubMeta init:\n",
      "...Spam\n",
      "...(<class '__main__.Eggs'>,)\n",
      "...{'__module__': '__main__', '__qualname__': 'Spam', 'data': 1, 'meth': <function Spam.meth at 0x7fffe82bcf70>}\n",
      "...init class object: ['__module__', 'data', 'meth', '__doc__']\n",
      "making instance\n",
      "data: 1 3\n"
     ]
    }
   ],
   "source": [
    "class SuperMeta(type):                                                         \n",
    "    def __call__(meta, classname, supers, classdict):                          \n",
    "        print('In SuperMeta.call: ', classname, supers, classdict, sep='\\n...')\n",
    "        return type.__call__(meta, classname, supers, classdict)               \n",
    "    def __new__(meta, classname, supers, classdict):\n",
    "        print('In SuperMeta.new: ', classname, supers, classdict, sep='\\n...')\n",
    "        return type.__new__(meta, classname, supers, classdict)\n",
    "    def __init__(Class, classname, supers, classdict):                         \n",
    "        print('In SuperMeta init:', classname, supers, classdict, sep='\\n...') \n",
    "        print('...init class object:', list(Class.__dict__.keys()))            \n",
    "                                                                               \n",
    "print('making metaclass')                                                      \n",
    "class SubMeta(type, metaclass=SuperMeta):                                      \n",
    "    def __new__(meta, classname, supers, classdict):                           \n",
    "        print('In SubMeta.new: ', classname, supers, classdict, sep='\\n...')   \n",
    "        return type.__new__(meta, classname, supers, classdict)                \n",
    "    def __init__(Class, classname, supers, classdict):                         \n",
    "        print('In SubMeta init:', classname, supers, classdict, sep='\\n...')   \n",
    "        print('...init class object:', list(Class.__dict__.keys()))            \n",
    "                                                                               \n",
    "class Eggs:                                                                    \n",
    "    pass                                                                       \n",
    "                                                                               \n",
    "print('making class')                                                          \n",
    "class Spam(Eggs, metaclass=SubMeta): # Invoke SubMeta, via SuperMeta.__call__  \n",
    "    data = 1                                                                   \n",
    "    def meth(self, arg):                                                       \n",
    "        return self.data + arg                                                 \n",
    "                                                                               \n",
    "print('making instance')                                                       \n",
    "X = Spam()                                                                     \n",
    "print('data:', X.data, X.meth(2))                                              "
   ]
  },
  {
   "cell_type": "code",
   "execution_count": 12,
   "metadata": {},
   "outputs": [
    {
     "data": {
      "text/plain": [
       "type"
      ]
     },
     "execution_count": 12,
     "metadata": {},
     "output_type": "execute_result"
    }
   ],
   "source": [
    "type(SuperMeta)"
   ]
  },
  {
   "cell_type": "code",
   "execution_count": 25,
   "metadata": {},
   "outputs": [
    {
     "name": "stdout",
     "output_type": "stream",
     "text": [
      "A.B.C.testfunc\n",
      "A.B.C.testfunc\n"
     ]
    }
   ],
   "source": [
    "class A:\n",
    "    class B:\n",
    "        class C:\n",
    "            def testfunc():\n",
    "                pass\n",
    "\n",
    "dir(A.B.C.testfunc)\n",
    "print(A.B.C.testfunc.__qualname__)\n",
    "global_testfunc = A.B.C.testfunc\n",
    "print(global_testfunc.__qualname__)"
   ]
  },
  {
   "cell_type": "code",
   "execution_count": 28,
   "metadata": {},
   "outputs": [
    {
     "data": {
      "text/plain": [
       "[('__annotations__', {}),\n",
       " ('__call__',\n",
       "  <method-wrapper '__call__' of function object at 0x7fffe83155e0>),\n",
       " ('__class__', function),\n",
       " ('__closure__', None),\n",
       " ('__code__',\n",
       "  <code object testfunc at 0x7fffe822af50, file \"/tmp/ipykernel_35316/611126812.py\", line 4>),\n",
       " ('__defaults__', None),\n",
       " ('__delattr__',\n",
       "  <method-wrapper '__delattr__' of function object at 0x7fffe83155e0>),\n",
       " ('__dict__', {}),\n",
       " ('__dir__', <function function.__dir__()>),\n",
       " ('__doc__', None),\n",
       " ('__eq__', <method-wrapper '__eq__' of function object at 0x7fffe83155e0>),\n",
       " ('__format__', <function function.__format__(format_spec, /)>),\n",
       " ('__ge__', <method-wrapper '__ge__' of function object at 0x7fffe83155e0>),\n",
       " ('__get__', <method-wrapper '__get__' of function object at 0x7fffe83155e0>),\n",
       " ('__getattribute__',\n",
       "  <method-wrapper '__getattribute__' of function object at 0x7fffe83155e0>),\n",
       " ('__globals__',\n",
       "  {'__name__': '__main__',\n",
       "   '__doc__': 'Automatically created module for IPython interactive environment',\n",
       "   '__package__': None,\n",
       "   '__loader__': None,\n",
       "   '__spec__': None,\n",
       "   '__builtin__': <module 'builtins' (built-in)>,\n",
       "   '__builtins__': <module 'builtins' (built-in)>,\n",
       "   '_ih': ['',\n",
       "    '## Overloading class creation calls with metaclasses',\n",
       "    \"class SuperMeta(type):                                                         \\n    def __call__(meta, classname, supers, classdict):                          \\n        print('In SuperMeta.call: ', classname, supers, classdict, sep='\\\\n...')\\n        return type.__call__(meta, classname, supers, classdict)               \\n    def __init__(Class, classname, supers, classdict):                         \\n        print('In SuperMeta init:', classname, supers, classdict, sep='\\\\n...') \\n        print('...init class object:', list(Class.__dict__.keys()))            \\n                                                                               \\nprint('making metaclass')                                                      \\nclass SubMeta(type, metaclass=SuperMeta):                                      \\n    def __new__(meta, classname, supers, classdict):                           \\n        print('In SubMeta.new: ', classname, supers, classdict, sep='\\\\n...')   \\n        return type.__new__(meta, classname, supers, classdict)                \\n    def __init__(Class, classname, supers, classdict):                         \\n        print('In SubMeta init:', classname, supers, classdict, sep='\\\\n...')   \\n        print('...init class object:', list(Class.__dict__.keys()))            \\n                                                                               \\nclass Eggs:                                                                    \\n    pass                                                                       \\n                                                                               \\nprint('making class')                                                          \\nclass Spam(Eggs, metaclass=SubMeta): # Invoke SubMeta, via SuperMeta.__call__  \\n    data = 1                                                                   \\n    def meth(self, arg):                                                       \\n        return self.data + arg                                                 \\n                                                                               \\nprint('making instance')                                                       \\nX = Spam()                                                                     \\nprint('data:', X.data, X.meth(2))                                              \",\n",
       "    \"class SuperMeta(type):                                                         \\n    def __call__(meta, classname, supers, classdict):                          \\n        print('In SuperMeta.call: ', classname, supers, classdict, sep='\\\\n...')\\n        return type.__call__(meta, classname, supers, classdict)               \\n    def __new__(meta, classname, supers, classdict):                           \\n        print('In SuperMeta.new: ', classname, supers, classdict, sep='\\\\n...')   \\n        return type.__new__(meta, classname, supers, classdict)         \\n    def __init__(Class, classname, supers, classdict):                         \\n        print('In SuperMeta init:', classname, supers, classdict, sep='\\\\n...') \\n        print('...init class object:', list(Class.__dict__.keys()))            \\n                                                                               \\nprint('making metaclass')                                                      \\nclass SubMeta(type, metaclass=SuperMeta):                                      \\n    def __new__(meta, classname, supers, classdict):                           \\n        print('In SubMeta.new: ', classname, supers, classdict, sep='\\\\n...')   \\n        return type.__new__(meta, classname, supers, classdict:)                \\n    def __init__(Class, classname, supers, classdict):                         \\n        print('In SubMeta init:', classname, supers, classdict, sep='\\\\n...')   \\n        print('...init class object:', list(Class.__dict__.keys()))            \\n                                                                               \\nclass Eggs:                                                                    \\n    pass                                                                       \\n                                                                               \\nprint('making class')                                                          \\nclass Spam(Eggs, metaclass=SubMeta): # Invoke SubMeta, via SuperMeta.__call__  \\n    data = 1                                                                   \\n    def meth(self, arg):                                                       \\n        return self.data + arg                                                 \\n                                                                               \\nprint('making instance')                                                       \\nX = Spam()                                                                     \\nprint('data:', X.data, X.meth(2))                                              \",\n",
       "    \"class SuperMeta(type):                                                         \\n    def __call__(meta, classname, supers, classdict):                          \\n        print('In SuperMeta.call: ', classname, supers, classdict, sep='\\\\n...')\\n        return type.__call__(meta, classname, supers, classdict)               \\n    def __new__(meta, classname, supers, classdict):\\n        print('In SuperMeta.new: ', classname, supers, classdict, sep='\\\\n...')   \\n        return type.__new__(meta, classname, supers, classdict)         \\n    def __init__(Class, classname, supers, classdict):                         \\n        print('In SuperMeta init:', classname, supers, classdict, sep='\\\\n...') \\n        print('...init class object:', list(Class.__dict__.keys()))            \\n                                                                               \\nprint('making metaclass')                                                      \\nclass SubMeta(type, metaclass=SuperMeta):                                      \\n    def __new__(meta, classname, supers, classdict):                           \\n        print('In SubMeta.new: ', classname, supers, classdict, sep='\\\\n...')   \\n        return type.__new__(meta, classname, supers, classdict:)                \\n    def __init__(Class, classname, supers, classdict):                         \\n        print('In SubMeta init:', classname, supers, classdict, sep='\\\\n...')   \\n        print('...init class object:', list(Class.__dict__.keys()))            \\n                                                                               \\nclass Eggs:                                                                    \\n    pass                                                                       \\n                                                                               \\nprint('making class')                                                          \\nclass Spam(Eggs, metaclass=SubMeta): # Invoke SubMeta, via SuperMeta.__call__  \\n    data = 1                                                                   \\n    def meth(self, arg):                                                       \\n        return self.data + arg                                                 \\n                                                                               \\nprint('making instance')                                                       \\nX = Spam()                                                                     \\nprint('data:', X.data, X.meth(2))                                              \",\n",
       "    \"class SuperMeta(type):                                                         \\n    def __call__(meta, classname, supers, classdict):                          \\n        print('In SuperMeta.call: ', classname, supers, classdict, sep='\\\\n...')\\n        return type.__call__(meta, classname, supers, classdict)               \\n    def __new__(meta, classname, supers, classdict):\\n        print('In SuperMeta.new: ', classname, supers, classdict, sep='\\\\n...')\\n        return type.__new__(meta, classname, supers, classdict)\\n    def __init__(Class, classname, supers, classdict):                         \\n        print('In SuperMeta init:', classname, supers, classdict, sep='\\\\n...') \\n        print('...init class object:', list(Class.__dict__.keys()))            \\n                                                                               \\nprint('making metaclass')                                                      \\nclass SubMeta(type, metaclass=SuperMeta):                                      \\n    def __new__(meta, classname, supers, classdict):                           \\n        print('In SubMeta.new: ', classname, supers, classdict, sep='\\\\n...')   \\n        return type.__new__(meta, classname, supers, classdict:)                \\n    def __init__(Class, classname, supers, classdict):                         \\n        print('In SubMeta init:', classname, supers, classdict, sep='\\\\n...')   \\n        print('...init class object:', list(Class.__dict__.keys()))            \\n                                                                               \\nclass Eggs:                                                                    \\n    pass                                                                       \\n                                                                               \\nprint('making class')                                                          \\nclass Spam(Eggs, metaclass=SubMeta): # Invoke SubMeta, via SuperMeta.__call__  \\n    data = 1                                                                   \\n    def meth(self, arg):                                                       \\n        return self.data + arg                                                 \\n                                                                               \\nprint('making instance')                                                       \\nX = Spam()                                                                     \\nprint('data:', X.data, X.meth(2))                                              \",\n",
       "    \"class SuperMeta(type):                                                         \\n    def __call__(meta, classname, supers, classdict):                          \\n        print('In SuperMeta.call: ', classname, supers, classdict, sep='\\\\n...')\\n        return type.__call__(meta, classname, supers, classdict)               \\n    def __new__(meta, classname, supers, classdict):\\n        print('In SuperMeta.new: ', classname, supers, classdict, sep='\\\\n...')\\n        return type.__new__(meta, classname, supers, classdict)\\n    def __init__(Class, classname, supers, classdict):                         \\n        print('In SuperMeta init:', classname, supers, classdict, sep='\\\\n...') \\n        print('...init class object:', list(Class.__dict__.keys()))            \\n                                                                               \\nprint('making metaclass')                                                      \\nclass SubMeta(type, metaclass=SuperMeta):                                      \\n    def __new__(meta, classname, supers, classdict):                           \\n        print('In SubMeta.new: ', classname, supers, classdict, sep='\\\\n...')   \\n        return type.__new__(meta, classname, supers, classdict)                \\n    def __init__(Class, classname, supers, classdict):                         \\n        print('In SubMeta init:', classname, supers, classdict, sep='\\\\n...')   \\n        print('...init class object:', list(Class.__dict__.keys()))            \\n                                                                               \\nclass Eggs:                                                                    \\n    pass                                                                       \\n                                                                               \\nprint('making class')                                                          \\nclass Spam(Eggs, metaclass=SubMeta): # Invoke SubMeta, via SuperMeta.__call__  \\n    data = 1                                                                   \\n    def meth(self, arg):                                                       \\n        return self.data + arg                                                 \\n                                                                               \\nprint('making instance')                                                       \\nX = Spam()                                                                     \\nprint('data:', X.data, X.meth(2))                                              \",\n",
       "    'type(type)',\n",
       "    'type(object)',\n",
       "    'type',\n",
       "    'repr(type)',\n",
       "    'class testcls:\\n    @classmethod\\n    def __call__(meta, classname, supers, classdict):\\n        print(\"invoked clsmtd call!\\\\n\")\\n        \\na = testcls()',\n",
       "    'type(SuperMeta)',\n",
       "    'def testfunc:\\n    pass\\n\\ndir(testfunc)',\n",
       "    'def testfunc():\\n    pass\\n\\ndir(testfunc)',\n",
       "    \"def testfunc():\\n    pass\\n\\ndir(testfunc)\\ntestfunc.__dict__['__qualname__']\",\n",
       "    'def testfunc():\\n    pass\\n\\ndir(testfunc)\\ntestfunc.__dict__',\n",
       "    'def testfunc():\\n    pass\\n\\ndir(testfunc)\\ntype(testfunc.__qualname__)',\n",
       "    'class A:\\n    class B:\\n        class C:\\n            def testfunc():\\n                pass\\n\\ndir(A.B.C.testfunc)\\ntype(testfunc.__qualname__)',\n",
       "    'class A:\\n    class B:\\n        class C:\\n            def testfunc():\\n                pass\\n\\ndir(A.B.C.testfunc)\\ntestfunc.__qualname__',\n",
       "    'class A:\\n    class B:\\n        class C:\\n            def testfunc():\\n                pass\\n\\ndir(A.B.C.testfunc)\\nA.B.C.testfunc.__qualname__',\n",
       "    'class A:\\n    class B:\\n        class C:\\n            def testfunc():\\n                pass\\n\\ndir(A.B.C.testfunc)\\nA.B.C.testfunc.__qualname__\\nglobal_testfunc = A.B.C.testfunc\\nglobal_testfunc.__qualname__',\n",
       "    'class A:\\n    class B:\\n        class C:\\n            def testfunc():\\n                pass\\n\\ndir(A.B.C.testfunc)\\nA.B.C.testfunc.__qualname__\\nglobal_testfunc = A.B.C.testfunc\\nglobal_testfunc.__qualname__',\n",
       "    'class A:\\n    class B:\\n        class C:\\n            def testfunc():\\n                pass\\n\\ndir(A.B.C.testfunc)\\nprint(A.B.C.testfunc.__qualname__)\\nglobal_testfunc = A.B.C.testfunc\\nprint(global_testfunc.__qualname__)',\n",
       "    'class A:\\n    class B:\\n        class C:\\n            def testfunc():\\n                pass\\n\\ndir(A.B.C.testfunc)\\nprint(A.B.C.testfunc.__qualname__)\\nglobal_testfunc = A.B.C.testfunc\\nprint(global_testfunc.__qualname__)',\n",
       "    'class A:\\n    class B:\\n        class C:\\n            def testfunc():\\n                pass\\n\\ndir(A.B.C.testfunc)\\nprint(A.B.C.testfunc.__qualname__)\\nglobal_testfunc = A.B.C.testfunc\\nprint(global_testfunc.__qualname__)',\n",
       "    'import inspect',\n",
       "    'import inspect\\n\\ninspect.getmembers(global_testfunc)',\n",
       "    'import inspect\\n\\ninspect.getmembers(A.B.C.testfunc)'],\n",
       "   '_oh': {7: type,\n",
       "    8: type,\n",
       "    9: type,\n",
       "    10: \"<class 'type'>\",\n",
       "    12: type,\n",
       "    14: ['__annotations__',\n",
       "     '__call__',\n",
       "     '__class__',\n",
       "     '__closure__',\n",
       "     '__code__',\n",
       "     '__defaults__',\n",
       "     '__delattr__',\n",
       "     '__dict__',\n",
       "     '__dir__',\n",
       "     '__doc__',\n",
       "     '__eq__',\n",
       "     '__format__',\n",
       "     '__ge__',\n",
       "     '__get__',\n",
       "     '__getattribute__',\n",
       "     '__globals__',\n",
       "     '__gt__',\n",
       "     '__hash__',\n",
       "     '__init__',\n",
       "     '__init_subclass__',\n",
       "     '__kwdefaults__',\n",
       "     '__le__',\n",
       "     '__lt__',\n",
       "     '__module__',\n",
       "     '__name__',\n",
       "     '__ne__',\n",
       "     '__new__',\n",
       "     '__qualname__',\n",
       "     '__reduce__',\n",
       "     '__reduce_ex__',\n",
       "     '__repr__',\n",
       "     '__setattr__',\n",
       "     '__sizeof__',\n",
       "     '__str__',\n",
       "     '__subclasshook__'],\n",
       "    16: {},\n",
       "    17: str,\n",
       "    18: str,\n",
       "    19: 'testfunc',\n",
       "    20: 'A.B.C.testfunc',\n",
       "    21: 'A.B.C.testfunc',\n",
       "    22: 'A.B.C.testfunc',\n",
       "    27: [('__annotations__', {}),\n",
       "     ('__call__',\n",
       "      <method-wrapper '__call__' of function object at 0x7fffe83155e0>),\n",
       "     ('__class__', function),\n",
       "     ('__closure__', None),\n",
       "     ('__code__',\n",
       "      <code object testfunc at 0x7fffe822af50, file \"/tmp/ipykernel_35316/611126812.py\", line 4>),\n",
       "     ('__defaults__', None),\n",
       "     ('__delattr__',\n",
       "      <method-wrapper '__delattr__' of function object at 0x7fffe83155e0>),\n",
       "     ('__dict__', {}),\n",
       "     ('__dir__', <function function.__dir__()>),\n",
       "     ('__doc__', None),\n",
       "     ('__eq__',\n",
       "      <method-wrapper '__eq__' of function object at 0x7fffe83155e0>),\n",
       "     ('__format__', <function function.__format__(format_spec, /)>),\n",
       "     ('__ge__',\n",
       "      <method-wrapper '__ge__' of function object at 0x7fffe83155e0>),\n",
       "     ('__get__',\n",
       "      <method-wrapper '__get__' of function object at 0x7fffe83155e0>),\n",
       "     ('__getattribute__',\n",
       "      <method-wrapper '__getattribute__' of function object at 0x7fffe83155e0>),\n",
       "     ('__globals__', {...}),\n",
       "     ('__gt__',\n",
       "      <method-wrapper '__gt__' of function object at 0x7fffe83155e0>),\n",
       "     ('__hash__',\n",
       "      <method-wrapper '__hash__' of function object at 0x7fffe83155e0>),\n",
       "     ('__init__',\n",
       "      <method-wrapper '__init__' of function object at 0x7fffe83155e0>),\n",
       "     ('__init_subclass__', <function function.__init_subclass__>),\n",
       "     ('__kwdefaults__', None),\n",
       "     ('__le__',\n",
       "      <method-wrapper '__le__' of function object at 0x7fffe83155e0>),\n",
       "     ('__lt__',\n",
       "      <method-wrapper '__lt__' of function object at 0x7fffe83155e0>),\n",
       "     ('__module__', '__main__'),\n",
       "     ('__name__', 'testfunc'),\n",
       "     ('__ne__',\n",
       "      <method-wrapper '__ne__' of function object at 0x7fffe83155e0>),\n",
       "     ('__new__', <function function.__new__(*args, **kwargs)>),\n",
       "     ('__qualname__', 'A.B.C.testfunc'),\n",
       "     ('__reduce__', <function function.__reduce__()>),\n",
       "     ('__reduce_ex__', <function function.__reduce_ex__(protocol, /)>),\n",
       "     ('__repr__',\n",
       "      <method-wrapper '__repr__' of function object at 0x7fffe83155e0>),\n",
       "     ('__setattr__',\n",
       "      <method-wrapper '__setattr__' of function object at 0x7fffe83155e0>),\n",
       "     ('__sizeof__', <function function.__sizeof__()>),\n",
       "     ('__str__',\n",
       "      <method-wrapper '__str__' of function object at 0x7fffe83155e0>),\n",
       "     ('__subclasshook__', <function function.__subclasshook__>)]},\n",
       "   '_dh': ['/home/scratch.edwardc_gpu_2/lab/data/notebook_root/mypylab'],\n",
       "   'In': ['',\n",
       "    '## Overloading class creation calls with metaclasses',\n",
       "    \"class SuperMeta(type):                                                         \\n    def __call__(meta, classname, supers, classdict):                          \\n        print('In SuperMeta.call: ', classname, supers, classdict, sep='\\\\n...')\\n        return type.__call__(meta, classname, supers, classdict)               \\n    def __init__(Class, classname, supers, classdict):                         \\n        print('In SuperMeta init:', classname, supers, classdict, sep='\\\\n...') \\n        print('...init class object:', list(Class.__dict__.keys()))            \\n                                                                               \\nprint('making metaclass')                                                      \\nclass SubMeta(type, metaclass=SuperMeta):                                      \\n    def __new__(meta, classname, supers, classdict):                           \\n        print('In SubMeta.new: ', classname, supers, classdict, sep='\\\\n...')   \\n        return type.__new__(meta, classname, supers, classdict)                \\n    def __init__(Class, classname, supers, classdict):                         \\n        print('In SubMeta init:', classname, supers, classdict, sep='\\\\n...')   \\n        print('...init class object:', list(Class.__dict__.keys()))            \\n                                                                               \\nclass Eggs:                                                                    \\n    pass                                                                       \\n                                                                               \\nprint('making class')                                                          \\nclass Spam(Eggs, metaclass=SubMeta): # Invoke SubMeta, via SuperMeta.__call__  \\n    data = 1                                                                   \\n    def meth(self, arg):                                                       \\n        return self.data + arg                                                 \\n                                                                               \\nprint('making instance')                                                       \\nX = Spam()                                                                     \\nprint('data:', X.data, X.meth(2))                                              \",\n",
       "    \"class SuperMeta(type):                                                         \\n    def __call__(meta, classname, supers, classdict):                          \\n        print('In SuperMeta.call: ', classname, supers, classdict, sep='\\\\n...')\\n        return type.__call__(meta, classname, supers, classdict)               \\n    def __new__(meta, classname, supers, classdict):                           \\n        print('In SuperMeta.new: ', classname, supers, classdict, sep='\\\\n...')   \\n        return type.__new__(meta, classname, supers, classdict)         \\n    def __init__(Class, classname, supers, classdict):                         \\n        print('In SuperMeta init:', classname, supers, classdict, sep='\\\\n...') \\n        print('...init class object:', list(Class.__dict__.keys()))            \\n                                                                               \\nprint('making metaclass')                                                      \\nclass SubMeta(type, metaclass=SuperMeta):                                      \\n    def __new__(meta, classname, supers, classdict):                           \\n        print('In SubMeta.new: ', classname, supers, classdict, sep='\\\\n...')   \\n        return type.__new__(meta, classname, supers, classdict:)                \\n    def __init__(Class, classname, supers, classdict):                         \\n        print('In SubMeta init:', classname, supers, classdict, sep='\\\\n...')   \\n        print('...init class object:', list(Class.__dict__.keys()))            \\n                                                                               \\nclass Eggs:                                                                    \\n    pass                                                                       \\n                                                                               \\nprint('making class')                                                          \\nclass Spam(Eggs, metaclass=SubMeta): # Invoke SubMeta, via SuperMeta.__call__  \\n    data = 1                                                                   \\n    def meth(self, arg):                                                       \\n        return self.data + arg                                                 \\n                                                                               \\nprint('making instance')                                                       \\nX = Spam()                                                                     \\nprint('data:', X.data, X.meth(2))                                              \",\n",
       "    \"class SuperMeta(type):                                                         \\n    def __call__(meta, classname, supers, classdict):                          \\n        print('In SuperMeta.call: ', classname, supers, classdict, sep='\\\\n...')\\n        return type.__call__(meta, classname, supers, classdict)               \\n    def __new__(meta, classname, supers, classdict):\\n        print('In SuperMeta.new: ', classname, supers, classdict, sep='\\\\n...')   \\n        return type.__new__(meta, classname, supers, classdict)         \\n    def __init__(Class, classname, supers, classdict):                         \\n        print('In SuperMeta init:', classname, supers, classdict, sep='\\\\n...') \\n        print('...init class object:', list(Class.__dict__.keys()))            \\n                                                                               \\nprint('making metaclass')                                                      \\nclass SubMeta(type, metaclass=SuperMeta):                                      \\n    def __new__(meta, classname, supers, classdict):                           \\n        print('In SubMeta.new: ', classname, supers, classdict, sep='\\\\n...')   \\n        return type.__new__(meta, classname, supers, classdict:)                \\n    def __init__(Class, classname, supers, classdict):                         \\n        print('In SubMeta init:', classname, supers, classdict, sep='\\\\n...')   \\n        print('...init class object:', list(Class.__dict__.keys()))            \\n                                                                               \\nclass Eggs:                                                                    \\n    pass                                                                       \\n                                                                               \\nprint('making class')                                                          \\nclass Spam(Eggs, metaclass=SubMeta): # Invoke SubMeta, via SuperMeta.__call__  \\n    data = 1                                                                   \\n    def meth(self, arg):                                                       \\n        return self.data + arg                                                 \\n                                                                               \\nprint('making instance')                                                       \\nX = Spam()                                                                     \\nprint('data:', X.data, X.meth(2))                                              \",\n",
       "    \"class SuperMeta(type):                                                         \\n    def __call__(meta, classname, supers, classdict):                          \\n        print('In SuperMeta.call: ', classname, supers, classdict, sep='\\\\n...')\\n        return type.__call__(meta, classname, supers, classdict)               \\n    def __new__(meta, classname, supers, classdict):\\n        print('In SuperMeta.new: ', classname, supers, classdict, sep='\\\\n...')\\n        return type.__new__(meta, classname, supers, classdict)\\n    def __init__(Class, classname, supers, classdict):                         \\n        print('In SuperMeta init:', classname, supers, classdict, sep='\\\\n...') \\n        print('...init class object:', list(Class.__dict__.keys()))            \\n                                                                               \\nprint('making metaclass')                                                      \\nclass SubMeta(type, metaclass=SuperMeta):                                      \\n    def __new__(meta, classname, supers, classdict):                           \\n        print('In SubMeta.new: ', classname, supers, classdict, sep='\\\\n...')   \\n        return type.__new__(meta, classname, supers, classdict:)                \\n    def __init__(Class, classname, supers, classdict):                         \\n        print('In SubMeta init:', classname, supers, classdict, sep='\\\\n...')   \\n        print('...init class object:', list(Class.__dict__.keys()))            \\n                                                                               \\nclass Eggs:                                                                    \\n    pass                                                                       \\n                                                                               \\nprint('making class')                                                          \\nclass Spam(Eggs, metaclass=SubMeta): # Invoke SubMeta, via SuperMeta.__call__  \\n    data = 1                                                                   \\n    def meth(self, arg):                                                       \\n        return self.data + arg                                                 \\n                                                                               \\nprint('making instance')                                                       \\nX = Spam()                                                                     \\nprint('data:', X.data, X.meth(2))                                              \",\n",
       "    \"class SuperMeta(type):                                                         \\n    def __call__(meta, classname, supers, classdict):                          \\n        print('In SuperMeta.call: ', classname, supers, classdict, sep='\\\\n...')\\n        return type.__call__(meta, classname, supers, classdict)               \\n    def __new__(meta, classname, supers, classdict):\\n        print('In SuperMeta.new: ', classname, supers, classdict, sep='\\\\n...')\\n        return type.__new__(meta, classname, supers, classdict)\\n    def __init__(Class, classname, supers, classdict):                         \\n        print('In SuperMeta init:', classname, supers, classdict, sep='\\\\n...') \\n        print('...init class object:', list(Class.__dict__.keys()))            \\n                                                                               \\nprint('making metaclass')                                                      \\nclass SubMeta(type, metaclass=SuperMeta):                                      \\n    def __new__(meta, classname, supers, classdict):                           \\n        print('In SubMeta.new: ', classname, supers, classdict, sep='\\\\n...')   \\n        return type.__new__(meta, classname, supers, classdict)                \\n    def __init__(Class, classname, supers, classdict):                         \\n        print('In SubMeta init:', classname, supers, classdict, sep='\\\\n...')   \\n        print('...init class object:', list(Class.__dict__.keys()))            \\n                                                                               \\nclass Eggs:                                                                    \\n    pass                                                                       \\n                                                                               \\nprint('making class')                                                          \\nclass Spam(Eggs, metaclass=SubMeta): # Invoke SubMeta, via SuperMeta.__call__  \\n    data = 1                                                                   \\n    def meth(self, arg):                                                       \\n        return self.data + arg                                                 \\n                                                                               \\nprint('making instance')                                                       \\nX = Spam()                                                                     \\nprint('data:', X.data, X.meth(2))                                              \",\n",
       "    'type(type)',\n",
       "    'type(object)',\n",
       "    'type',\n",
       "    'repr(type)',\n",
       "    'class testcls:\\n    @classmethod\\n    def __call__(meta, classname, supers, classdict):\\n        print(\"invoked clsmtd call!\\\\n\")\\n        \\na = testcls()',\n",
       "    'type(SuperMeta)',\n",
       "    'def testfunc:\\n    pass\\n\\ndir(testfunc)',\n",
       "    'def testfunc():\\n    pass\\n\\ndir(testfunc)',\n",
       "    \"def testfunc():\\n    pass\\n\\ndir(testfunc)\\ntestfunc.__dict__['__qualname__']\",\n",
       "    'def testfunc():\\n    pass\\n\\ndir(testfunc)\\ntestfunc.__dict__',\n",
       "    'def testfunc():\\n    pass\\n\\ndir(testfunc)\\ntype(testfunc.__qualname__)',\n",
       "    'class A:\\n    class B:\\n        class C:\\n            def testfunc():\\n                pass\\n\\ndir(A.B.C.testfunc)\\ntype(testfunc.__qualname__)',\n",
       "    'class A:\\n    class B:\\n        class C:\\n            def testfunc():\\n                pass\\n\\ndir(A.B.C.testfunc)\\ntestfunc.__qualname__',\n",
       "    'class A:\\n    class B:\\n        class C:\\n            def testfunc():\\n                pass\\n\\ndir(A.B.C.testfunc)\\nA.B.C.testfunc.__qualname__',\n",
       "    'class A:\\n    class B:\\n        class C:\\n            def testfunc():\\n                pass\\n\\ndir(A.B.C.testfunc)\\nA.B.C.testfunc.__qualname__\\nglobal_testfunc = A.B.C.testfunc\\nglobal_testfunc.__qualname__',\n",
       "    'class A:\\n    class B:\\n        class C:\\n            def testfunc():\\n                pass\\n\\ndir(A.B.C.testfunc)\\nA.B.C.testfunc.__qualname__\\nglobal_testfunc = A.B.C.testfunc\\nglobal_testfunc.__qualname__',\n",
       "    'class A:\\n    class B:\\n        class C:\\n            def testfunc():\\n                pass\\n\\ndir(A.B.C.testfunc)\\nprint(A.B.C.testfunc.__qualname__)\\nglobal_testfunc = A.B.C.testfunc\\nprint(global_testfunc.__qualname__)',\n",
       "    'class A:\\n    class B:\\n        class C:\\n            def testfunc():\\n                pass\\n\\ndir(A.B.C.testfunc)\\nprint(A.B.C.testfunc.__qualname__)\\nglobal_testfunc = A.B.C.testfunc\\nprint(global_testfunc.__qualname__)',\n",
       "    'class A:\\n    class B:\\n        class C:\\n            def testfunc():\\n                pass\\n\\ndir(A.B.C.testfunc)\\nprint(A.B.C.testfunc.__qualname__)\\nglobal_testfunc = A.B.C.testfunc\\nprint(global_testfunc.__qualname__)',\n",
       "    'import inspect',\n",
       "    'import inspect\\n\\ninspect.getmembers(global_testfunc)',\n",
       "    'import inspect\\n\\ninspect.getmembers(A.B.C.testfunc)'],\n",
       "   'Out': {7: type,\n",
       "    8: type,\n",
       "    9: type,\n",
       "    10: \"<class 'type'>\",\n",
       "    12: type,\n",
       "    14: ['__annotations__',\n",
       "     '__call__',\n",
       "     '__class__',\n",
       "     '__closure__',\n",
       "     '__code__',\n",
       "     '__defaults__',\n",
       "     '__delattr__',\n",
       "     '__dict__',\n",
       "     '__dir__',\n",
       "     '__doc__',\n",
       "     '__eq__',\n",
       "     '__format__',\n",
       "     '__ge__',\n",
       "     '__get__',\n",
       "     '__getattribute__',\n",
       "     '__globals__',\n",
       "     '__gt__',\n",
       "     '__hash__',\n",
       "     '__init__',\n",
       "     '__init_subclass__',\n",
       "     '__kwdefaults__',\n",
       "     '__le__',\n",
       "     '__lt__',\n",
       "     '__module__',\n",
       "     '__name__',\n",
       "     '__ne__',\n",
       "     '__new__',\n",
       "     '__qualname__',\n",
       "     '__reduce__',\n",
       "     '__reduce_ex__',\n",
       "     '__repr__',\n",
       "     '__setattr__',\n",
       "     '__sizeof__',\n",
       "     '__str__',\n",
       "     '__subclasshook__'],\n",
       "    16: {},\n",
       "    17: str,\n",
       "    18: str,\n",
       "    19: 'testfunc',\n",
       "    20: 'A.B.C.testfunc',\n",
       "    21: 'A.B.C.testfunc',\n",
       "    22: 'A.B.C.testfunc',\n",
       "    27: [('__annotations__', {}),\n",
       "     ('__call__',\n",
       "      <method-wrapper '__call__' of function object at 0x7fffe83155e0>),\n",
       "     ('__class__', function),\n",
       "     ('__closure__', None),\n",
       "     ('__code__',\n",
       "      <code object testfunc at 0x7fffe822af50, file \"/tmp/ipykernel_35316/611126812.py\", line 4>),\n",
       "     ('__defaults__', None),\n",
       "     ('__delattr__',\n",
       "      <method-wrapper '__delattr__' of function object at 0x7fffe83155e0>),\n",
       "     ('__dict__', {}),\n",
       "     ('__dir__', <function function.__dir__()>),\n",
       "     ('__doc__', None),\n",
       "     ('__eq__',\n",
       "      <method-wrapper '__eq__' of function object at 0x7fffe83155e0>),\n",
       "     ('__format__', <function function.__format__(format_spec, /)>),\n",
       "     ('__ge__',\n",
       "      <method-wrapper '__ge__' of function object at 0x7fffe83155e0>),\n",
       "     ('__get__',\n",
       "      <method-wrapper '__get__' of function object at 0x7fffe83155e0>),\n",
       "     ('__getattribute__',\n",
       "      <method-wrapper '__getattribute__' of function object at 0x7fffe83155e0>),\n",
       "     ('__globals__', {...}),\n",
       "     ('__gt__',\n",
       "      <method-wrapper '__gt__' of function object at 0x7fffe83155e0>),\n",
       "     ('__hash__',\n",
       "      <method-wrapper '__hash__' of function object at 0x7fffe83155e0>),\n",
       "     ('__init__',\n",
       "      <method-wrapper '__init__' of function object at 0x7fffe83155e0>),\n",
       "     ('__init_subclass__', <function function.__init_subclass__>),\n",
       "     ('__kwdefaults__', None),\n",
       "     ('__le__',\n",
       "      <method-wrapper '__le__' of function object at 0x7fffe83155e0>),\n",
       "     ('__lt__',\n",
       "      <method-wrapper '__lt__' of function object at 0x7fffe83155e0>),\n",
       "     ('__module__', '__main__'),\n",
       "     ('__name__', 'testfunc'),\n",
       "     ('__ne__',\n",
       "      <method-wrapper '__ne__' of function object at 0x7fffe83155e0>),\n",
       "     ('__new__', <function function.__new__(*args, **kwargs)>),\n",
       "     ('__qualname__', 'A.B.C.testfunc'),\n",
       "     ('__reduce__', <function function.__reduce__()>),\n",
       "     ('__reduce_ex__', <function function.__reduce_ex__(protocol, /)>),\n",
       "     ('__repr__',\n",
       "      <method-wrapper '__repr__' of function object at 0x7fffe83155e0>),\n",
       "     ('__setattr__',\n",
       "      <method-wrapper '__setattr__' of function object at 0x7fffe83155e0>),\n",
       "     ('__sizeof__', <function function.__sizeof__()>),\n",
       "     ('__str__',\n",
       "      <method-wrapper '__str__' of function object at 0x7fffe83155e0>),\n",
       "     ('__subclasshook__', <function function.__subclasshook__>)]},\n",
       "   'get_ipython': <bound method InteractiveShell.get_ipython of <ipykernel.zmqshell.ZMQInteractiveShell object at 0x7fffec4129a0>>,\n",
       "   'exit': <IPython.core.autocall.ZMQExitAutocall at 0x7fffe832c850>,\n",
       "   'quit': <IPython.core.autocall.ZMQExitAutocall at 0x7fffe832c850>,\n",
       "   '_': [('__annotations__', {}),\n",
       "    ('__call__',\n",
       "     <method-wrapper '__call__' of function object at 0x7fffe83155e0>),\n",
       "    ('__class__', function),\n",
       "    ('__closure__', None),\n",
       "    ('__code__',\n",
       "     <code object testfunc at 0x7fffe822af50, file \"/tmp/ipykernel_35316/611126812.py\", line 4>),\n",
       "    ('__defaults__', None),\n",
       "    ('__delattr__',\n",
       "     <method-wrapper '__delattr__' of function object at 0x7fffe83155e0>),\n",
       "    ('__dict__', {}),\n",
       "    ('__dir__', <function function.__dir__()>),\n",
       "    ('__doc__', None),\n",
       "    ('__eq__', <method-wrapper '__eq__' of function object at 0x7fffe83155e0>),\n",
       "    ('__format__', <function function.__format__(format_spec, /)>),\n",
       "    ('__ge__', <method-wrapper '__ge__' of function object at 0x7fffe83155e0>),\n",
       "    ('__get__',\n",
       "     <method-wrapper '__get__' of function object at 0x7fffe83155e0>),\n",
       "    ('__getattribute__',\n",
       "     <method-wrapper '__getattribute__' of function object at 0x7fffe83155e0>),\n",
       "    ('__globals__', {...}),\n",
       "    ('__gt__', <method-wrapper '__gt__' of function object at 0x7fffe83155e0>),\n",
       "    ('__hash__',\n",
       "     <method-wrapper '__hash__' of function object at 0x7fffe83155e0>),\n",
       "    ('__init__',\n",
       "     <method-wrapper '__init__' of function object at 0x7fffe83155e0>),\n",
       "    ('__init_subclass__', <function function.__init_subclass__>),\n",
       "    ('__kwdefaults__', None),\n",
       "    ('__le__', <method-wrapper '__le__' of function object at 0x7fffe83155e0>),\n",
       "    ('__lt__', <method-wrapper '__lt__' of function object at 0x7fffe83155e0>),\n",
       "    ('__module__', '__main__'),\n",
       "    ('__name__', 'testfunc'),\n",
       "    ('__ne__', <method-wrapper '__ne__' of function object at 0x7fffe83155e0>),\n",
       "    ('__new__', <function function.__new__(*args, **kwargs)>),\n",
       "    ('__qualname__', 'A.B.C.testfunc'),\n",
       "    ('__reduce__', <function function.__reduce__()>),\n",
       "    ('__reduce_ex__', <function function.__reduce_ex__(protocol, /)>),\n",
       "    ('__repr__',\n",
       "     <method-wrapper '__repr__' of function object at 0x7fffe83155e0>),\n",
       "    ('__setattr__',\n",
       "     <method-wrapper '__setattr__' of function object at 0x7fffe83155e0>),\n",
       "    ('__sizeof__', <function function.__sizeof__()>),\n",
       "    ('__str__',\n",
       "     <method-wrapper '__str__' of function object at 0x7fffe83155e0>),\n",
       "    ('__subclasshook__', <function function.__subclasshook__>)],\n",
       "   '__': 'A.B.C.testfunc',\n",
       "   '___': 'A.B.C.testfunc',\n",
       "   '_i': 'import inspect\\n\\ninspect.getmembers(global_testfunc)',\n",
       "   '_ii': 'import inspect',\n",
       "   '_iii': 'class A:\\n    class B:\\n        class C:\\n            def testfunc():\\n                pass\\n\\ndir(A.B.C.testfunc)\\nprint(A.B.C.testfunc.__qualname__)\\nglobal_testfunc = A.B.C.testfunc\\nprint(global_testfunc.__qualname__)',\n",
       "   '_i1': '## Overloading class creation calls with metaclasses',\n",
       "   '_i2': \"class SuperMeta(type):                                                         \\n    def __call__(meta, classname, supers, classdict):                          \\n        print('In SuperMeta.call: ', classname, supers, classdict, sep='\\\\n...')\\n        return type.__call__(meta, classname, supers, classdict)               \\n    def __init__(Class, classname, supers, classdict):                         \\n        print('In SuperMeta init:', classname, supers, classdict, sep='\\\\n...') \\n        print('...init class object:', list(Class.__dict__.keys()))            \\n                                                                               \\nprint('making metaclass')                                                      \\nclass SubMeta(type, metaclass=SuperMeta):                                      \\n    def __new__(meta, classname, supers, classdict):                           \\n        print('In SubMeta.new: ', classname, supers, classdict, sep='\\\\n...')   \\n        return type.__new__(meta, classname, supers, classdict)                \\n    def __init__(Class, classname, supers, classdict):                         \\n        print('In SubMeta init:', classname, supers, classdict, sep='\\\\n...')   \\n        print('...init class object:', list(Class.__dict__.keys()))            \\n                                                                               \\nclass Eggs:                                                                    \\n    pass                                                                       \\n                                                                               \\nprint('making class')                                                          \\nclass Spam(Eggs, metaclass=SubMeta): # Invoke SubMeta, via SuperMeta.__call__  \\n    data = 1                                                                   \\n    def meth(self, arg):                                                       \\n        return self.data + arg                                                 \\n                                                                               \\nprint('making instance')                                                       \\nX = Spam()                                                                     \\nprint('data:', X.data, X.meth(2))                                              \",\n",
       "   'SuperMeta': __main__.SuperMeta,\n",
       "   'SubMeta': __main__.SubMeta,\n",
       "   'Eggs': __main__.Eggs,\n",
       "   'Spam': __main__.Spam,\n",
       "   'X': <__main__.Spam at 0x7fffe82b6910>,\n",
       "   '_i3': \"class SuperMeta(type):                                                         \\n    def __call__(meta, classname, supers, classdict):                          \\n        print('In SuperMeta.call: ', classname, supers, classdict, sep='\\\\n...')\\n        return type.__call__(meta, classname, supers, classdict)               \\n    def __new__(meta, classname, supers, classdict):                           \\n        print('In SuperMeta.new: ', classname, supers, classdict, sep='\\\\n...')   \\n        return type.__new__(meta, classname, supers, classdict)         \\n    def __init__(Class, classname, supers, classdict):                         \\n        print('In SuperMeta init:', classname, supers, classdict, sep='\\\\n...') \\n        print('...init class object:', list(Class.__dict__.keys()))            \\n                                                                               \\nprint('making metaclass')                                                      \\nclass SubMeta(type, metaclass=SuperMeta):                                      \\n    def __new__(meta, classname, supers, classdict):                           \\n        print('In SubMeta.new: ', classname, supers, classdict, sep='\\\\n...')   \\n        return type.__new__(meta, classname, supers, classdict:)                \\n    def __init__(Class, classname, supers, classdict):                         \\n        print('In SubMeta init:', classname, supers, classdict, sep='\\\\n...')   \\n        print('...init class object:', list(Class.__dict__.keys()))            \\n                                                                               \\nclass Eggs:                                                                    \\n    pass                                                                       \\n                                                                               \\nprint('making class')                                                          \\nclass Spam(Eggs, metaclass=SubMeta): # Invoke SubMeta, via SuperMeta.__call__  \\n    data = 1                                                                   \\n    def meth(self, arg):                                                       \\n        return self.data + arg                                                 \\n                                                                               \\nprint('making instance')                                                       \\nX = Spam()                                                                     \\nprint('data:', X.data, X.meth(2))                                              \",\n",
       "   '_i4': \"class SuperMeta(type):                                                         \\n    def __call__(meta, classname, supers, classdict):                          \\n        print('In SuperMeta.call: ', classname, supers, classdict, sep='\\\\n...')\\n        return type.__call__(meta, classname, supers, classdict)               \\n    def __new__(meta, classname, supers, classdict):\\n        print('In SuperMeta.new: ', classname, supers, classdict, sep='\\\\n...')   \\n        return type.__new__(meta, classname, supers, classdict)         \\n    def __init__(Class, classname, supers, classdict):                         \\n        print('In SuperMeta init:', classname, supers, classdict, sep='\\\\n...') \\n        print('...init class object:', list(Class.__dict__.keys()))            \\n                                                                               \\nprint('making metaclass')                                                      \\nclass SubMeta(type, metaclass=SuperMeta):                                      \\n    def __new__(meta, classname, supers, classdict):                           \\n        print('In SubMeta.new: ', classname, supers, classdict, sep='\\\\n...')   \\n        return type.__new__(meta, classname, supers, classdict:)                \\n    def __init__(Class, classname, supers, classdict):                         \\n        print('In SubMeta init:', classname, supers, classdict, sep='\\\\n...')   \\n        print('...init class object:', list(Class.__dict__.keys()))            \\n                                                                               \\nclass Eggs:                                                                    \\n    pass                                                                       \\n                                                                               \\nprint('making class')                                                          \\nclass Spam(Eggs, metaclass=SubMeta): # Invoke SubMeta, via SuperMeta.__call__  \\n    data = 1                                                                   \\n    def meth(self, arg):                                                       \\n        return self.data + arg                                                 \\n                                                                               \\nprint('making instance')                                                       \\nX = Spam()                                                                     \\nprint('data:', X.data, X.meth(2))                                              \",\n",
       "   '_i5': \"class SuperMeta(type):                                                         \\n    def __call__(meta, classname, supers, classdict):                          \\n        print('In SuperMeta.call: ', classname, supers, classdict, sep='\\\\n...')\\n        return type.__call__(meta, classname, supers, classdict)               \\n    def __new__(meta, classname, supers, classdict):\\n        print('In SuperMeta.new: ', classname, supers, classdict, sep='\\\\n...')\\n        return type.__new__(meta, classname, supers, classdict)\\n    def __init__(Class, classname, supers, classdict):                         \\n        print('In SuperMeta init:', classname, supers, classdict, sep='\\\\n...') \\n        print('...init class object:', list(Class.__dict__.keys()))            \\n                                                                               \\nprint('making metaclass')                                                      \\nclass SubMeta(type, metaclass=SuperMeta):                                      \\n    def __new__(meta, classname, supers, classdict):                           \\n        print('In SubMeta.new: ', classname, supers, classdict, sep='\\\\n...')   \\n        return type.__new__(meta, classname, supers, classdict:)                \\n    def __init__(Class, classname, supers, classdict):                         \\n        print('In SubMeta init:', classname, supers, classdict, sep='\\\\n...')   \\n        print('...init class object:', list(Class.__dict__.keys()))            \\n                                                                               \\nclass Eggs:                                                                    \\n    pass                                                                       \\n                                                                               \\nprint('making class')                                                          \\nclass Spam(Eggs, metaclass=SubMeta): # Invoke SubMeta, via SuperMeta.__call__  \\n    data = 1                                                                   \\n    def meth(self, arg):                                                       \\n        return self.data + arg                                                 \\n                                                                               \\nprint('making instance')                                                       \\nX = Spam()                                                                     \\nprint('data:', X.data, X.meth(2))                                              \",\n",
       "   '_i6': \"class SuperMeta(type):                                                         \\n    def __call__(meta, classname, supers, classdict):                          \\n        print('In SuperMeta.call: ', classname, supers, classdict, sep='\\\\n...')\\n        return type.__call__(meta, classname, supers, classdict)               \\n    def __new__(meta, classname, supers, classdict):\\n        print('In SuperMeta.new: ', classname, supers, classdict, sep='\\\\n...')\\n        return type.__new__(meta, classname, supers, classdict)\\n    def __init__(Class, classname, supers, classdict):                         \\n        print('In SuperMeta init:', classname, supers, classdict, sep='\\\\n...') \\n        print('...init class object:', list(Class.__dict__.keys()))            \\n                                                                               \\nprint('making metaclass')                                                      \\nclass SubMeta(type, metaclass=SuperMeta):                                      \\n    def __new__(meta, classname, supers, classdict):                           \\n        print('In SubMeta.new: ', classname, supers, classdict, sep='\\\\n...')   \\n        return type.__new__(meta, classname, supers, classdict)                \\n    def __init__(Class, classname, supers, classdict):                         \\n        print('In SubMeta init:', classname, supers, classdict, sep='\\\\n...')   \\n        print('...init class object:', list(Class.__dict__.keys()))            \\n                                                                               \\nclass Eggs:                                                                    \\n    pass                                                                       \\n                                                                               \\nprint('making class')                                                          \\nclass Spam(Eggs, metaclass=SubMeta): # Invoke SubMeta, via SuperMeta.__call__  \\n    data = 1                                                                   \\n    def meth(self, arg):                                                       \\n        return self.data + arg                                                 \\n                                                                               \\nprint('making instance')                                                       \\nX = Spam()                                                                     \\nprint('data:', X.data, X.meth(2))                                              \",\n",
       "   '_i7': 'type(type)',\n",
       "   '_7': type,\n",
       "   '_i8': 'type(object)',\n",
       "   '_8': type,\n",
       "   '_i9': 'type',\n",
       "   '_9': type,\n",
       "   '_i10': 'repr(type)',\n",
       "   '_10': \"<class 'type'>\",\n",
       "   '_i11': 'class testcls:\\n    @classmethod\\n    def __call__(meta, classname, supers, classdict):\\n        print(\"invoked clsmtd call!\\\\n\")\\n        \\na = testcls()',\n",
       "   'testcls': __main__.testcls,\n",
       "   'a': <__main__.testcls at 0x7fffe8317ac0>,\n",
       "   '_i12': 'type(SuperMeta)',\n",
       "   '_12': type,\n",
       "   '_i13': 'def testfunc:\\n    pass\\n\\ndir(testfunc)',\n",
       "   '_i14': 'def testfunc():\\n    pass\\n\\ndir(testfunc)',\n",
       "   'testfunc': <function __main__.testfunc()>,\n",
       "   '_14': ['__annotations__',\n",
       "    '__call__',\n",
       "    '__class__',\n",
       "    '__closure__',\n",
       "    '__code__',\n",
       "    '__defaults__',\n",
       "    '__delattr__',\n",
       "    '__dict__',\n",
       "    '__dir__',\n",
       "    '__doc__',\n",
       "    '__eq__',\n",
       "    '__format__',\n",
       "    '__ge__',\n",
       "    '__get__',\n",
       "    '__getattribute__',\n",
       "    '__globals__',\n",
       "    '__gt__',\n",
       "    '__hash__',\n",
       "    '__init__',\n",
       "    '__init_subclass__',\n",
       "    '__kwdefaults__',\n",
       "    '__le__',\n",
       "    '__lt__',\n",
       "    '__module__',\n",
       "    '__name__',\n",
       "    '__ne__',\n",
       "    '__new__',\n",
       "    '__qualname__',\n",
       "    '__reduce__',\n",
       "    '__reduce_ex__',\n",
       "    '__repr__',\n",
       "    '__setattr__',\n",
       "    '__sizeof__',\n",
       "    '__str__',\n",
       "    '__subclasshook__'],\n",
       "   '_i15': \"def testfunc():\\n    pass\\n\\ndir(testfunc)\\ntestfunc.__dict__['__qualname__']\",\n",
       "   '_i16': 'def testfunc():\\n    pass\\n\\ndir(testfunc)\\ntestfunc.__dict__',\n",
       "   '_16': {},\n",
       "   '_i17': 'def testfunc():\\n    pass\\n\\ndir(testfunc)\\ntype(testfunc.__qualname__)',\n",
       "   '_17': str,\n",
       "   '_i18': 'class A:\\n    class B:\\n        class C:\\n            def testfunc():\\n                pass\\n\\ndir(A.B.C.testfunc)\\ntype(testfunc.__qualname__)',\n",
       "   'A': __main__.A,\n",
       "   '_18': str,\n",
       "   '_i19': 'class A:\\n    class B:\\n        class C:\\n            def testfunc():\\n                pass\\n\\ndir(A.B.C.testfunc)\\ntestfunc.__qualname__',\n",
       "   '_19': 'testfunc',\n",
       "   '_i20': 'class A:\\n    class B:\\n        class C:\\n            def testfunc():\\n                pass\\n\\ndir(A.B.C.testfunc)\\nA.B.C.testfunc.__qualname__',\n",
       "   '_20': 'A.B.C.testfunc',\n",
       "   '_i21': 'class A:\\n    class B:\\n        class C:\\n            def testfunc():\\n                pass\\n\\ndir(A.B.C.testfunc)\\nA.B.C.testfunc.__qualname__\\nglobal_testfunc = A.B.C.testfunc\\nglobal_testfunc.__qualname__',\n",
       "   'global_testfunc': <function __main__.A.B.C.testfunc()>,\n",
       "   '_21': 'A.B.C.testfunc',\n",
       "   '_i22': 'class A:\\n    class B:\\n        class C:\\n            def testfunc():\\n                pass\\n\\ndir(A.B.C.testfunc)\\nA.B.C.testfunc.__qualname__\\nglobal_testfunc = A.B.C.testfunc\\nglobal_testfunc.__qualname__',\n",
       "   '_22': 'A.B.C.testfunc',\n",
       "   '_i23': 'class A:\\n    class B:\\n        class C:\\n            def testfunc():\\n                pass\\n\\ndir(A.B.C.testfunc)\\nprint(A.B.C.testfunc.__qualname__)\\nglobal_testfunc = A.B.C.testfunc\\nprint(global_testfunc.__qualname__)',\n",
       "   '_i24': 'class A:\\n    class B:\\n        class C:\\n            def testfunc():\\n                pass\\n\\ndir(A.B.C.testfunc)\\nprint(A.B.C.testfunc.__qualname__)\\nglobal_testfunc = A.B.C.testfunc\\nprint(global_testfunc.__qualname__)',\n",
       "   '_i25': 'class A:\\n    class B:\\n        class C:\\n            def testfunc():\\n                pass\\n\\ndir(A.B.C.testfunc)\\nprint(A.B.C.testfunc.__qualname__)\\nglobal_testfunc = A.B.C.testfunc\\nprint(global_testfunc.__qualname__)',\n",
       "   '_i26': 'import inspect',\n",
       "   'inspect': <module 'inspect' from '/home/scratch.edwardc_gpu_2/lab/tools/anaconda3/envs/d2l/lib/python3.8/inspect.py'>,\n",
       "   '_i27': 'import inspect\\n\\ninspect.getmembers(global_testfunc)',\n",
       "   '_27': [('__annotations__', {}),\n",
       "    ('__call__',\n",
       "     <method-wrapper '__call__' of function object at 0x7fffe83155e0>),\n",
       "    ('__class__', function),\n",
       "    ('__closure__', None),\n",
       "    ('__code__',\n",
       "     <code object testfunc at 0x7fffe822af50, file \"/tmp/ipykernel_35316/611126812.py\", line 4>),\n",
       "    ('__defaults__', None),\n",
       "    ('__delattr__',\n",
       "     <method-wrapper '__delattr__' of function object at 0x7fffe83155e0>),\n",
       "    ('__dict__', {}),\n",
       "    ('__dir__', <function function.__dir__()>),\n",
       "    ('__doc__', None),\n",
       "    ('__eq__', <method-wrapper '__eq__' of function object at 0x7fffe83155e0>),\n",
       "    ('__format__', <function function.__format__(format_spec, /)>),\n",
       "    ('__ge__', <method-wrapper '__ge__' of function object at 0x7fffe83155e0>),\n",
       "    ('__get__',\n",
       "     <method-wrapper '__get__' of function object at 0x7fffe83155e0>),\n",
       "    ('__getattribute__',\n",
       "     <method-wrapper '__getattribute__' of function object at 0x7fffe83155e0>),\n",
       "    ('__globals__', {...}),\n",
       "    ('__gt__', <method-wrapper '__gt__' of function object at 0x7fffe83155e0>),\n",
       "    ('__hash__',\n",
       "     <method-wrapper '__hash__' of function object at 0x7fffe83155e0>),\n",
       "    ('__init__',\n",
       "     <method-wrapper '__init__' of function object at 0x7fffe83155e0>),\n",
       "    ('__init_subclass__', <function function.__init_subclass__>),\n",
       "    ('__kwdefaults__', None),\n",
       "    ('__le__', <method-wrapper '__le__' of function object at 0x7fffe83155e0>),\n",
       "    ('__lt__', <method-wrapper '__lt__' of function object at 0x7fffe83155e0>),\n",
       "    ('__module__', '__main__'),\n",
       "    ('__name__', 'testfunc'),\n",
       "    ('__ne__', <method-wrapper '__ne__' of function object at 0x7fffe83155e0>),\n",
       "    ('__new__', <function function.__new__(*args, **kwargs)>),\n",
       "    ('__qualname__', 'A.B.C.testfunc'),\n",
       "    ('__reduce__', <function function.__reduce__()>),\n",
       "    ('__reduce_ex__', <function function.__reduce_ex__(protocol, /)>),\n",
       "    ('__repr__',\n",
       "     <method-wrapper '__repr__' of function object at 0x7fffe83155e0>),\n",
       "    ('__setattr__',\n",
       "     <method-wrapper '__setattr__' of function object at 0x7fffe83155e0>),\n",
       "    ('__sizeof__', <function function.__sizeof__()>),\n",
       "    ('__str__',\n",
       "     <method-wrapper '__str__' of function object at 0x7fffe83155e0>),\n",
       "    ('__subclasshook__', <function function.__subclasshook__>)],\n",
       "   '_i28': 'import inspect\\n\\ninspect.getmembers(A.B.C.testfunc)'}),\n",
       " ('__gt__', <method-wrapper '__gt__' of function object at 0x7fffe83155e0>),\n",
       " ('__hash__',\n",
       "  <method-wrapper '__hash__' of function object at 0x7fffe83155e0>),\n",
       " ('__init__',\n",
       "  <method-wrapper '__init__' of function object at 0x7fffe83155e0>),\n",
       " ('__init_subclass__', <function function.__init_subclass__>),\n",
       " ('__kwdefaults__', None),\n",
       " ('__le__', <method-wrapper '__le__' of function object at 0x7fffe83155e0>),\n",
       " ('__lt__', <method-wrapper '__lt__' of function object at 0x7fffe83155e0>),\n",
       " ('__module__', '__main__'),\n",
       " ('__name__', 'testfunc'),\n",
       " ('__ne__', <method-wrapper '__ne__' of function object at 0x7fffe83155e0>),\n",
       " ('__new__', <function function.__new__(*args, **kwargs)>),\n",
       " ('__qualname__', 'A.B.C.testfunc'),\n",
       " ('__reduce__', <function function.__reduce__()>),\n",
       " ('__reduce_ex__', <function function.__reduce_ex__(protocol, /)>),\n",
       " ('__repr__',\n",
       "  <method-wrapper '__repr__' of function object at 0x7fffe83155e0>),\n",
       " ('__setattr__',\n",
       "  <method-wrapper '__setattr__' of function object at 0x7fffe83155e0>),\n",
       " ('__sizeof__', <function function.__sizeof__()>),\n",
       " ('__str__', <method-wrapper '__str__' of function object at 0x7fffe83155e0>),\n",
       " ('__subclasshook__', <function function.__subclasshook__>)]"
      ]
     },
     "execution_count": 28,
     "metadata": {},
     "output_type": "execute_result"
    }
   ],
   "source": [
    "import inspect\n",
    "inspect.getmembers(A.B.C.testfunc)"
   ]
  },
  {
   "cell_type": "code",
   "execution_count": 42,
   "metadata": {},
   "outputs": [
    {
     "data": {
      "text/plain": [
       "function"
      ]
     },
     "execution_count": 42,
     "metadata": {},
     "output_type": "execute_result"
    }
   ],
   "source": [
    "type(A.B.C.testfunc)"
   ]
  },
  {
   "cell_type": "code",
   "execution_count": 35,
   "metadata": {},
   "outputs": [
    {
     "data": {
      "text/plain": [
       "True"
      ]
     },
     "execution_count": 35,
     "metadata": {},
     "output_type": "execute_result"
    }
   ],
   "source": [
    "issubclass(type(A.B.C.testfunc), object)"
   ]
  },
  {
   "cell_type": "code",
   "execution_count": 36,
   "metadata": {},
   "outputs": [
    {
     "data": {
      "text/plain": [
       "['__annotations__',\n",
       " '__call__',\n",
       " '__class__',\n",
       " '__closure__',\n",
       " '__code__',\n",
       " '__defaults__',\n",
       " '__delattr__',\n",
       " '__dict__',\n",
       " '__dir__',\n",
       " '__doc__',\n",
       " '__eq__',\n",
       " '__format__',\n",
       " '__ge__',\n",
       " '__get__',\n",
       " '__getattribute__',\n",
       " '__globals__',\n",
       " '__gt__',\n",
       " '__hash__',\n",
       " '__init__',\n",
       " '__init_subclass__',\n",
       " '__kwdefaults__',\n",
       " '__le__',\n",
       " '__lt__',\n",
       " '__module__',\n",
       " '__name__',\n",
       " '__ne__',\n",
       " '__new__',\n",
       " '__qualname__',\n",
       " '__reduce__',\n",
       " '__reduce_ex__',\n",
       " '__repr__',\n",
       " '__setattr__',\n",
       " '__sizeof__',\n",
       " '__str__',\n",
       " '__subclasshook__']"
      ]
     },
     "execution_count": 36,
     "metadata": {},
     "output_type": "execute_result"
    }
   ],
   "source": [
    "dir(A.B.C.testfunc)"
   ]
  },
  {
   "cell_type": "code",
   "execution_count": 40,
   "metadata": {},
   "outputs": [
    {
     "ename": "AttributeError",
     "evalue": "'function' object has no attribute 'test'",
     "output_type": "error",
     "traceback": [
      "\u001b[0;31m---------------------------------------------------------------------------\u001b[0m",
      "\u001b[0;31mAttributeError\u001b[0m                            Traceback (most recent call last)",
      "\u001b[0;32m/tmp/ipykernel_35316/2075107365.py\u001b[0m in \u001b[0;36m<module>\u001b[0;34m\u001b[0m\n\u001b[1;32m      5\u001b[0m \u001b[0mA\u001b[0m\u001b[0;34m.\u001b[0m\u001b[0mB\u001b[0m\u001b[0;34m.\u001b[0m\u001b[0mC\u001b[0m\u001b[0;34m.\u001b[0m\u001b[0mtestfunc\u001b[0m\u001b[0;34m.\u001b[0m\u001b[0m__getattribute__\u001b[0m \u001b[0;34m=\u001b[0m \u001b[0mmy_getattribute\u001b[0m\u001b[0;34m\u001b[0m\u001b[0;34m\u001b[0m\u001b[0m\n\u001b[1;32m      6\u001b[0m \u001b[0;34m\u001b[0m\u001b[0m\n\u001b[0;32m----> 7\u001b[0;31m \u001b[0mA\u001b[0m\u001b[0;34m.\u001b[0m\u001b[0mB\u001b[0m\u001b[0;34m.\u001b[0m\u001b[0mC\u001b[0m\u001b[0;34m.\u001b[0m\u001b[0mtestfunc\u001b[0m\u001b[0;34m.\u001b[0m\u001b[0mtest\u001b[0m\u001b[0;34m\u001b[0m\u001b[0;34m\u001b[0m\u001b[0m\n\u001b[0m",
      "\u001b[0;31mAttributeError\u001b[0m: 'function' object has no attribute 'test'"
     ]
    }
   ],
   "source": [
    "def my_getattribute(self,name):\n",
    "    print(f\"accessing attribute {name}\")\n",
    "    return object.__getattribute__(self, name)\n",
    "\n",
    "A.B.C.testfunc.__getattribute__ = my_getattribute\n",
    "\n",
    "A.B.C.testfunc.test"
   ]
  },
  {
   "cell_type": "code",
   "execution_count": 8,
   "metadata": {},
   "outputs": [
    {
     "name": "stdout",
     "output_type": "stream",
     "text": [
      "---\n"
     ]
    },
    {
     "data": {
      "text/plain": [
       "{'__module__': '__main__'}"
      ]
     },
     "execution_count": 8,
     "metadata": {},
     "output_type": "execute_result"
    }
   ],
   "source": [
    "import typing\n",
    "T = typing.TypeVar(\"T\")\n",
    "dir(T)\n",
    "print(\"---\")\n",
    "vars(T)"
   ]
  },
  {
   "cell_type": "code",
   "execution_count": 7,
   "metadata": {},
   "outputs": [
    {
     "name": "stdout",
     "output_type": "stream",
     "text": [
      "B\n",
      "A\n"
     ]
    }
   ],
   "source": [
    "# double underscores variable\n",
    "\n",
    "class A:\n",
    "    @property\n",
    "    def A_var(self):\n",
    "        return self.__var\n",
    "    \n",
    "    @A_var.setter\n",
    "    def A_var(self, value):\n",
    "        self.__var = value\n",
    "      \n",
    "    \n",
    "class B(A):\n",
    "    @property\n",
    "    def B_var(self):\n",
    "        return self.__var\n",
    "    \n",
    "    @B_var.setter\n",
    "    def B_var(self, value):\n",
    "        self.__var = value\n",
    "\n",
    "        \n",
    "b_inst = B()\n",
    "\n",
    "b_inst.B_var = 'B'\n",
    "b_inst.A_var = 'A'\n",
    "\n",
    "print(b_inst.B_var)\n",
    "print(b_inst.A_var)"
   ]
  },
  {
   "cell_type": "markdown",
   "metadata": {},
   "source": [
    "#### [Continuation-Passing Style (CPS) in Python](https://jupyter.brynmawr.edu/services/public/dblank/CS245%20Programming%20Languages/2014-Fall/Notes/Review,%20Continuations%20and%20CPS.ipynb)"
   ]
  },
  {
   "cell_type": "markdown",
   "metadata": {
    "tags": []
   },
   "source": [
    "#### functions arguments"
   ]
  },
  {
   "cell_type": "code",
   "execution_count": 7,
   "metadata": {},
   "outputs": [],
   "source": [
    "# 1). positional argument\n",
    "# 2). positional argument with default value\n",
    "# 3). variable positional arguments\n",
    "# 4). keyword-only argument\n",
    "# 5). keyword-only argument with default value\n",
    "# 6). variable keword-only arguments\n",
    "def func_args(pa1, pa2, pa3=3, *w, ka4, ka5=5, **kw):\n",
    "    print(f\"pa1={pa1}, pa2={pa2}, pa3={pa3}, w={w}, ka4={ka4}, ka5={ka5}, kw={kw}\")\n"
   ]
  },
  {
   "cell_type": "code",
   "execution_count": 3,
   "metadata": {},
   "outputs": [
    {
     "name": "stdout",
     "output_type": "stream",
     "text": [
      "pa1=1, pa2=2, pa3=3, w=(4, 5, 6), ka4=4, ka5=5, kw={}\n"
     ]
    }
   ],
   "source": [
    "func_args(1,2,3,4,5,6,ka4=4)"
   ]
  },
  {
   "cell_type": "code",
   "execution_count": 26,
   "metadata": {},
   "outputs": [],
   "source": [
    "# PEP 570 -- Python Positional-Only Parameters\n",
    "# Python 3.8\n",
    "# https://www.python.org/dev/peps/pep-0570\n",
    "\n",
    "def name(positional_only_parameters, /, positional_or_keyword_parameters_1, positional_or_keyword_parameters_2=2, *, keyword_only_parameters, **kwargs):\n",
    "    print(f\"positional_only_parameters={positional_only_parameters}, positional_or_keyword_parameters_1={positional_or_keyword_parameters_1}, positional_or_keyword_parameters_2={positional_or_keyword_parameters_2}, keyword_only_parameters={keyword_only_parameters}\")"
   ]
  },
  {
   "cell_type": "code",
   "execution_count": 27,
   "metadata": {},
   "outputs": [
    {
     "name": "stdout",
     "output_type": "stream",
     "text": [
      "positional_only_parameters=0, positional_or_keyword_parameters_1=1, positional_or_keyword_parameters_2=2, keyword_only_parameters=3\n"
     ]
    }
   ],
   "source": [
    "name(0, 1, keyword_only_parameters=3)"
   ]
  },
  {
   "cell_type": "code",
   "execution_count": 28,
   "metadata": {},
   "outputs": [
    {
     "name": "stdout",
     "output_type": "stream",
     "text": [
      "positional_only_parameters=0, positional_or_keyword_parameters_1=1, positional_or_keyword_parameters_2=2, keyword_only_parameters=3\n"
     ]
    }
   ],
   "source": [
    "name(0, positional_or_keyword_parameters_2=2, positional_or_keyword_parameters_1=1, keyword_only_parameters=3)"
   ]
  },
  {
   "cell_type": "markdown",
   "metadata": {},
   "source": [
    "#### Property "
   ]
  },
  {
   "cell_type": "code",
   "execution_count": 12,
   "metadata": {},
   "outputs": [],
   "source": [
    "class Property:\n",
    "    \"Emulate PyProperty_Type() in Objects/descrobject.c\"\n",
    "\n",
    "    def __init__(self, fget=None, fset=None, fdel=None, doc=None):\n",
    "        self.fget = fget\n",
    "        self.fset = fset\n",
    "        self.fdel = fdel\n",
    "        if doc is None and fget is not None:\n",
    "            doc = fget.__doc__\n",
    "        self.__doc__ = doc\n",
    "        self._name = ''\n",
    "\n",
    "    def __set_name__(self, owner, name):\n",
    "        self._name = name\n",
    "\n",
    "    def __get__(self, obj, objtype=None):\n",
    "        if obj is None:\n",
    "            return self\n",
    "        if self.fget is None:\n",
    "            raise AttributeError(f'unreadable attribute {self._name}')\n",
    "        return self.fget(obj)\n",
    "\n",
    "    def __set__(self, obj, value):\n",
    "        if self.fset is None:\n",
    "            raise AttributeError(f\"can't set attribute {self._name}\")\n",
    "        self.fset(obj, value)\n",
    "\n",
    "    def __delete__(self, obj):\n",
    "        if self.fdel is None:\n",
    "            raise AttributeError(f\"can't delete attribute {self._name}\")\n",
    "        self.fdel(obj)\n",
    "\n",
    "    #def getter(self, fget):\n",
    "    #    prop = type(self)(fget, self.fset, self.fdel, self.__doc__)\n",
    "    #    prop._name = self._name\n",
    "    #    return prop\n",
    "    def getter(self, fget):\n",
    "        self.fget = fget\n",
    "        return self\n",
    "\n",
    "    #def setter(self, fset):\n",
    "    #    prop = type(self)(self.fget, fset, self.fdel, self.__doc__)\n",
    "    #    prop._name = self._name\n",
    "    #    return prop\n",
    "    def setter(self, fset):\n",
    "        self.fset = fset\n",
    "        return self\n",
    "\n",
    "    def deleter(self, fdel):\n",
    "        prop = type(self)(self.fget, self.fset, fdel, self.__doc__)\n",
    "        prop._name = self._name\n",
    "        return prop"
   ]
  },
  {
   "cell_type": "code",
   "execution_count": 13,
   "metadata": {},
   "outputs": [],
   "source": [
    "class Box:\n",
    "    bird = Property()\n",
    "    \n",
    "    @bird.getter\n",
    "    def get_bird(self):\n",
    "        return self._bird\n",
    "\n",
    "    @bird.setter\n",
    "    def set_bird(self, value):\n",
    "        self._bird = value"
   ]
  },
  {
   "cell_type": "code",
   "execution_count": 14,
   "metadata": {},
   "outputs": [
    {
     "data": {
      "text/plain": [
       "10"
      ]
     },
     "execution_count": 14,
     "metadata": {},
     "output_type": "execute_result"
    }
   ],
   "source": [
    "box = Box()\n",
    "box.bird = 10\n",
    "box.bird"
   ]
  },
  {
   "cell_type": "code",
   "execution_count": null,
   "metadata": {},
   "outputs": [],
   "source": []
  }
 ],
 "metadata": {
  "anaconda-cloud": {},
  "kernelspec": {
   "display_name": "Python 3 (ipykernel)",
   "language": "python",
   "name": "python3"
  },
  "language_info": {
   "codemirror_mode": {
    "name": "ipython",
    "version": 3
   },
   "file_extension": ".py",
   "mimetype": "text/x-python",
   "name": "python",
   "nbconvert_exporter": "python",
   "pygments_lexer": "ipython3",
   "version": "3.8.12"
  }
 },
 "nbformat": 4,
 "nbformat_minor": 4
}
