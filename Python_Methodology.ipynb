{
 "cells": [
  {
   "cell_type": "code",
   "execution_count": 1,
   "id": "c4007c6c-3a44-4dc7-8572-8ab2e43a711a",
   "metadata": {},
   "outputs": [],
   "source": [
    "# pretty tracebacks\n",
    "%load_ext rich\n",
    "\n",
    "# https://rich.readthedocs.io/en/stable/reference/init.html?#rich.inspect\n",
    "from rich import inspect"
   ]
  },
  {
   "cell_type": "markdown",
   "id": "c34eb009-f3f6-4fc9-8409-fa0aad3b3a8b",
   "metadata": {
    "tags": []
   },
   "source": [
    "### Function Arguments"
   ]
  },
  {
   "cell_type": "code",
   "execution_count": 3,
   "id": "66a5a0a5-ca6d-4236-a2e4-6a7bfe2e30e7",
   "metadata": {},
   "outputs": [],
   "source": [
    "# 0). positional-only argument  # Python 3.8 PEP 570 -- https://www.python.org/dev/peps/pep-0570\n",
    "# 1). positional or keyword argument\n",
    "# 2). positional or keyword argument with default value\n",
    "# 3). variable positional arguments\n",
    "# 4). keyword-only argument\n",
    "# 5). keyword-only argument with default value\n",
    "# 6). variable keyword-only arguments\n",
    "\n",
    "def func_args(positional_only_parameters,\n",
    "              /,\n",
    "              positional_or_keyword_parameters,\n",
    "              positional_or_keyword_parameters_w_default='default',\n",
    "              *w,\n",
    "              keyword_only_parameters,\n",
    "              keyword_only_parameters_w_default='default',\n",
    "              **kw):\n",
    "    print(f\"positional_only_parameters={positional_only_parameters},\\n\"\n",
    "          f\"positional_or_keyword_parameters={positional_or_keyword_parameters},\\n\"\n",
    "          f\"positional_or_keyword_parameters_w_default={positional_or_keyword_parameters_w_default},\\n\"\n",
    "          f\"w={w},\\n\"\n",
    "          f\"keyword_only_parameters={keyword_only_parameters},\\n\"\n",
    "          f\"keyword_only_parameters_w_default={keyword_only_parameters_w_default},\\n\"\n",
    "          f\"kw={kw}\")\n"
   ]
  },
  {
   "cell_type": "code",
   "execution_count": 104,
   "id": "fc3ee261-a152-4e22-a68d-58617a7ef37c",
   "metadata": {},
   "outputs": [
    {
     "name": "stdout",
     "output_type": "stream",
     "text": [
      "positional_only_parameters=1,\n",
      "positional_or_keyword_parameters=2,\n",
      "positional_or_keyword_parameters_w_default=3,\n",
      "w=(4, 5, 6),\n",
      "keyword_only_parameters=4,\n",
      "keyword_only_parameters_w_default=default,\n",
      "kw={}\n"
     ]
    }
   ],
   "source": [
    "func_args(1,2,3,4,5,6,keyword_only_parameters=4)"
   ]
  },
  {
   "cell_type": "code",
   "execution_count": 105,
   "id": "ddff98bc-c930-4ea9-accf-8d74f1165ea1",
   "metadata": {},
   "outputs": [
    {
     "name": "stdout",
     "output_type": "stream",
     "text": [
      "positional_only_parameters=0,\n",
      "positional_or_keyword_parameters=1,\n",
      "positional_or_keyword_parameters_w_default=default,\n",
      "w=(),\n",
      "keyword_only_parameters=3,\n",
      "keyword_only_parameters_w_default=default,\n",
      "kw={}\n"
     ]
    }
   ],
   "source": [
    "func_args(0, 1, keyword_only_parameters=3)"
   ]
  },
  {
   "cell_type": "code",
   "execution_count": 108,
   "id": "6087dfcf-405c-4d91-80ff-d754f0b4d7c0",
   "metadata": {},
   "outputs": [
    {
     "name": "stdout",
     "output_type": "stream",
     "text": [
      "positional_only_parameters=0,\n",
      "positional_or_keyword_parameters=1,\n",
      "positional_or_keyword_parameters_w_default=2,\n",
      "w=(),\n",
      "keyword_only_parameters=3,\n",
      "keyword_only_parameters_w_default=4,\n",
      "kw={}\n"
     ]
    }
   ],
   "source": [
    "func_args(0, positional_or_keyword_parameters_w_default=2, positional_or_keyword_parameters=1, keyword_only_parameters_w_default=4, keyword_only_parameters=3)"
   ]
  },
  {
   "cell_type": "markdown",
   "id": "86a284d1-0644-48aa-bbc0-18e70694e907",
   "metadata": {},
   "source": [
    "----"
   ]
  },
  {
   "cell_type": "markdown",
   "id": "a21c7bf4-d414-40c0-b16e-62f652945575",
   "metadata": {},
   "source": [
    "### Metaprogramming"
   ]
  },
  {
   "cell_type": "markdown",
   "id": "206d5d45-3346-4461-81ee-2b65417fa025",
   "metadata": {},
   "source": [
    "#### Class Statement Protocol"
   ]
  },
  {
   "cell_type": "markdown",
   "id": "55e86ca7-237c-44cf-a5e9-1b086a5f24f5",
   "metadata": {},
   "source": [
    "Technically speaking, Python follows a standard protocol to make this happen: at the end of a `class` statement, and after running all its nested code in a namespace dictionary corresponding to the class’s local scope, Python calls the `type` object to create the `class` object like this:\n",
    "```\n",
    "    classname = type(classname, superclasses, attributedict)\n",
    "```\n",
    "> Note that [`x(arg1, arg2, ...)` roughly translates to `type(x).__call__(x, arg1, ...)`](https://docs.python.org/3/reference/datamodel.html#emulating-callable-objects). So here it will invoke `type.__call__(...)`.\n",
    "\n",
    "The `type` object defines a `__call__` operator overloading method that runs two other methods when the `type` object is called:\n",
    "```\n",
    "    type.__new__(typeclass, classname, superclasses, attributedict)\n",
    "    type.__init__(class, classname, superclasses, attributedict)\n",
    "```\n",
    "\n",
    "The `__new__` method creates and returns the new `class` object, and then the `__init__` method initializes the newly created object. These are the hooks that metaclass subclasses of `type` generally use to customize classes."
   ]
  },
  {
   "cell_type": "markdown",
   "id": "0102fbcc-26c2-49f4-9803-d780c01a3dee",
   "metadata": {},
   "source": [
    "For example, given a class definition like the following for Spam:"
   ]
  },
  {
   "cell_type": "code",
   "execution_count": 109,
   "id": "5ef8b9af-574e-4e97-b82a-dcbe0901b0d0",
   "metadata": {},
   "outputs": [],
   "source": [
    "class Eggs: ...                  # Inherited names here\n",
    "\n",
    "class Spam(Eggs):                # Inherits from Eggs\n",
    "    data = 1                     # Class data attribute\n",
    "    def meth(self, arg):         # Class method attribute\n",
    "        return self.data + arg"
   ]
  },
  {
   "cell_type": "markdown",
   "id": "812cddf0-e99c-4d37-9356-fe57a5b3f8b9",
   "metadata": {},
   "source": [
    "Python will internally run the nested code block to create two attributes of the class (data and meth), and then call the type object to generate the class object at the end of the class statement:"
   ]
  },
  {
   "cell_type": "code",
   "execution_count": 71,
   "id": "329f742b-4e48-4b7b-b0d2-065aee759237",
   "metadata": {},
   "outputs": [],
   "source": [
    "Spam = type('Spam', (Eggs,), {'data': 1, 'meth': Spam.meth, '__module__': '__main__'})"
   ]
  },
  {
   "cell_type": "code",
   "execution_count": 62,
   "id": "df512de9-ee42-4bc1-8716-7e48a41287a6",
   "metadata": {},
   "outputs": [
    {
     "data": {
      "text/plain": [
       "(type, type)"
      ]
     },
     "execution_count": 62,
     "metadata": {},
     "output_type": "execute_result"
    }
   ],
   "source": [
    "type(type), type(object)"
   ]
  },
  {
   "cell_type": "code",
   "execution_count": 63,
   "id": "b791fa4a-9e2d-4273-b0be-4d8bd9938360",
   "metadata": {},
   "outputs": [
    {
     "data": {
      "text/plain": [
       "(type, type)"
      ]
     },
     "execution_count": 63,
     "metadata": {},
     "output_type": "execute_result"
    }
   ],
   "source": [
    "type.__class__, object.__class__"
   ]
  },
  {
   "cell_type": "code",
   "execution_count": 64,
   "id": "21ba574c-ae08-436e-82c1-89694ce02dc6",
   "metadata": {},
   "outputs": [
    {
     "data": {
      "text/plain": [
       "(True, True)"
      ]
     },
     "execution_count": 64,
     "metadata": {},
     "output_type": "execute_result"
    }
   ],
   "source": [
    "isinstance(type, object), isinstance(object, object)"
   ]
  },
  {
   "cell_type": "markdown",
   "id": "c6c341d6-1987-45a7-8b72-fb393dbc7358",
   "metadata": {},
   "source": [
    "#### Overloading class creation calls with metaclasses\n",
    "> Learning Python 40. Metaclasses : Coding Metaclass"
   ]
  },
  {
   "cell_type": "code",
   "execution_count": 1,
   "id": "9d272105-0e0c-4d14-81cd-27dd8c2545ce",
   "metadata": {},
   "outputs": [
    {
     "name": "stdout",
     "output_type": "stream",
     "text": [
      "making metaclass\n",
      "In SuperMeta.new: \n",
      "...SubMeta\n",
      "...(<class 'type'>,)\n",
      "...{'__module__': '__main__', '__qualname__': 'SubMeta', '__new__': <function SubMeta.__new__ at 0x7fffe9dc6430>, '__init__': <function SubMeta.__init__ at 0x7fffe9dc64c0>}\n",
      "In SuperMeta init:\n",
      "...SubMeta\n",
      "...(<class 'type'>,)\n",
      "...{'__module__': '__main__', '__qualname__': 'SubMeta', '__new__': <function SubMeta.__new__ at 0x7fffe9dc6430>, '__init__': <function SubMeta.__init__ at 0x7fffe9dc64c0>}\n",
      "...init class object: ['__module__', '__new__', '__init__', '__doc__']\n",
      "making class\n",
      "In SuperMeta.call: \n",
      "...Spam\n",
      "...(<class '__main__.Eggs'>,)\n",
      "...{'__module__': '__main__', '__qualname__': 'Spam', 'data': 1, 'meth': <function Spam.meth at 0x7fffe9dd21f0>}\n",
      "In SubMeta.new: \n",
      "...Spam\n",
      "...(<class '__main__.Eggs'>,)\n",
      "...{'__module__': '__main__', '__qualname__': 'Spam', 'data': 1, 'meth': <function Spam.meth at 0x7fffe9dd21f0>}\n",
      "In SubMeta init:\n",
      "...Spam\n",
      "...(<class '__main__.Eggs'>,)\n",
      "...{'__module__': '__main__', '__qualname__': 'Spam', 'data': 1, 'meth': <function Spam.meth at 0x7fffe9dd21f0>}\n",
      "...init class object: ['__module__', 'data', 'meth', '__doc__']\n",
      "making instance\n",
      "data: 1 3\n"
     ]
    }
   ],
   "source": [
    "class SuperMeta(type):\n",
    "    def __call__(meta, classname, supers, classdict):\n",
    "        print('In SuperMeta.call: ', classname, supers, classdict, sep='\\n...')\n",
    "        return type.__call__(meta, classname, supers, classdict)\n",
    "    def __new__(meta, classname, supers, classdict):\n",
    "        print('In SuperMeta.new: ', classname, supers, classdict, sep='\\n...')\n",
    "        return type.__new__(meta, classname, supers, classdict)\n",
    "    def __init__(Class, classname, supers, classdict):\n",
    "        print('In SuperMeta init:', classname, supers, classdict, sep='\\n...')\n",
    "        print('...init class object:', list(Class.__dict__.keys()))\n",
    "\n",
    "print('making metaclass')\n",
    "class SubMeta(type, metaclass=SuperMeta):\n",
    "    def __new__(meta, classname, supers, classdict):\n",
    "        print('In SubMeta.new: ', classname, supers, classdict, sep='\\n...')\n",
    "        return type.__new__(meta, classname, supers, classdict)\n",
    "    def __init__(Class, classname, supers, classdict):\n",
    "        print('In SubMeta init:', classname, supers, classdict, sep='\\n...')\n",
    "        print('...init class object:', list(Class.__dict__.keys()))\n",
    "\n",
    "class Eggs:\n",
    "    pass\n",
    "\n",
    "print('making class')\n",
    "class Spam(Eggs, metaclass=SubMeta): # Invoke SubMeta, via SuperMeta.__call__\n",
    "    data = 1\n",
    "    def meth(self, arg):\n",
    "        return self.data + arg\n",
    "\n",
    "print('making instance')\n",
    "X = Spam()\n",
    "print('data:', X.data, X.meth(2))"
   ]
  },
  {
   "cell_type": "code",
   "execution_count": null,
   "id": "d187a78a-fb8a-49a8-8b3f-5076d80289eb",
   "metadata": {},
   "outputs": [],
   "source": [
    "type(SuperMeta)"
   ]
  },
  {
   "cell_type": "code",
   "execution_count": 2,
   "id": "3c3a8f45-6ed3-4745-8d24-3d5049685a59",
   "metadata": {},
   "outputs": [
    {
     "name": "stdout",
     "output_type": "stream",
     "text": [
      "A.B.C.testfunc\n",
      "A.B.C.testfunc\n"
     ]
    }
   ],
   "source": [
    "class A:\n",
    "    class B:\n",
    "        class C:\n",
    "            def testfunc():\n",
    "                pass\n",
    "\n",
    "dir(A.B.C.testfunc)\n",
    "print(A.B.C.testfunc.__qualname__)\n",
    "global_testfunc = A.B.C.testfunc\n",
    "print(global_testfunc.__qualname__)"
   ]
  },
  {
   "cell_type": "code",
   "execution_count": null,
   "id": "306310c5-7991-48a5-8191-010245c2c269",
   "metadata": {},
   "outputs": [],
   "source": [
    "import inspect\n",
    "# inspect.getmembers(A.B.C.testfunc)"
   ]
  },
  {
   "cell_type": "code",
   "execution_count": 35,
   "id": "8eaa1701-2fdf-4ac0-859b-ade54f4095ce",
   "metadata": {},
   "outputs": [
    {
     "data": {
      "text/plain": [
       "function"
      ]
     },
     "execution_count": 35,
     "metadata": {},
     "output_type": "execute_result"
    }
   ],
   "source": [
    "type(A.B.C.testfunc)"
   ]
  },
  {
   "cell_type": "code",
   "execution_count": 36,
   "id": "10bf7e56-366b-4221-b9b0-37c5ea4feef6",
   "metadata": {},
   "outputs": [
    {
     "data": {
      "text/plain": [
       "True"
      ]
     },
     "execution_count": 36,
     "metadata": {},
     "output_type": "execute_result"
    }
   ],
   "source": [
    "issubclass(type(A.B.C.testfunc), object)"
   ]
  },
  {
   "cell_type": "code",
   "execution_count": 69,
   "id": "e8545f3f-e43d-467d-b6c2-7300218d97fb",
   "metadata": {},
   "outputs": [
    {
     "data": {
      "text/plain": [
       "['__annotations__',\n",
       " '__call__',\n",
       " '__class__',\n",
       " '__closure__',\n",
       " '__code__',\n",
       " '__defaults__',\n",
       " '__delattr__',\n",
       " '__dict__',\n",
       " '__dir__',\n",
       " '__doc__',\n",
       " '__eq__',\n",
       " '__format__',\n",
       " '__ge__',\n",
       " '__get__',\n",
       " '__getattribute__',\n",
       " '__globals__',\n",
       " '__gt__',\n",
       " '__hash__',\n",
       " '__init__',\n",
       " '__init_subclass__',\n",
       " '__kwdefaults__',\n",
       " '__le__',\n",
       " '__lt__',\n",
       " '__module__',\n",
       " '__name__',\n",
       " '__ne__',\n",
       " '__new__',\n",
       " '__qualname__',\n",
       " '__reduce__',\n",
       " '__reduce_ex__',\n",
       " '__repr__',\n",
       " '__setattr__',\n",
       " '__sizeof__',\n",
       " '__str__',\n",
       " '__subclasshook__']"
      ]
     },
     "execution_count": 69,
     "metadata": {},
     "output_type": "execute_result"
    }
   ],
   "source": [
    "dir(A.B.C.testfunc)"
   ]
  },
  {
   "cell_type": "markdown",
   "id": "1451f88a-08e5-4a80-95fc-ef02bd75643f",
   "metadata": {},
   "source": [
    "----"
   ]
  },
  {
   "cell_type": "markdown",
   "id": "8a35945e-6329-4d53-805b-207aba2cb23f",
   "metadata": {},
   "source": [
    "#### Descriptor"
   ]
  },
  {
   "cell_type": "code",
   "execution_count": 72,
   "id": "0dfe21b9-5eda-4046-9a98-55c3cfba1b62",
   "metadata": {},
   "outputs": [
    {
     "name": "stdout",
     "output_type": "stream",
     "text": [
      "__getattribute__ ==> self:<__main__.MyClass object at 0x7fffe9e34640> name:x\n",
      "__getattribute__ ==> self:<__main__.MyClass object at 0x7fffe9e34640> name:__dict__\n",
      "get property: __dict__\n",
      "get property: x\n",
      "Retrieving var \"x\"\n",
      "================================================================================\n",
      "__getattribute__ ==> self:<__main__.MyClass object at 0x7fffe9e34640> name:y\n",
      "__getattribute__ ==> self:<__main__.MyClass object at 0x7fffe9e34640> name:__dict__\n",
      "get property: __dict__\n",
      "get property: y\n",
      "================================================================================\n",
      "__getattribute__ ==> self:<__main__.MyClass object at 0x7fffe9e34640> name:__dict__\n",
      "get property: __dict__\n",
      "set property: x\n",
      "Updating var \"x\"\n"
     ]
    }
   ],
   "source": [
    "#####################\n",
    "# Descriptor usage #\n",
    "#####################\n",
    "\n",
    "# https://docs.python.org/3.7/howto/descriptor.html#descriptor-example\n",
    "\n",
    "class RevealAccess(object):\n",
    "    \"\"\"A data descriptor that sets and returns values\n",
    "       normally and prints a message logging their access.\n",
    "    \"\"\"\n",
    "\n",
    "    def __init__(self, initval=None, name='var'):\n",
    "        self.val = initval\n",
    "        self.name = name\n",
    "\n",
    "    def __get__(self, obj, objtype):\n",
    "        print('Retrieving', self.name)\n",
    "        return self.val\n",
    "    \n",
    "    def __set__(self, obj, val):\n",
    "        print('Updating', self.name)\n",
    "        self.val = val\n",
    "\n",
    "class MyClass(object):\n",
    "    x = RevealAccess(10, 'var \"x\"')\n",
    "    y = 5\n",
    "    \n",
    "    def __getattribute__(self, name):\n",
    "        print (\"__getattribute__ ==> self:\" + repr(self) + \" name:\" + str(name))\n",
    "        if name != \"__dict__\" and name in self.__dict__:\n",
    "            print(\"get defined property: \" + str(name))\n",
    "            return self.__dict__[name]\n",
    "        else:\n",
    "            print(\"get property: \" + str(name))\n",
    "            ############################################################################################\n",
    "            # !!!! The object.__getattribute__(...) will handle the invoking of __get__() method. !!!! #\n",
    "            ############################################################################################\n",
    "            return super().__getattribute__(name)\n",
    "\n",
    "    def __setattr__(self, name, value):\n",
    "        if name in self.__dict__:\n",
    "            print(\"set defined property: \" + str(name))\n",
    "            self.__dict__[name] = value\n",
    "        else:\n",
    "            print(\"set property: \" + str(name))\n",
    "            #######################################################################################\n",
    "            # !!!! The object.__setattr__(...) will handle the invoking of __set__() method. !!!! #\n",
    "            #######################################################################################\n",
    "            super().__setattr__(name, value)\n",
    "\n",
    "\n",
    "m = MyClass()\n",
    "m.x\n",
    "print(\"=\" * 80)\n",
    "m.y\n",
    "print(\"=\" * 80)\n",
    "m.x = 1"
   ]
  },
  {
   "cell_type": "markdown",
   "id": "50567297-0f57-4699-918c-8325ebb73255",
   "metadata": {},
   "source": [
    "#### `__class__` & `__dict__` attributes"
   ]
  },
  {
   "cell_type": "markdown",
   "id": "9bc67ee0-5eda-471e-8622-ac67fb8538e9",
   "metadata": {},
   "source": [
    "The special `__class__` and `__dict__` attributes are data descriptor. It is used to ensure that the special __class__ and __dict__ attributes cannot be redefined by the same names in an instance’s own __dict__:\n",
    "> Learning Python 40. Metaclasses : Inheritance and Instance, The descriptors special case"
   ]
  },
  {
   "cell_type": "code",
   "execution_count": 83,
   "id": "d4522343-a152-4032-9ef5-42a4062fe89e",
   "metadata": {},
   "outputs": [
    {
     "data": {
      "text/plain": [
       "(__main__.C, {})"
      ]
     },
     "execution_count": 83,
     "metadata": {},
     "output_type": "execute_result"
    }
   ],
   "source": [
    "class C: pass                          # Inheritance special case #1...\n",
    "I = C()                                # Class data descriptors have precedence\n",
    "I.__class__, I.__dict__"
   ]
  },
  {
   "cell_type": "code",
   "execution_count": 89,
   "id": "562d20a6-861b-47f0-a694-cd66cfa96232",
   "metadata": {},
   "outputs": [],
   "source": [
    "I.__dict__['name'] = 'bob'             # Dynamic data in the instance\n",
    "I.__dict__['__class__'] = 'spam'       # Assign keys, not attributes\n",
    "I.__dict__['__dict__']  = {}"
   ]
  },
  {
   "cell_type": "code",
   "execution_count": 85,
   "id": "427728f2-509c-465c-aafb-dcf36ce41e2c",
   "metadata": {},
   "outputs": [
    {
     "data": {
      "text/plain": [
       "'bob'"
      ]
     },
     "execution_count": 85,
     "metadata": {},
     "output_type": "execute_result"
    }
   ],
   "source": [
    "I.name                                 # I.name comes from I.__dict__ as usual\n",
    "## 'bob'                               # But I.__class__ and I.__dict__ do not!"
   ]
  },
  {
   "cell_type": "code",
   "execution_count": 87,
   "id": "bf794482-8665-41c2-b983-833f82ed7954",
   "metadata": {},
   "outputs": [
    {
     "data": {
      "text/plain": [
       "(__main__.C, {'name': 'bob', '__class__': 'spam', '__dict__': {}})"
      ]
     },
     "execution_count": 87,
     "metadata": {},
     "output_type": "execute_result"
    }
   ],
   "source": [
    "I.__class__, I.__dict__\n",
    "## (<class '__main__.C'>, {'__class__': 'spam', '__dict__': {}, 'name': 'bob'})"
   ]
  },
  {
   "cell_type": "markdown",
   "id": "d01b7650-c904-4318-ad00-999643e3e140",
   "metadata": {},
   "source": [
    "##### Property Implementation"
   ]
  },
  {
   "cell_type": "code",
   "execution_count": 90,
   "id": "0cd55c55-9fea-47aa-a6e7-44bef77f2ea4",
   "metadata": {},
   "outputs": [],
   "source": [
    "# https://docs.python.org/3.10/howto/descriptor.html#properties\n",
    "\n",
    "class Property:\n",
    "    \"Emulate PyProperty_Type() in Objects/descrobject.c\"\n",
    "\n",
    "    def __init__(self, fget=None, fset=None, fdel=None, doc=None):\n",
    "        self.fget = fget\n",
    "        self.fset = fset\n",
    "        self.fdel = fdel\n",
    "        if doc is None and fget is not None:\n",
    "            doc = fget.__doc__\n",
    "        self.__doc__ = doc\n",
    "        self._name = ''\n",
    "\n",
    "    def __set_name__(self, owner, name):\n",
    "        self._name = name\n",
    "\n",
    "    def __get__(self, obj, objtype=None):\n",
    "        if obj is None:\n",
    "            return self\n",
    "        if self.fget is None:\n",
    "            raise AttributeError(f'unreadable attribute {self._name}')\n",
    "        return self.fget(obj)\n",
    "\n",
    "    def __set__(self, obj, value):\n",
    "        if self.fset is None:\n",
    "            raise AttributeError(f\"can't set attribute {self._name}\")\n",
    "        self.fset(obj, value)\n",
    "\n",
    "    def __delete__(self, obj):\n",
    "        if self.fdel is None:\n",
    "            raise AttributeError(f\"can't delete attribute {self._name}\")\n",
    "        self.fdel(obj)\n",
    "\n",
    "    #def getter(self, fget):\n",
    "    #    prop = type(self)(fget, self.fset, self.fdel, self.__doc__)\n",
    "    #    prop._name = self._name\n",
    "    #    return prop\n",
    "    def getter(self, fget):\n",
    "        self.fget = fget\n",
    "        return self\n",
    "\n",
    "    #def setter(self, fset):\n",
    "    #    prop = type(self)(self.fget, fset, self.fdel, self.__doc__)\n",
    "    #    prop._name = self._name\n",
    "    #    return prop\n",
    "    def setter(self, fset):\n",
    "        self.fset = fset\n",
    "        return self\n",
    "\n",
    "    def deleter(self, fdel):\n",
    "        prop = type(self)(self.fget, self.fset, fdel, self.__doc__)\n",
    "        prop._name = self._name\n",
    "        return prop"
   ]
  },
  {
   "cell_type": "code",
   "execution_count": 7,
   "id": "e6cfc35f-f252-48b1-adb7-f224e262dbdc",
   "metadata": {},
   "outputs": [],
   "source": [
    "class Box:\n",
    "    bird = Property()\n",
    "    \n",
    "    @bird.getter\n",
    "    def get_bird(self):\n",
    "        return self._bird\n",
    "\n",
    "    @bird.setter\n",
    "    def set_bird(self, value):\n",
    "        self._bird = value"
   ]
  },
  {
   "cell_type": "code",
   "execution_count": 8,
   "id": "c28f1dba-4bce-46db-b363-132881979db2",
   "metadata": {},
   "outputs": [
    {
     "data": {
      "text/plain": [
       "10"
      ]
     },
     "execution_count": 8,
     "metadata": {},
     "output_type": "execute_result"
    }
   ],
   "source": [
    "box = Box()\n",
    "box.bird = 10\n",
    "box.bird"
   ]
  },
  {
   "cell_type": "markdown",
   "id": "24358a9b-6cef-4374-95ce-9986784b7361",
   "metadata": {},
   "source": [
    "----"
   ]
  },
  {
   "cell_type": "markdown",
   "id": "b693513a-a14e-498d-87b6-fe1c6ee3aa4c",
   "metadata": {},
   "source": [
    "### Attribute Access (`__getattribute__` demystify)"
   ]
  },
  {
   "cell_type": "markdown",
   "id": "059e4418-df90-4a83-a394-f31114db3629",
   "metadata": {},
   "source": [
    "####  `object.__getattribute__() pure Python equivalent`"
   ]
  },
  {
   "cell_type": "code",
   "execution_count": 70,
   "id": "c22b73d2-700e-46c5-9ee5-56486d26c9a0",
   "metadata": {},
   "outputs": [],
   "source": [
    "# https://docs.python.org/3.10/howto/descriptor.html#invocation-from-an-instance\n",
    "\n",
    "def object_getattribute(obj, name):\n",
    "    \"Emulate PyObject_GenericGetAttr() in Objects/object.c\"\n",
    "    null = object()\n",
    "    objtype = type(obj)\n",
    "    cls_var = getattr(objtype, name, null)\n",
    "    descr_get = getattr(type(cls_var), '__get__', null)\n",
    "    if descr_get is not null:\n",
    "        if (hasattr(type(cls_var), '__set__')\n",
    "            or hasattr(type(cls_var), '__delete__')):\n",
    "            return descr_get(cls_var, obj, objtype)     # data descriptor\n",
    "    if hasattr(obj, '__dict__') and name in vars(obj):\n",
    "        return vars(obj)[name]                          # instance variable\n",
    "    if descr_get is not null:\n",
    "        return descr_get(cls_var, obj, objtype)         # non-data descriptor\n",
    "    if cls_var is not null:\n",
    "        return cls_var                                  # class variable\n",
    "    raise AttributeError(name)"
   ]
  },
  {
   "cell_type": "markdown",
   "id": "f87eae65-56f3-402c-b85b-c343c4a0f78d",
   "metadata": {},
   "source": [
    "**`Note, there is no __getattr__() hook in the __getattribute__() code.`** `That is why calling __getattribute__() directly or with super().__getattribute__() will bypass __getattr__() entirely.\n",
    "Instead, it is the dot operator and the getattr() function that are responsible for invoking __getattr__() whenever __getattribute__() raises an AttributeError. Their logic is encapsulated in a helper function:`"
   ]
  },
  {
   "cell_type": "code",
   "execution_count": 68,
   "id": "9631d1bf-8d42-4e8b-81cd-7b241b2f6be8",
   "metadata": {},
   "outputs": [],
   "source": [
    "def getattr_hook(obj, name):\n",
    "    \"Emulate slot_tp_getattr_hook() in Objects/typeobject.c\"\n",
    "    try:\n",
    "        return obj.__getattribute__(name)\n",
    "    except AttributeError:\n",
    "        if not hasattr(type(obj), '__getattr__'):\n",
    "            raise\n",
    "    return type(obj).__getattr__(obj, name)             # __getattr__"
   ]
  },
  {
   "cell_type": "markdown",
   "id": "65d65a98-67eb-4f4a-a87d-14cf46f7bc5a",
   "metadata": {},
   "source": [
    "**[summary-of-invocation-logic](https://docs.python.org/3.10/howto/descriptor.html#summary-of-invocation-logic)**\n",
    "\n",
    "#### Attribute Reference/Lookup\n",
    "> Learning Python 40. Metaclasses : Inheritance and Instance\n",
    "\n",
    "With both the data descriptor special case and general descriptor invocation factored in with class and metaclass trees, Python’s full new-style inheritance algorithm can be stated as follows—a complex procedure, which assumes knowledge of descriptors, metaclasses, and MROs, but is the final arbiter of attribute names nonetheless (in the following, items are attempted in sequence either as numbered, or per their left-to-right order in “or” conjunctions):\n",
    "\n",
    "_To look up an explicit attribute name:_\n",
    "1. From an instance I, search the instance, its class, and its superclasses, as follows:\n",
    "    - a. Search the `__dict__` of all classes on the `__mro__` found at I’s `__class__`\n",
    "    - b. If a data descriptor was found in step _a_, call its `__get__` and exit\n",
    "    - c. Else, return a value in the `__dict__` of the instance **I**\n",
    "    - d. Else, call a nondata descriptor or return a value found in step _a_\n",
    "2. From a _class_ **C**, search the class, its superclasses, and its metaclasses tree, as follows:\n",
    "    - a. Search the `__dict__` of all metaclasses on the `__mro__` found at **C**’s `__class__`\n",
    "    - b. If a data descriptor was found in step _a_, call its `__get__` and exit\n",
    "    - c. Else, call a descriptor or return a value in the `__dict__` of a class on **C**’s own `__mro__`\n",
    "    - d. Else, call a nondata descriptor or return a value found in step _a_\n"
   ]
  },
  {
   "cell_type": "markdown",
   "id": "61aa43ef-0c20-4b15-9377-5accb92d3483",
   "metadata": {},
   "source": [
    "### Assignment inheritance"
   ]
  },
  {
   "cell_type": "markdown",
   "id": "aba9b76b-eb6c-447c-917d-f2e7a0b94a6d",
   "metadata": {},
   "source": [
    "When an attribute assignment is run for new-style classes, a data descriptor with a `__set__` method is acquired from a class by inheritance using the MRO, and has precedence over the normal storage model. In terms of the prior section’s rules:\n",
    "\n",
    " - When applied to an instance, such assignments essentially follow steps _a_ through _c_ of rule 1, searching the instance’s class tree, though step b calls `__set__` instead of `__get__`, and step c stops and stores in the instance instead of attempting a fetch.\n",
    " - When applied to a class, such assignments run the same procedure on the class’s metaclass tree: roughly the same as rule 2, but step c stops and stores in the class.\n",
    "\n",
    "Because descriptors are also the basis for other advanced attribute tools such as properties and slots, this inheritance pre-check on assignment is utilized in multiple contexts. The net effect is that descriptors are treated as an inheritance special case in new-style classes, for both reference and assignment. "
   ]
  },
  {
   "cell_type": "markdown",
   "id": "c59a56f0-919b-4311-80c8-0db10922b69c",
   "metadata": {},
   "source": [
    "----"
   ]
  },
  {
   "cell_type": "markdown",
   "id": "83ff5124-673c-4dd0-a0f1-10a27b3ad1fd",
   "metadata": {},
   "source": [
    "#### Scope"
   ]
  },
  {
   "cell_type": "code",
   "execution_count": 9,
   "id": "553df3f5-3f4f-4ebd-b080-94ad55dfa49c",
   "metadata": {},
   "outputs": [
    {
     "name": "stdout",
     "output_type": "stream",
     "text": [
      "cold init_stat=1\n",
      "257745 init_stat=2\n",
      "spam init_stat=10\n",
      "245674 init_stat=11\n",
      "duck init_stat=20\n",
      "757899 init_stat=21\n"
     ]
    }
   ],
   "source": [
    "# Each call to a function creates a new local scope.\n",
    "\n",
    "def factory(init_stat=1):\n",
    "    def func1(a):\n",
    "        nonlocal init_stat\n",
    "        print(\"%s init_stat=%d\" % (a, init_stat))\n",
    "        init_stat += 1\n",
    "        \n",
    "    def func2(b):\n",
    "        nonlocal init_stat\n",
    "        print(\"%d init_stat=%d\" % (b, init_stat))\n",
    "        init_stat += 1\n",
    "    return func1, func2\n",
    "\n",
    "\n",
    "funcs0 = factory()\n",
    "funcs0[0](\"cold\")\n",
    "funcs0[1](257745)\n",
    "\n",
    "funcs1 = factory(10)\n",
    "funcs1[0](\"spam\")\n",
    "funcs1[1](245674)\n",
    "\n",
    "funcs2 = factory(20)\n",
    "funcs2[0](\"duck\")\n",
    "funcs2[1](757899)"
   ]
  },
  {
   "cell_type": "code",
   "execution_count": 10,
   "id": "354f256d-17a6-48e4-8423-b1489dc74a00",
   "metadata": {},
   "outputs": [
    {
     "name": "stdout",
     "output_type": "stream",
     "text": [
      "__annotations__ {}\n",
      "__call__ can't call w/o args\n",
      "__class__ can't call w/o args\n",
      "__closure__ (<cell at 0x7fffe9dd1910: int object at 0x5555558ebe20>,)\n",
      "__code__ <code object func1 at 0x7fffe9dd75b0, file \"/tmp/ipykernel_28080/469221007.py\", line 4>\n",
      "__defaults__ None\n",
      "__delattr__ can't call w/o args\n",
      "__dict__ {}\n",
      "__dir__ ['__repr__', '__call__', '__get__', '__new__', '__closure__', '__doc__', '__globals__', '__module__', '__code__', '__defaults__', '__kwdefaults__', '__annotations__', '__dict__', '__name__', '__qualname__', '__hash__', '__str__', '__getattribute__', '__setattr__', '__delattr__', '__lt__', '__le__', '__eq__', '__ne__', '__gt__', '__ge__', '__init__', '__reduce_ex__', '__reduce__', '__subclasshook__', '__init_subclass__', '__format__', '__sizeof__', '__dir__', '__class__']\n",
      "__doc__ None\n",
      "__eq__ can't call w/o args\n",
      "__format__ can't call w/o args\n",
      "__ge__ can't call w/o args\n",
      "__get__ can't call w/o args\n",
      "__getattribute__ can't call w/o args\n",
      "__globals__ {'__name__': '__main__', '__doc__': 'Automatically created module for IPython interactive environment', '__package__': None, '__loader__': None, '__spec__': None, '__builtin__': <module 'builtins' (built-in)>, '__builtins__': <module 'builtins' (built-in)>, '_ih': ['', '# 1). positional argument\\n# 2). positional argument with default value\\n# 3). variable positional arguments\\n# 4). keyword-only argument\\n# 5). keyword-only argument with default value\\n# 6). variable keword-only arguments\\ndef func_args(pa1, pa2, pa3=3, *w, ka4, ka5=5, **kw):\\n    print(f\"pa1={pa1}, pa2={pa2}, pa3={pa3}, w={w}, ka4={ka4}, ka5={ka5}, kw={kw}\")', 'func_args(1,2,3,4,5,6,ka4=4)', '# PEP 570 -- Python Positional-Only Parameters\\n# Python 3.8\\n# https://www.python.org/dev/peps/pep-0570\\n\\ndef name(positional_only_parameters, /, positional_or_keyword_parameters_1, positional_or_keyword_parameters_2=2, *, keyword_only_parameters, **kwargs):\\n    print(f\"positional_only_parameters={positional_only_parameters}, positional_or_keyword_parameters_1={positional_or_keyword_parameters_1}, positional_or_keyword_parameters_2={positional_or_keyword_parameters_2}, keyword_only_parameters={keyword_only_parameters}\")', 'name(0, 1, keyword_only_parameters=3)', 'name(0, positional_or_keyword_parameters_2=2, positional_or_keyword_parameters_1=1, keyword_only_parameters=3)', '# https://docs.python.org/3/howto/descriptor.html#properties\\n\\nclass Property:\\n    \"Emulate PyProperty_Type() in Objects/descrobject.c\"\\n\\n    def __init__(self, fget=None, fset=None, fdel=None, doc=None):\\n        self.fget = fget\\n        self.fset = fset\\n        self.fdel = fdel\\n        if doc is None and fget is not None:\\n            doc = fget.__doc__\\n        self.__doc__ = doc\\n        self._name = \\'\\'\\n\\n    def __set_name__(self, owner, name):\\n        self._name = name\\n\\n    def __get__(self, obj, objtype=None):\\n        if obj is None:\\n            return self\\n        if self.fget is None:\\n            raise AttributeError(f\\'unreadable attribute {self._name}\\')\\n        return self.fget(obj)\\n\\n    def __set__(self, obj, value):\\n        if self.fset is None:\\n            raise AttributeError(f\"can\\'t set attribute {self._name}\")\\n        self.fset(obj, value)\\n\\n    def __delete__(self, obj):\\n        if self.fdel is None:\\n            raise AttributeError(f\"can\\'t delete attribute {self._name}\")\\n        self.fdel(obj)\\n\\n    #def getter(self, fget):\\n    #    prop = type(self)(fget, self.fset, self.fdel, self.__doc__)\\n    #    prop._name = self._name\\n    #    return prop\\n    def getter(self, fget):\\n        self.fget = fget\\n        return self\\n\\n    #def setter(self, fset):\\n    #    prop = type(self)(self.fget, fset, self.fdel, self.__doc__)\\n    #    prop._name = self._name\\n    #    return prop\\n    def setter(self, fset):\\n        self.fset = fset\\n        return self\\n\\n    def deleter(self, fdel):\\n        prop = type(self)(self.fget, self.fset, fdel, self.__doc__)\\n        prop._name = self._name\\n        return prop', 'class Box:\\n    bird = Property()\\n    \\n    @bird.getter\\n    def get_bird(self):\\n        return self._bird\\n\\n    @bird.setter\\n    def set_bird(self, value):\\n        self._bird = value', 'box = Box()\\nbox.bird = 10\\nbox.bird', '# Each call to a function creates a new local scope.\\n\\ndef factory(init_stat=1):\\n    def func1(a):\\n        nonlocal init_stat\\n        print(\"%s init_stat=%d\" % (a, init_stat))\\n        init_stat += 1\\n        \\n    def func2(b):\\n        nonlocal init_stat\\n        print(\"%d init_stat=%d\" % (b, init_stat))\\n        init_stat += 1\\n    return func1, func2\\n\\n\\nfuncs0 = factory()\\nfuncs0[0](\"cold\")\\nfuncs0[1](257745)\\n\\nfuncs1 = factory(10)\\nfuncs1[0](\"spam\")\\nfuncs1[1](245674)\\n\\nfuncs2 = factory(20)\\nfuncs2[0](\"duck\")\\nfuncs2[1](757899)', 'for func_dir in dir(funcs0[0]):\\n    print(func_dir, end=\\' \\')\\n    if callable(eval(\\'funcs0[0].\\' + func_dir)):\\n        try:\\n            print(eval(\\'funcs0[0].\\' + func_dir + \\'()\\'))\\n        except:\\n            print(\"can\\'t call w/o args\")\\n    else:\\n        print(eval(\\'funcs0[0].\\' + func_dir))'], '_oh': {8: 10}, '_dh': ['/home/scratch.edwardc_gpu_2/lab/data/notebook_root/mypylab'], 'In': ['', '# 1). positional argument\\n# 2). positional argument with default value\\n# 3). variable positional arguments\\n# 4). keyword-only argument\\n# 5). keyword-only argument with default value\\n# 6). variable keword-only arguments\\ndef func_args(pa1, pa2, pa3=3, *w, ka4, ka5=5, **kw):\\n    print(f\"pa1={pa1}, pa2={pa2}, pa3={pa3}, w={w}, ka4={ka4}, ka5={ka5}, kw={kw}\")', 'func_args(1,2,3,4,5,6,ka4=4)', '# PEP 570 -- Python Positional-Only Parameters\\n# Python 3.8\\n# https://www.python.org/dev/peps/pep-0570\\n\\ndef name(positional_only_parameters, /, positional_or_keyword_parameters_1, positional_or_keyword_parameters_2=2, *, keyword_only_parameters, **kwargs):\\n    print(f\"positional_only_parameters={positional_only_parameters}, positional_or_keyword_parameters_1={positional_or_keyword_parameters_1}, positional_or_keyword_parameters_2={positional_or_keyword_parameters_2}, keyword_only_parameters={keyword_only_parameters}\")', 'name(0, 1, keyword_only_parameters=3)', 'name(0, positional_or_keyword_parameters_2=2, positional_or_keyword_parameters_1=1, keyword_only_parameters=3)', '# https://docs.python.org/3/howto/descriptor.html#properties\\n\\nclass Property:\\n    \"Emulate PyProperty_Type() in Objects/descrobject.c\"\\n\\n    def __init__(self, fget=None, fset=None, fdel=None, doc=None):\\n        self.fget = fget\\n        self.fset = fset\\n        self.fdel = fdel\\n        if doc is None and fget is not None:\\n            doc = fget.__doc__\\n        self.__doc__ = doc\\n        self._name = \\'\\'\\n\\n    def __set_name__(self, owner, name):\\n        self._name = name\\n\\n    def __get__(self, obj, objtype=None):\\n        if obj is None:\\n            return self\\n        if self.fget is None:\\n            raise AttributeError(f\\'unreadable attribute {self._name}\\')\\n        return self.fget(obj)\\n\\n    def __set__(self, obj, value):\\n        if self.fset is None:\\n            raise AttributeError(f\"can\\'t set attribute {self._name}\")\\n        self.fset(obj, value)\\n\\n    def __delete__(self, obj):\\n        if self.fdel is None:\\n            raise AttributeError(f\"can\\'t delete attribute {self._name}\")\\n        self.fdel(obj)\\n\\n    #def getter(self, fget):\\n    #    prop = type(self)(fget, self.fset, self.fdel, self.__doc__)\\n    #    prop._name = self._name\\n    #    return prop\\n    def getter(self, fget):\\n        self.fget = fget\\n        return self\\n\\n    #def setter(self, fset):\\n    #    prop = type(self)(self.fget, fset, self.fdel, self.__doc__)\\n    #    prop._name = self._name\\n    #    return prop\\n    def setter(self, fset):\\n        self.fset = fset\\n        return self\\n\\n    def deleter(self, fdel):\\n        prop = type(self)(self.fget, self.fset, fdel, self.__doc__)\\n        prop._name = self._name\\n        return prop', 'class Box:\\n    bird = Property()\\n    \\n    @bird.getter\\n    def get_bird(self):\\n        return self._bird\\n\\n    @bird.setter\\n    def set_bird(self, value):\\n        self._bird = value', 'box = Box()\\nbox.bird = 10\\nbox.bird', '# Each call to a function creates a new local scope.\\n\\ndef factory(init_stat=1):\\n    def func1(a):\\n        nonlocal init_stat\\n        print(\"%s init_stat=%d\" % (a, init_stat))\\n        init_stat += 1\\n        \\n    def func2(b):\\n        nonlocal init_stat\\n        print(\"%d init_stat=%d\" % (b, init_stat))\\n        init_stat += 1\\n    return func1, func2\\n\\n\\nfuncs0 = factory()\\nfuncs0[0](\"cold\")\\nfuncs0[1](257745)\\n\\nfuncs1 = factory(10)\\nfuncs1[0](\"spam\")\\nfuncs1[1](245674)\\n\\nfuncs2 = factory(20)\\nfuncs2[0](\"duck\")\\nfuncs2[1](757899)', 'for func_dir in dir(funcs0[0]):\\n    print(func_dir, end=\\' \\')\\n    if callable(eval(\\'funcs0[0].\\' + func_dir)):\\n        try:\\n            print(eval(\\'funcs0[0].\\' + func_dir + \\'()\\'))\\n        except:\\n            print(\"can\\'t call w/o args\")\\n    else:\\n        print(eval(\\'funcs0[0].\\' + func_dir))'], 'Out': {8: 10}, 'get_ipython': <bound method InteractiveShell.get_ipython of <ipykernel.zmqshell.ZMQInteractiveShell object at 0x7fffedf33a90>>, 'exit': <IPython.core.autocall.ZMQExitAutocall object at 0x7fffe9e51970>, 'quit': <IPython.core.autocall.ZMQExitAutocall object at 0x7fffe9e51970>, '_': 10, '__': '', '___': '', '_i': '# Each call to a function creates a new local scope.\\n\\ndef factory(init_stat=1):\\n    def func1(a):\\n        nonlocal init_stat\\n        print(\"%s init_stat=%d\" % (a, init_stat))\\n        init_stat += 1\\n        \\n    def func2(b):\\n        nonlocal init_stat\\n        print(\"%d init_stat=%d\" % (b, init_stat))\\n        init_stat += 1\\n    return func1, func2\\n\\n\\nfuncs0 = factory()\\nfuncs0[0](\"cold\")\\nfuncs0[1](257745)\\n\\nfuncs1 = factory(10)\\nfuncs1[0](\"spam\")\\nfuncs1[1](245674)\\n\\nfuncs2 = factory(20)\\nfuncs2[0](\"duck\")\\nfuncs2[1](757899)', '_ii': 'box = Box()\\nbox.bird = 10\\nbox.bird', '_iii': 'class Box:\\n    bird = Property()\\n    \\n    @bird.getter\\n    def get_bird(self):\\n        return self._bird\\n\\n    @bird.setter\\n    def set_bird(self, value):\\n        self._bird = value', '_i1': '# 1). positional argument\\n# 2). positional argument with default value\\n# 3). variable positional arguments\\n# 4). keyword-only argument\\n# 5). keyword-only argument with default value\\n# 6). variable keword-only arguments\\ndef func_args(pa1, pa2, pa3=3, *w, ka4, ka5=5, **kw):\\n    print(f\"pa1={pa1}, pa2={pa2}, pa3={pa3}, w={w}, ka4={ka4}, ka5={ka5}, kw={kw}\")', 'func_args': <function func_args at 0x7fffe9e175e0>, '_i2': 'func_args(1,2,3,4,5,6,ka4=4)', '_i3': '# PEP 570 -- Python Positional-Only Parameters\\n# Python 3.8\\n# https://www.python.org/dev/peps/pep-0570\\n\\ndef name(positional_only_parameters, /, positional_or_keyword_parameters_1, positional_or_keyword_parameters_2=2, *, keyword_only_parameters, **kwargs):\\n    print(f\"positional_only_parameters={positional_only_parameters}, positional_or_keyword_parameters_1={positional_or_keyword_parameters_1}, positional_or_keyword_parameters_2={positional_or_keyword_parameters_2}, keyword_only_parameters={keyword_only_parameters}\")', 'name': <function name at 0x7fffe9e171f0>, '_i4': 'name(0, 1, keyword_only_parameters=3)', '_i5': 'name(0, positional_or_keyword_parameters_2=2, positional_or_keyword_parameters_1=1, keyword_only_parameters=3)', '_i6': '# https://docs.python.org/3/howto/descriptor.html#properties\\n\\nclass Property:\\n    \"Emulate PyProperty_Type() in Objects/descrobject.c\"\\n\\n    def __init__(self, fget=None, fset=None, fdel=None, doc=None):\\n        self.fget = fget\\n        self.fset = fset\\n        self.fdel = fdel\\n        if doc is None and fget is not None:\\n            doc = fget.__doc__\\n        self.__doc__ = doc\\n        self._name = \\'\\'\\n\\n    def __set_name__(self, owner, name):\\n        self._name = name\\n\\n    def __get__(self, obj, objtype=None):\\n        if obj is None:\\n            return self\\n        if self.fget is None:\\n            raise AttributeError(f\\'unreadable attribute {self._name}\\')\\n        return self.fget(obj)\\n\\n    def __set__(self, obj, value):\\n        if self.fset is None:\\n            raise AttributeError(f\"can\\'t set attribute {self._name}\")\\n        self.fset(obj, value)\\n\\n    def __delete__(self, obj):\\n        if self.fdel is None:\\n            raise AttributeError(f\"can\\'t delete attribute {self._name}\")\\n        self.fdel(obj)\\n\\n    #def getter(self, fget):\\n    #    prop = type(self)(fget, self.fset, self.fdel, self.__doc__)\\n    #    prop._name = self._name\\n    #    return prop\\n    def getter(self, fget):\\n        self.fget = fget\\n        return self\\n\\n    #def setter(self, fset):\\n    #    prop = type(self)(self.fget, fset, self.fdel, self.__doc__)\\n    #    prop._name = self._name\\n    #    return prop\\n    def setter(self, fset):\\n        self.fset = fset\\n        return self\\n\\n    def deleter(self, fdel):\\n        prop = type(self)(self.fget, self.fset, fdel, self.__doc__)\\n        prop._name = self._name\\n        return prop', 'Property': <class '__main__.Property'>, '_i7': 'class Box:\\n    bird = Property()\\n    \\n    @bird.getter\\n    def get_bird(self):\\n        return self._bird\\n\\n    @bird.setter\\n    def set_bird(self, value):\\n        self._bird = value', 'Box': <class '__main__.Box'>, '_i8': 'box = Box()\\nbox.bird = 10\\nbox.bird', 'box': <__main__.Box object at 0x7fffe9e11cd0>, '_8': 10, '_i9': '# Each call to a function creates a new local scope.\\n\\ndef factory(init_stat=1):\\n    def func1(a):\\n        nonlocal init_stat\\n        print(\"%s init_stat=%d\" % (a, init_stat))\\n        init_stat += 1\\n        \\n    def func2(b):\\n        nonlocal init_stat\\n        print(\"%d init_stat=%d\" % (b, init_stat))\\n        init_stat += 1\\n    return func1, func2\\n\\n\\nfuncs0 = factory()\\nfuncs0[0](\"cold\")\\nfuncs0[1](257745)\\n\\nfuncs1 = factory(10)\\nfuncs1[0](\"spam\")\\nfuncs1[1](245674)\\n\\nfuncs2 = factory(20)\\nfuncs2[0](\"duck\")\\nfuncs2[1](757899)', 'factory': <function factory at 0x7fffe9e17f70>, 'funcs0': (<function factory.<locals>.func1 at 0x7fffe9de5040>, <function factory.<locals>.func2 at 0x7fffe9de50d0>), 'funcs1': (<function factory.<locals>.func1 at 0x7fffe9de5430>, <function factory.<locals>.func2 at 0x7fffe9de54c0>), 'funcs2': (<function factory.<locals>.func1 at 0x7fffe9de5790>, <function factory.<locals>.func2 at 0x7fffe9de5820>), '_i10': 'for func_dir in dir(funcs0[0]):\\n    print(func_dir, end=\\' \\')\\n    if callable(eval(\\'funcs0[0].\\' + func_dir)):\\n        try:\\n            print(eval(\\'funcs0[0].\\' + func_dir + \\'()\\'))\\n        except:\\n            print(\"can\\'t call w/o args\")\\n    else:\\n        print(eval(\\'funcs0[0].\\' + func_dir))', 'func_dir': '__globals__'}\n",
      "__gt__ can't call w/o args\n",
      "__hash__ 8796069815556\n",
      "__init__ None\n",
      "__init_subclass__ None\n",
      "__kwdefaults__ None\n",
      "__le__ can't call w/o args\n",
      "__lt__ can't call w/o args\n",
      "__module__ __main__\n",
      "__name__ func1\n",
      "__ne__ can't call w/o args\n",
      "__new__ can't call w/o args\n",
      "__qualname__ factory.<locals>.func1\n",
      "__reduce__ can't call w/o args\n",
      "__reduce_ex__ can't call w/o args\n",
      "__repr__ <function factory.<locals>.func1 at 0x7fffe9de5040>\n",
      "__setattr__ can't call w/o args\n",
      "__sizeof__ 120\n",
      "__str__ <function factory.<locals>.func1 at 0x7fffe9de5040>\n",
      "__subclasshook__ NotImplemented\n"
     ]
    }
   ],
   "source": [
    "for func_dir in dir(funcs0[0]):\n",
    "    print(func_dir, end=' ')\n",
    "    if callable(eval('funcs0[0].' + func_dir)):\n",
    "        try:\n",
    "            print(eval('funcs0[0].' + func_dir + '()'))\n",
    "        except:\n",
    "            print(\"can't call w/o args\")\n",
    "    else:\n",
    "        print(eval('funcs0[0].' + func_dir))"
   ]
  },
  {
   "cell_type": "code",
   "execution_count": 15,
   "id": "09c736cd-70a6-4d8a-a632-c64d54906d04",
   "metadata": {},
   "outputs": [
    {
     "name": "stdout",
     "output_type": "stream",
     "text": [
      "11\n",
      "33\n",
      "11\n",
      "33\n"
     ]
    }
   ],
   "source": [
    "X = 11\n",
    "\n",
    "def f():     # Global (module) name/attribute (X, or manynames.X)\n",
    "    print(X) # Access global X (11)\n",
    "\n",
    "def g():\n",
    "    X = 22\n",
    "    print(X) # Local (function) variable (X, hides module X)\n",
    "\n",
    "#################################################\n",
    "#### !!! class is not an enclosing scope !!! ####\n",
    "#################################################\n",
    "class C:\n",
    "    print(X)\n",
    "    X = 33 # This should be treated as attribute\n",
    "    print(X)\n",
    "    def m(self):\n",
    "        #################################################\n",
    "        print(X)     # !!! NOT 33 !!!\n",
    "        #################################################\n",
    "        print(C.X)   # Class attribute (C.X)\n",
    "    def m2():\n",
    "        X = 44       # Local variable in method (X)\n",
    "        self.X = 55  # Instance attribute (instance.X)\n",
    "\n",
    "I = C()\n",
    "I.m()\n"
   ]
  },
  {
   "cell_type": "code",
   "execution_count": 19,
   "id": "388e17cd-4d5c-4063-b721-304639c733b2",
   "metadata": {},
   "outputs": [
    {
     "name": "stdout",
     "output_type": "stream",
     "text": [
      "1\n",
      "1\n",
      "1\n",
      "\n",
      "1\n",
      "3\n",
      "----------------------------------------\n"
     ]
    }
   ],
   "source": [
    "X = 1\n",
    "\n",
    "def nester():\n",
    "    print(X) # Global: 1\n",
    "    class C:\n",
    "        print(X) # Global: 1\n",
    "        def method1(self):\n",
    "            print(X) # Global: 1\n",
    "        def method2(self):\n",
    "            X = 3 # Hides global\n",
    "            print(X) # Local: 3\n",
    "    print()\n",
    "    I = C()\n",
    "    I.method1()\n",
    "    I.method2()\n",
    "\n",
    "print(X)\n",
    "nester()\n",
    "\n",
    "# Global: 1 # Rest: 1, 1, 1, 3"
   ]
  },
  {
   "cell_type": "code",
   "execution_count": 3,
   "id": "560d34dc-29b2-42cc-b92f-33d3586a7194",
   "metadata": {},
   "outputs": [
    {
     "ename": "SyntaxError",
     "evalue": "Missing parentheses in call to 'print'. Did you mean print(i)? (3888779665.py, line 4)",
     "output_type": "error",
     "traceback": [
      "\u001b[0;36m  File \u001b[0;32m\"/tmp/ipykernel_42869/3888779665.py\"\u001b[0;36m, line \u001b[0;32m4\u001b[0m\n\u001b[0;31m    print i\u001b[0m\n\u001b[0m          ^\u001b[0m\n\u001b[0;31mSyntaxError\u001b[0m\u001b[0;31m:\u001b[0m Missing parentheses in call to 'print'. Did you mean print(i)?\n"
     ]
    }
   ],
   "source": [
    "#### https://stackoverflow.com/questions/4296677\n",
    "\n",
    "i = 6\n",
    "def f(x):\n",
    "    def g():\n",
    "        print i\n",
    "    # ...\n",
    "    # skip to the next page\n",
    "    # ...\n",
    "    for i in x:  # ah, i *is* local to f, so this is what g sees\n",
    "        pass\n",
    "    g()\n",
    "## The call to g() will refer to the variable i bound in f() by the for loop. If g() is called before the loop is executed, a NameError will be raised."
   ]
  },
  {
   "cell_type": "code",
   "execution_count": 16,
   "id": "a7ff6006-6781-4515-be95-f6d311767e95",
   "metadata": {},
   "outputs": [
    {
     "name": "stdout",
     "output_type": "stream",
     "text": [
      "Bob\n",
      "Bob Bob\n",
      "Bob Sue Bob\n",
      "SharedName Sue SharedName\n"
     ]
    }
   ],
   "source": [
    "class rec: pass\n",
    "\n",
    "rec.name = 'Bob'\n",
    "rec.age = 40\n",
    "\n",
    "print(rec.name)\n",
    "\n",
    "x = rec()\n",
    "y = rec()\n",
    "\n",
    "print(x.name, y.name)\n",
    "x.name = 'Sue'\n",
    "print(rec.name, x.name, y.name)\n",
    "rec.name = 'SharedName'\n",
    "print(rec.name, x.name, y.name)"
   ]
  },
  {
   "cell_type": "code",
   "execution_count": 17,
   "id": "432f8a23-3dd0-46f5-b459-d5fe65142079",
   "metadata": {},
   "outputs": [
    {
     "name": "stdout",
     "output_type": "stream",
     "text": [
      "['__module__', '__dict__', '__weakref__', '__doc__', 'name', 'age']\n",
      "['name', 'age']\n",
      "['name']\n",
      "[]\n"
     ]
    }
   ],
   "source": [
    "# The class’s namespace dictionary shows the name and age attributes\n",
    "# we assigned to it, x has its own name, and y is still empty.\n",
    "print(list(rec.__dict__.keys()))\n",
    "print(list(name for name in rec.__dict__ if not name.startswith('__')))\n",
    "print(list(x.__dict__.keys()))\n",
    "print(list(y.__dict__.keys()))\n"
   ]
  },
  {
   "cell_type": "code",
   "execution_count": 18,
   "id": "43e03261-e79a-41b4-8e53-49c7163520e8",
   "metadata": {},
   "outputs": [
    {
     "name": "stdout",
     "output_type": "stream",
     "text": [
      "<class '__main__.rec'>\n",
      "(<class 'object'>,)\n",
      "dict_keys(['__repr__', '__hash__', '__str__', '__getattribute__', '__setattr__', '__delattr__', '__lt__', '__le__', '__eq__', '__ne__', '__gt__', '__ge__', '__init__', '__new__', '__reduce_ex__', '__reduce__', '__subclasshook__', '__init_subclass__', '__format__', '__sizeof__', '__dir__', '__class__', '__doc__'])\n",
      "\n",
      "['__class__', '__delattr__', '__dict__', '__dir__', '__doc__', '__eq__', '__format__', '__ge__', '__getattribute__', '__gt__', '__hash__', '__init__', '__init_subclass__', '__le__', '__lt__', '__module__', '__ne__', '__new__', '__reduce__', '__reduce_ex__', '__repr__', '__setattr__', '__sizeof__', '__str__', '__subclasshook__', '__weakref__', 'age', 'name']\n",
      "['__class__', '__delattr__', '__dict__', '__dir__', '__doc__', '__eq__', '__format__', '__ge__', '__getattribute__', '__gt__', '__hash__', '__init__', '__init_subclass__', '__le__', '__lt__', '__module__', '__ne__', '__new__', '__reduce__', '__reduce_ex__', '__repr__', '__setattr__', '__sizeof__', '__str__', '__subclasshook__', '__weakref__', 'age', 'name']\n"
     ]
    }
   ],
   "source": [
    "print(x.__class__)\n",
    "print(rec.__bases__)\n",
    "print(object.__dict__.keys())\n",
    "print()\n",
    "\n",
    "print(dir(x))\n",
    "print(dir(rec))"
   ]
  },
  {
   "cell_type": "markdown",
   "id": "e779af22-92dc-47c6-aa5c-a944d3e746b6",
   "metadata": {},
   "source": [
    "----"
   ]
  },
  {
   "cell_type": "code",
   "execution_count": 11,
   "id": "fd781a53-1ef1-41f8-b32d-0eb9932ac3c4",
   "metadata": {},
   "outputs": [
    {
     "name": "stdout",
     "output_type": "stream",
     "text": [
      "import only make the module name available in enclosing scope\n",
      "['/home/scratch.edwardc_gpu_2/lab/data/notebook_root/mypylab', '/home/edwardc/lib/pylib', '/home/edwardc/lib/pylib/pudb-2019.2-py3.7.egg', '/home/edwardc/lib/pylib/urwid-2.1.0-py3.7-linux-x86_64.egg', '/home/scratch.edwardc_gpu_2/lab/tools/anaconda3/envs/d2l/lib/python38.zip', '/home/scratch.edwardc_gpu_2/lab/tools/anaconda3/envs/d2l/lib/python3.8', '/home/scratch.edwardc_gpu_2/lab/tools/anaconda3/envs/d2l/lib/python3.8/lib-dynload', '', '/home/edwardc/.local/lib/python3.8/site-packages', '/home/scratch.edwardc_gpu_2/lab/tools/anaconda3/envs/d2l/lib/python3.8/site-packages', '/home/scratch.edwardc_gpu_2/lab/tools/anaconda3/envs/d2l/lib/python3.8/site-packages/IPython/extensions', '/home/edwardc/.ipython']\n"
     ]
    }
   ],
   "source": [
    "def my_load_mod1():\n",
    "    import sys\n",
    "def my_load_mod2():\n",
    "    import sys\n",
    "    return sys\n",
    "\n",
    "try:\n",
    "    my_load_mod1()\n",
    "    print(sys.path)\n",
    "except:\n",
    "    print('import only make the module name available in enclosing scope')\n",
    "    sys = my_load_mod2()\n",
    "\n",
    "print(sys.path)"
   ]
  },
  {
   "cell_type": "markdown",
   "id": "056bbbce-a563-40a7-a450-65439c3fc6af",
   "metadata": {
    "tags": []
   },
   "source": [
    "----"
   ]
  },
  {
   "cell_type": "markdown",
   "id": "3f7ac003-9d18-4dd2-b99e-b9b5cb436ba7",
   "metadata": {},
   "source": [
    "#### Module loading"
   ]
  },
  {
   "cell_type": "code",
   "execution_count": 20,
   "id": "0ca5a02f-1bb0-461c-916c-f948c4efb7c5",
   "metadata": {},
   "outputs": [
    {
     "name": "stdout",
     "output_type": "stream",
     "text": [
      "['/home/scratch.edwardc_gpu_2/lab/data/notebook_root/mypylab', '/home/edwardc/lib/pylib', '/home/edwardc/lib/pylib/pudb-2019.2-py3.7.egg', '/home/edwardc/lib/pylib/urwid-2.1.0-py3.7-linux-x86_64.egg', '/home/scratch.edwardc_gpu_2/lab/tools/anaconda3/envs/d2l/lib/python38.zip', '/home/scratch.edwardc_gpu_2/lab/tools/anaconda3/envs/d2l/lib/python3.8', '/home/scratch.edwardc_gpu_2/lab/tools/anaconda3/envs/d2l/lib/python3.8/lib-dynload', '', '/home/edwardc/.local/lib/python3.8/site-packages', '/home/scratch.edwardc_gpu_2/lab/tools/anaconda3/envs/d2l/lib/python3.8/site-packages', '/home/scratch.edwardc_gpu_2/lab/tools/anaconda3/envs/d2l/lib/python3.8/site-packages/IPython/extensions', '/home/edwardc/.ipython']\n"
     ]
    }
   ],
   "source": [
    "# module search path\n",
    "\n",
    "import sys\n",
    "print(sys.path)"
   ]
  },
  {
   "cell_type": "code",
   "execution_count": 23,
   "id": "0e44ade4-e806-4804-8306-e4a42d1f70e4",
   "metadata": {},
   "outputs": [
    {
     "name": "stdout",
     "output_type": "stream",
     "text": [
      "modb 140737352981456\n",
      "modb\n",
      "modb\n"
     ]
    }
   ],
   "source": [
    "# module only have one object instance during the whole runtime no matter how many places that import it.\n",
    "# module a, b below both imported and changed var in module modsvar.\n",
    "# they take effect in the same object instance of module modsvar.\n",
    "# run below code again you will find that the result changes: module's code are executed only once at the first time it's imported\n",
    "\n",
    "from testmods import modsvar\n",
    "print (modsvar.var, id(modsvar))\n",
    "from testmods import moda\n",
    "print (modsvar.var)\n",
    "from testmods import modb\n",
    "print (modsvar.var)"
   ]
  },
  {
   "cell_type": "markdown",
   "id": "aac4e7d5-d04c-4675-b093-542594e5b369",
   "metadata": {},
   "source": [
    "----"
   ]
  },
  {
   "cell_type": "code",
   "execution_count": 26,
   "id": "61a00a68-61a0-4cda-80f5-13201684dac5",
   "metadata": {},
   "outputs": [
    {
     "name": "stdout",
     "output_type": "stream",
     "text": [
      "B\n",
      "A\n"
     ]
    }
   ],
   "source": [
    "# double underscores variable\n",
    "\n",
    "class A:\n",
    "    @property\n",
    "    def A_var(self):\n",
    "        return self.__var\n",
    "    \n",
    "    @A_var.setter\n",
    "    def A_var(self, value):\n",
    "        self.__var = value\n",
    "      \n",
    "    \n",
    "class B(A):\n",
    "    @property\n",
    "    def B_var(self):\n",
    "        return self.__var\n",
    "    \n",
    "    @B_var.setter\n",
    "    def B_var(self, value):\n",
    "        self.__var = value\n",
    "\n",
    "        \n",
    "b_inst = B()\n",
    "\n",
    "b_inst.B_var = 'B'\n",
    "b_inst.A_var = 'A'\n",
    "\n",
    "print(b_inst.B_var)\n",
    "print(b_inst.A_var)"
   ]
  },
  {
   "cell_type": "markdown",
   "id": "ab28805a-94fd-4815-8758-0b0a36a51673",
   "metadata": {},
   "source": [
    "----"
   ]
  },
  {
   "cell_type": "markdown",
   "id": "381c0147-3401-4034-9683-f597c9969dbb",
   "metadata": {},
   "source": [
    "#### [super()](https://docs.python.org/3/library/functions.html#super)\n",
    "> Reference: https://zhuanlan.zhihu.com/p/151856162 </br>\n",
    "> More: [Super Considered Harmful](https://fuhm.net/super-harmful)"
   ]
  },
  {
   "cell_type": "code",
   "execution_count": 24,
   "id": "2ca2f164-4cc9-4eae-9c7c-e54673f3b87e",
   "metadata": {},
   "outputs": [],
   "source": [
    "# https://docs.python.org/3.10/library/functions.html#super\n",
    "def get_mro_info(t, o_or_t):\n",
    "    if isinstance(o_or_t, t):\n",
    "        mro = f\"mro of instance: {o_or_t.__class__.mro()}\"\n",
    "    elif issubclass(o_or_t, t):\n",
    "        mro = f\"mro of class: {o_or_t.mro()}\"\n",
    "    else:\n",
    "        raise AttributeError\n",
    "    return mro"
   ]
  },
  {
   "cell_type": "code",
   "execution_count": 3,
   "id": "01b176b3-6a22-4a82-9f7e-bae9ca3bd1de",
   "metadata": {},
   "outputs": [
    {
     "name": "stdout",
     "output_type": "stream",
     "text": [
      "enter C\n",
      "enter A\n",
      "enter Base\n",
      "leave Base\n",
      "leave A\n",
      "enter B\n",
      "enter Base\n",
      "leave Base\n",
      "leave B\n",
      "leave C\n"
     ]
    }
   ],
   "source": [
    "# example w/o super\n",
    "\n",
    "class Base(object):\n",
    "    def __init__(self):\n",
    "        print(\"enter Base\")\n",
    "        print(\"leave Base\")\n",
    "\n",
    "\n",
    "class A(Base):\n",
    "    def __init__(self):\n",
    "        print(\"enter A\")\n",
    "        Base.__init__(self) #调用父类的构造函数进行初始化\n",
    "        print(\"leave A\")\n",
    "\n",
    "\n",
    "class B(Base):\n",
    "    def __init__(self):\n",
    "        print(\"enter B\")\n",
    "        Base.__init__(self) #调用父类的构造函数进行初始化\n",
    "        print(\"leave B\")\n",
    "\n",
    "class C(A,B):\n",
    "    def __init__(self):\n",
    "        print(\"enter C\")\n",
    "        A.__init__(self) #调用父类A的构造函数进行初始化\n",
    "        B.__init__(self) #调用父类B的构造函数进行初始化\n",
    "        print(\"leave C\")\n",
    "\n",
    "c=C()\n",
    "\n",
    "## NOTE: 基类Base的构造函数被调用了两次，这是有问题的，正常的应该是：A的构造函数调用一次，B的构造函数调用一次，基类Base的构造函数调用一次。"
   ]
  },
  {
   "cell_type": "code",
   "execution_count": 27,
   "id": "45668852-53bc-4824-9496-b4a86d19b942",
   "metadata": {},
   "outputs": [
    {
     "name": "stdout",
     "output_type": "stream",
     "text": [
      "enter C | mro of instance: [<class '__main__.C'>, <class '__main__.A'>, <class '__main__.B'>, <class '__main__.Base'>, <class 'object'>]\n",
      "enter A | mro of instance: [<class '__main__.C'>, <class '__main__.A'>, <class '__main__.B'>, <class '__main__.Base'>, <class 'object'>]\n",
      "enter B | mro of instance: [<class '__main__.C'>, <class '__main__.A'>, <class '__main__.B'>, <class '__main__.Base'>, <class 'object'>]\n",
      "enter Base | mro of instance: [<class '__main__.C'>, <class '__main__.A'>, <class '__main__.B'>, <class '__main__.Base'>, <class 'object'>]\n",
      "leave Base\n",
      "leave B\n",
      "leave A\n",
      "leave C\n"
     ]
    }
   ],
   "source": [
    "# call super w/o two arguments, approach 0\n",
    "\n",
    "# https://stackoverflow.com/questions/13126727/how-is-super-in-python-3-implemented\n",
    "\n",
    "# super makes an implicit reference to a \"magic\" `__class__` name which behaves as a cell variable in the namespace of each class method.\n",
    "# From the Python datamodel:\n",
    "#   __class__ is an implicit closure reference created by the compiler if any methods in a class body refer to either __class__ or super.\n",
    "#   This allows the zero argument form of super() to correctly identify the class being defined based on lexical scoping,\n",
    "#   while the class or instance that was used to make the current call is identified based on the first argument passed to the method.\n",
    "#   https://peps.python.org/pep-0367\n",
    "\n",
    "class Base(object):\n",
    "    def __init__(self):\n",
    "        print(f\"enter Base | {get_mro_info(__class__, self)}\")\n",
    "        super().__init__() #调用父类的构造函数进行初始化\n",
    "        print(\"leave Base\")\n",
    "\n",
    "class A(object):\n",
    "    def __init__(self):\n",
    "        print(f\"enter A | {get_mro_info(__class__, self)}\")\n",
    "        super().__init__() #调用父类的构造函数进行初始化\n",
    "        print(\"leave A\")\n",
    "\n",
    "class B(Base):\n",
    "    def __init__(self):\n",
    "        print(f\"enter B | {get_mro_info(__class__, self)}\")\n",
    "        super().__init__() #调用父类的构造函数进行初始化\n",
    "        print(\"leave B\")\n",
    "\n",
    "class C(A,B):\n",
    "    def __init__(self):\n",
    "        print(f\"enter C | {get_mro_info(__class__, self)}\")\n",
    "        super().__init__()\n",
    "        print(\"leave C\")\n",
    "\n",
    "c=C()"
   ]
  },
  {
   "cell_type": "code",
   "execution_count": 36,
   "id": "59bfdc45-99a3-452f-9d27-e4d4e57bbe0d",
   "metadata": {},
   "outputs": [
    {
     "name": "stdout",
     "output_type": "stream",
     "text": [
      "enter C | mro of instance: [<class '__main__.C'>, <class '__main__.A'>, <class '__main__.B'>, <class '__main__.Base'>, <class 'object'>]\n",
      "enter A | mro of instance: [<class '__main__.C'>, <class '__main__.A'>, <class '__main__.B'>, <class '__main__.Base'>, <class 'object'>]\n",
      "enter B | mro of instance: [<class '__main__.C'>, <class '__main__.A'>, <class '__main__.B'>, <class '__main__.Base'>, <class 'object'>]\n",
      "enter Base | mro of instance: [<class '__main__.C'>, <class '__main__.A'>, <class '__main__.B'>, <class '__main__.Base'>, <class 'object'>]\n",
      "leave Base\n",
      "leave B\n",
      "leave A\n",
      "leave C\n"
     ]
    }
   ],
   "source": [
    "# call super w/ two arguments, approach 1\n",
    "\n",
    "class Base(object):\n",
    "    def __init__(self):\n",
    "        print(f\"enter Base | {get_mro_info(__class__, self)}\")\n",
    "        super(__class__, self).__init__() #调用父类的构造函数进行初始化\n",
    "        print(\"leave Base\")\n",
    "\n",
    "class A(object):\n",
    "    def __init__(self):\n",
    "        print(f\"enter A | {get_mro_info(__class__, self)}\")\n",
    "        super(__class__, self).__init__() #调用父类的构造函数进行初始化\n",
    "        print(\"leave A\")\n",
    "\n",
    "class B(Base):\n",
    "    def __init__(self):\n",
    "        print(f\"enter B | {get_mro_info(__class__, self)}\")\n",
    "        super(__class__, self).__init__() #调用父类的构造函数进行初始化\n",
    "        print(\"leave B\")\n",
    "\n",
    "class C(A,B):\n",
    "    def __init__(self):\n",
    "        print(f\"enter C | {get_mro_info(__class__, self)}\")\n",
    "        super(__class__, self).__init__()\n",
    "        print(\"leave C\")\n",
    "\n",
    "c=C()"
   ]
  },
  {
   "cell_type": "code",
   "execution_count": 37,
   "id": "c1305e5e-b72c-4a03-b2c5-475f3a913344",
   "metadata": {},
   "outputs": [
    {
     "name": "stdout",
     "output_type": "stream",
     "text": [
      "enter C | mro of class: [<class '__main__.C'>, <class '__main__.A'>, <class '__main__.B'>, <class '__main__.Base'>, <class 'object'>]\n",
      "enter A | mro of class: [<class '__main__.C'>, <class '__main__.A'>, <class '__main__.B'>, <class '__main__.Base'>, <class 'object'>]\n",
      "enter B | mro of class: [<class '__main__.C'>, <class '__main__.A'>, <class '__main__.B'>, <class '__main__.Base'>, <class 'object'>]\n",
      "enter Base | mro of class: [<class '__main__.C'>, <class '__main__.A'>, <class '__main__.B'>, <class '__main__.Base'>, <class 'object'>]\n",
      "leave Base\n",
      "leave B\n",
      "leave A\n",
      "leave C\n"
     ]
    }
   ],
   "source": [
    "# call super w/ two arguments, approach 2\n",
    "\n",
    "class Base(object):\n",
    "    def __init__(self):\n",
    "        print(f\"enter Base | {get_mro_info(__class__, self.__class__)}\")\n",
    "        super(__class__, self.__class__).__init__(self) #调用父类的构造函数进行初始化\n",
    "        print(\"leave Base\")\n",
    "\n",
    "class A(object):\n",
    "    def __init__(self):\n",
    "        print(f\"enter A | {get_mro_info(__class__, self.__class__)}\")\n",
    "        super(__class__, self.__class__).__init__(self) #调用父类的构造函数进行初始化\n",
    "        print(\"leave A\")\n",
    "\n",
    "class B(Base):\n",
    "    def __init__(self):\n",
    "        print(f\"enter B | {get_mro_info(__class__, self.__class__)}\")\n",
    "        super(__class__, self.__class__).__init__(self) #调用父类的构造函数进行初始化\n",
    "        print(\"leave B\")\n",
    "\n",
    "class C(A,B):\n",
    "    def __init__(self):\n",
    "        print(f\"enter C | {get_mro_info(__class__, self.__class__)}\")\n",
    "        super(__class__, self.__class__).__init__(self)\n",
    "        print(\"leave C\")\n",
    "\n",
    "c=C()"
   ]
  },
  {
   "cell_type": "code",
   "execution_count": 9,
   "id": "971521d1-17ad-46bf-aa1b-a602d4e82baa",
   "metadata": {},
   "outputs": [
    {
     "name": "stdout",
     "output_type": "stream",
     "text": [
      "enter C\n",
      "enter A\n",
      "leave A\n",
      "leave C\n"
     ]
    }
   ],
   "source": [
    "# Skipping the super init intentionally will break initialization sequence\n",
    "\n",
    "class Base(object):\n",
    "    def __init__(self):\n",
    "        print(\"enter Base\")\n",
    "        super().__init__() #调用父类的构造函数进行初始化\n",
    "        print(\"leave Base\")\n",
    "\n",
    "class A(object):\n",
    "    def __init__(self):\n",
    "        print(\"enter A\")\n",
    "       #super().__init__() #调用父类的构造函数进行初始化\n",
    "        print(\"leave A\")\n",
    "\n",
    "class B(Base):\n",
    "    def __init__(self):\n",
    "        print(\"enter B\")\n",
    "        super().__init__() #调用父类的构造函数进行初始化\n",
    "        print(\"leave B\")\n",
    "\n",
    "class C(A,B):\n",
    "    def __init__(self):\n",
    "        print(\"enter C\")\n",
    "        super().__init__()\n",
    "        print(\"leave C\")\n",
    "\n",
    "c=C()"
   ]
  },
  {
   "cell_type": "code",
   "execution_count": 25,
   "id": "16d48e8d-c9c6-48eb-be9b-419f75dae5f0",
   "metadata": {},
   "outputs": [
    {
     "name": "stdout",
     "output_type": "stream",
     "text": [
      "enter C | mro of class: [<class '__main__.C'>, <class '__main__.A'>, <class '__main__.B'>, <class '__main__.Base'>, <class 'object'>]\n",
      "enter A | mro of class: [<class '__main__.C'>, <class '__main__.A'>, <class '__main__.B'>, <class '__main__.Base'>, <class 'object'>]\n",
      "enter B | mro of class: [<class '__main__.C'>, <class '__main__.A'>, <class '__main__.B'>, <class '__main__.Base'>, <class 'object'>]\n",
      "enter Base | mro of class: [<class '__main__.C'>, <class '__main__.A'>, <class '__main__.B'>, <class '__main__.Base'>, <class 'object'>]\n",
      "leave Base\n",
      "leave B\n",
      "leave A\n",
      "leave C\n"
     ]
    }
   ],
   "source": [
    "class Base(object):\n",
    "    def __new__(cls):\n",
    "        print(f\"enter Base | {get_mro_info(__class__, cls)}\")\n",
    "        super().__new__(cls)\n",
    "        print(\"leave Base\")\n",
    "\n",
    "class A(object):\n",
    "    def __new__(cls):\n",
    "        print(f\"enter A | {get_mro_info(__class__, cls)}\")\n",
    "        super().__new__(cls)\n",
    "        print(\"leave A\")\n",
    "\n",
    "class B(Base):\n",
    "    def __new__(cls):\n",
    "        print(f\"enter B | {get_mro_info(__class__, cls)}\")\n",
    "        super().__new__(cls)\n",
    "        print(\"leave B\")\n",
    "\n",
    "class C(A,B):\n",
    "    def __new__(cls):\n",
    "        print(f\"enter C | {get_mro_info(__class__, cls)}\")\n",
    "        super().__new__(cls)\n",
    "        print(\"leave C\")\n",
    "\n",
    "c=C()"
   ]
  },
  {
   "cell_type": "code",
   "execution_count": 26,
   "id": "7dd5eedd-bd21-408d-9237-5753dd6af898",
   "metadata": {},
   "outputs": [
    {
     "name": "stdout",
     "output_type": "stream",
     "text": [
      "enter C | mro of class: [<class '__main__.C'>, <class '__main__.A'>, <class '__main__.B'>, <class '__main__.Base'>, <class 'object'>]\n",
      "enter A | mro of class: [<class '__main__.C'>, <class '__main__.A'>, <class '__main__.B'>, <class '__main__.Base'>, <class 'object'>]\n",
      "enter B | mro of class: [<class '__main__.C'>, <class '__main__.A'>, <class '__main__.B'>, <class '__main__.Base'>, <class 'object'>]\n",
      "enter Base | mro of class: [<class '__main__.C'>, <class '__main__.A'>, <class '__main__.B'>, <class '__main__.Base'>, <class 'object'>]\n",
      "leave Base\n",
      "leave B\n",
      "leave A\n",
      "leave C\n"
     ]
    }
   ],
   "source": [
    "# equivalence to code section above\n",
    "\n",
    "class Base(object):\n",
    "    def __new__(cls):\n",
    "        print(f\"enter Base | {get_mro_info(__class__, cls)}\")\n",
    "        super(__class__, cls).__new__(cls)\n",
    "        print(\"leave Base\")\n",
    "\n",
    "class A(object):\n",
    "    def __new__(cls):\n",
    "        print(f\"enter A | {get_mro_info(__class__, cls)}\")\n",
    "        super(__class__, cls).__new__(cls)\n",
    "        print(\"leave A\")\n",
    "\n",
    "class B(Base):\n",
    "    def __new__(cls):\n",
    "        print(f\"enter B | {get_mro_info(__class__, cls)}\")\n",
    "        super(__class__, cls).__new__(cls)\n",
    "        print(\"leave B\")\n",
    "\n",
    "class C(A,B):\n",
    "    def __new__(cls):\n",
    "        print(f\"enter C | {get_mro_info(__class__, cls)}\")\n",
    "        super(__class__, cls).__new__(cls)\n",
    "        print(\"leave C\")\n",
    "\n",
    "c=C()"
   ]
  },
  {
   "cell_type": "markdown",
   "id": "52eb216c-51bc-4a81-ba63-4f1914242e03",
   "metadata": {},
   "source": [
    "----"
   ]
  },
  {
   "cell_type": "markdown",
   "id": "fb115942-7d88-4371-b7e5-3a0c58ad7573",
   "metadata": {},
   "source": [
    "#### The implementation of `object.__new__(...) && object.__init__(...)`"
   ]
  },
  {
   "cell_type": "markdown",
   "id": "0fefbf9a-2805-4657-b4d4-971053901a7f",
   "metadata": {},
   "source": [
    "----"
   ]
  },
  {
   "cell_type": "markdown",
   "id": "7b72b4c9-c005-4ac0-9bb6-6beda233ff15",
   "metadata": {},
   "source": [
    "#### dict setdefault"
   ]
  },
  {
   "cell_type": "code",
   "execution_count": 3,
   "id": "e8ea3dd2-4170-4634-b919-e5a77ac6a416",
   "metadata": {},
   "outputs": [
    {
     "data": {
      "text/plain": [
       "[1, 2, 3]"
      ]
     },
     "execution_count": 3,
     "metadata": {},
     "output_type": "execute_result"
    }
   ],
   "source": [
    "rules = {'l':[1,2,3], 's':[2,3,4]}\n",
    "rules.setdefault('l', [1])"
   ]
  },
  {
   "cell_type": "code",
   "execution_count": 16,
   "id": "9b7a3bd6-f367-4205-8787-66e0d07a53ab",
   "metadata": {},
   "outputs": [
    {
     "name": "stdout",
     "output_type": "stream",
     "text": [
      "['abcdefg', 'tesdf', 's', 'a', 'd', 'f', 's', 'd', 'a', 'f', 'a', 's', 'd', 'f', 'a', 's', 'f']\n"
     ]
    }
   ],
   "source": [
    "import itertools\n",
    "temp_str1 = ('abcdefg', 'tesdf')\n",
    "temp_str2 = 'sadfsdafasdfasf'\n",
    "print(list(itertools.chain(temp_str1, temp_str2)))\n",
    "        "
   ]
  },
  {
   "cell_type": "code",
   "execution_count": null,
   "id": "bb5bbf77-c133-4c53-b68e-397d28766e76",
   "metadata": {},
   "outputs": [],
   "source": []
  }
 ],
 "metadata": {
  "kernelspec": {
   "display_name": "Python 3 (ipykernel)",
   "language": "python",
   "name": "python3"
  },
  "language_info": {
   "codemirror_mode": {
    "name": "ipython",
    "version": 3
   },
   "file_extension": ".py",
   "mimetype": "text/x-python",
   "name": "python",
   "nbconvert_exporter": "python",
   "pygments_lexer": "ipython3",
   "version": "3.8.12"
  }
 },
 "nbformat": 4,
 "nbformat_minor": 5
}
