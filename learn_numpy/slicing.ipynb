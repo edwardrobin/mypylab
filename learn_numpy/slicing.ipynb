{
 "cells": [
  {
   "cell_type": "code",
   "execution_count": 1,
   "metadata": {},
   "outputs": [],
   "source": [
    "import numpy as np"
   ]
  },
  {
   "cell_type": "code",
   "execution_count": 21,
   "metadata": {},
   "outputs": [
    {
     "name": "stdout",
     "output_type": "stream",
     "text": [
      "[[ 0  1  2  3]\n",
      " [ 4  5  6  7]\n",
      " [ 8  9 10 11]\n",
      " [12 13 14 15]\n",
      " [16 17 18 19]]\n"
     ]
    }
   ],
   "source": [
    "a = np.arange(20).reshape(5,4)\n",
    "print(a)"
   ]
  },
  {
   "cell_type": "code",
   "execution_count": 22,
   "metadata": {},
   "outputs": [
    {
     "name": "stdout",
     "output_type": "stream",
     "text": [
      "6\n"
     ]
    }
   ],
   "source": [
    "# Pick up certain value by index\n",
    "\n",
    "print(a[1,2])"
   ]
  },
  {
   "cell_type": "code",
   "execution_count": 62,
   "metadata": {},
   "outputs": [
    {
     "name": "stdout",
     "output_type": "stream",
     "text": [
      "[[ 1  2]\n",
      " [ 9 10]]\n",
      "\n",
      "[[ 4  5  6  7]\n",
      " [12 13 14 15]\n",
      " [16 17 18 19]]\n",
      "\n",
      "[[ 4  5  6  7]\n",
      " [12 13 14 15]\n",
      " [16 17 18 19]]\n",
      "\n",
      "[[ 4  5  6  7]\n",
      " [12 13 14 15]\n",
      " [16 17 18 19]]\n",
      "\n",
      "[[ 1  3]\n",
      " [ 5  7]\n",
      " [ 9 11]\n",
      " [13 15]\n",
      " [17 19]]\n",
      "\n",
      "[ 9 11]\n",
      "\n",
      "[[ 1  2  3]\n",
      " [ 9 10 11]]\n",
      "\n"
     ]
    }
   ],
   "source": [
    "# Extract sub-matrix in some rows and columns\n",
    "\n",
    "###############################################################################\n",
    "# NOTE: This is achieved by combining a scalar_value/slice_object with a list\n",
    "#       Only ix_() function can accept two lists\n",
    "###############################################################################\n",
    "\n",
    "# 1). from cross points of regular rows & columns specified by slice objects\n",
    "print(a[0:3:2, 1:3:1])  # each dim's indices is broadcast to fit each other\n",
    "print()\n",
    "\n",
    "print(a[[1,3,4]])\n",
    "print()\n",
    "\n",
    "# same as previous one\n",
    "print(a[[1,3,4],:])     # \":\" is broadcast to fit into [1,3,4]\n",
    "print()\n",
    "\n",
    "# same as previous one\n",
    "print(a[[1,3,4]])\n",
    "print()\n",
    "\n",
    "print(a[:, [1,3]])     # \":\" is broadcast to fit into [1,3]\n",
    "print()\n",
    "\n",
    "print(a[2, [1,3]])\n",
    "print()\n",
    "\n",
    "# 2). from cross points of any rows & columns\n",
    "print(a[np.ix_([0,2],[1,2,3])])\n",
    "print()\n"
   ]
  },
  {
   "cell_type": "code",
   "execution_count": 60,
   "metadata": {},
   "outputs": [
    {
     "name": "stdout",
     "output_type": "stream",
     "text": [
      "[ 4 11]\n",
      "\n",
      "[[ 2  5]\n",
      " [ 7 11]]\n",
      "[[ 2  5]\n",
      " [ 7 11]]\n",
      "\n"
     ]
    }
   ],
   "source": [
    "# Form a new Matrix with arbitrary dimensions\n",
    "# The necessary indices for each axis is specified by a list or np.array.\n",
    "# The indices shape is the new Matrix shape.\n",
    "# The two indices is given to the orignal 2-dims matrix; three indices for 3-dims matrix\n",
    "\n",
    "######################################################################\n",
    "# NOTE: This is achieved by combining two list/np.array objects\n",
    "######################################################################\n",
    "\n",
    "print(a[[1,2], [0,3]])\n",
    "print()\n",
    "\n",
    "print(a[ [ [0,1],                        # indices for the first dim of a\n",
    "           [1,2] ],\n",
    "         [ [2,1],                        # indices for the second dim\n",
    "           [3,3] ] ])\n",
    "\n",
    "i = np.array( [ [0,1],                        # indices for the first dim of a\n",
    "                [1,2] ] )\n",
    "j = np.array( [ [2,1],                        # indices for the second dim\n",
    "                [3,3] ] )\n",
    "print(a[i,j])\n",
    "print()\n"
   ]
  },
  {
   "cell_type": "code",
   "execution_count": 13,
   "metadata": {},
   "outputs": [
    {
     "name": "stdout",
     "output_type": "stream",
     "text": [
      "[[ 2  6]\n",
      " [ 6 10]]\n",
      "----------------\n",
      "[[[ 6  5]\n",
      "  [ 7  7]]\n",
      "\n",
      " [[10  9]\n",
      "  [11 11]]]\n",
      "----------------\n",
      "[[[ 2  1]\n",
      "  [ 3  3]]\n",
      "\n",
      " [[ 6  5]\n",
      "  [ 7  7]]\n",
      "\n",
      " [[10  9]\n",
      "  [11 11]]]\n",
      "----------------\n"
     ]
    }
   ],
   "source": [
    "# '2' will be broadcast to fit into 'i'\n",
    "\n",
    "print(a[i,2])\n",
    "\n",
    "print('----------------')\n",
    "\n",
    "# '1:3:1' is broadcast to fit into 'j'\n",
    "\n",
    "print(a[1:3:1,j])\n",
    "\n",
    "print('----------------')\n",
    "\n",
    "# Both ':' and 'j' are broadcast to fit each other\n",
    "\n",
    "print(a[:,j])\n",
    " \n",
    "print('----------------')"
   ]
  },
  {
   "cell_type": "code",
   "execution_count": 1,
   "metadata": {},
   "outputs": [
    {
     "name": "stdout",
     "output_type": "stream",
     "text": [
      "(0, 0) 0\n",
      "(0, 1) 1\n",
      "(0, 2) 2\n",
      "(1, 0) 3\n",
      "(1, 1) 4\n",
      "(1, 2) 5\n",
      "(2, 0) 6\n",
      "(2, 1) 7\n",
      "(2, 2) 8\n",
      "\n",
      "(0, 0) 0\n",
      "(0, 1) 1\n",
      "(0, 2) 2\n",
      "(1, 0) 3\n",
      "(1, 1) 4\n",
      "(1, 2) 5\n",
      "(2, 0) 6\n",
      "(2, 1) 7\n",
      "(2, 2) 8\n"
     ]
    }
   ],
   "source": [
    "# enumerate elements\n",
    "\n",
    "Z = np.arange(9).reshape(3,3)\n",
    "for index, value in np.ndenumerate(Z):\n",
    "    print(index, value)\n",
    "print()\n",
    "for index in np.ndindex(Z.shape):\n",
    "    print(index, Z[index])"
   ]
  },
  {
   "cell_type": "code",
   "execution_count": null,
   "metadata": {},
   "outputs": [],
   "source": []
  }
 ],
 "metadata": {
  "kernelspec": {
   "display_name": "Python 3 (ipykernel)",
   "language": "python",
   "name": "python3"
  },
  "language_info": {
   "codemirror_mode": {
    "name": "ipython",
    "version": 3
   },
   "file_extension": ".py",
   "mimetype": "text/x-python",
   "name": "python",
   "nbconvert_exporter": "python",
   "pygments_lexer": "ipython3",
   "version": "3.8.12"
  },
  "varInspector": {
   "cols": {
    "lenName": 16,
    "lenType": 16,
    "lenVar": 40
   },
   "kernels_config": {
    "python": {
     "delete_cmd_postfix": "",
     "delete_cmd_prefix": "del ",
     "library": "var_list.py",
     "varRefreshCmd": "print(var_dic_list())"
    },
    "r": {
     "delete_cmd_postfix": ") ",
     "delete_cmd_prefix": "rm(",
     "library": "var_list.r",
     "varRefreshCmd": "cat(var_dic_list()) "
    }
   },
   "types_to_exclude": [
    "module",
    "function",
    "builtin_function_or_method",
    "instance",
    "_Feature"
   ],
   "window_display": false
  }
 },
 "nbformat": 4,
 "nbformat_minor": 4
}
