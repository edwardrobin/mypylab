{
 "cells": [
  {
   "cell_type": "code",
   "execution_count": 1,
   "metadata": {},
   "outputs": [],
   "source": [
    "import numpy as np"
   ]
  },
  {
   "cell_type": "code",
   "execution_count": 3,
   "metadata": {},
   "outputs": [
    {
     "name": "stdout",
     "output_type": "stream",
     "text": [
      "[[ 0  1  2  3]\n",
      " [ 4  5  6  7]\n",
      " [ 8  9 10 11]]\n"
     ]
    }
   ],
   "source": [
    "a = np.arange(12).reshape(3,4)\n",
    "print(a)"
   ]
  },
  {
   "cell_type": "code",
   "execution_count": 38,
   "metadata": {},
   "outputs": [
    {
     "name": "stdout",
     "output_type": "stream",
     "text": [
      "6\n"
     ]
    }
   ],
   "source": [
    "# Pick up certain value by index\n",
    "\n",
    "print(a[1,2])"
   ]
  },
  {
   "cell_type": "code",
   "execution_count": 36,
   "metadata": {},
   "outputs": [
    {
     "name": "stdout",
     "output_type": "stream",
     "text": [
      "[[ 1  2]\n",
      " [ 9 10]]\n",
      "[[ 1  2  3]\n",
      " [ 9 10 11]]\n"
     ]
    }
   ],
   "source": [
    "# Extract sub-matrix \n",
    "\n",
    "# 1). from cross points of regular rows & columns specified by slice objects\n",
    "print(a[0:3:2, 1:3:1])\n",
    "\n",
    "# 2). from cross points of any rows & columns\n",
    "print(a[np.ix_([0,2],[1,2,3])])"
   ]
  },
  {
   "cell_type": "code",
   "execution_count": 39,
   "metadata": {},
   "outputs": [
    {
     "name": "stdout",
     "output_type": "stream",
     "text": [
      "[ 4 11]\n",
      "[[ 2  5]\n",
      " [ 7 11]]\n"
     ]
    }
   ],
   "source": [
    "# Form a new Matrix with arbitrary dimensions\n",
    "# The necessary indices of each dimension is specified by a list or np.array.\n",
    "# The two indices is given to the orignal 2-dims matrix; three indices for 3-dims matrix\n",
    "\n",
    "print(a[[1,2], [0,3]])\n",
    "\n",
    "i = np.array( [ [0,1],                        # indices for the first dim of a\n",
    "                [1,2] ] )\n",
    "j = np.array( [ [2,1],                        # indices for the second dim\n",
    "                [3,3] ] )\n",
    "print(a[i,j])"
   ]
  },
  {
   "cell_type": "code",
   "execution_count": 41,
   "metadata": {},
   "outputs": [
    {
     "name": "stdout",
     "output_type": "stream",
     "text": [
      "[[ 2  6]\n",
      " [ 6 10]]\n"
     ]
    }
   ],
   "source": [
    "print(a[i,2])"
   ]
  },
  {
   "cell_type": "code",
   "execution_count": 43,
   "metadata": {},
   "outputs": [
    {
     "name": "stdout",
     "output_type": "stream",
     "text": [
      "[[[ 2  1]\n",
      "  [ 3  3]]\n",
      "\n",
      " [[ 6  5]\n",
      "  [ 7  7]]\n",
      "\n",
      " [[10  9]\n",
      "  [11 11]]]\n"
     ]
    }
   ],
   "source": [
    "print(a[:,j])"
   ]
  },
  {
   "cell_type": "code",
   "execution_count": null,
   "metadata": {},
   "outputs": [],
   "source": []
  }
 ],
 "metadata": {
  "kernelspec": {
   "display_name": "Python [conda env:manim] *",
   "language": "python",
   "name": "conda-env-manim-py"
  },
  "language_info": {
   "codemirror_mode": {
    "name": "ipython",
    "version": 3
   },
   "file_extension": ".py",
   "mimetype": "text/x-python",
   "name": "python",
   "nbconvert_exporter": "python",
   "pygments_lexer": "ipython3",
   "version": "3.7.7"
  },
  "varInspector": {
   "cols": {
    "lenName": 16,
    "lenType": 16,
    "lenVar": 40
   },
   "kernels_config": {
    "python": {
     "delete_cmd_postfix": "",
     "delete_cmd_prefix": "del ",
     "library": "var_list.py",
     "varRefreshCmd": "print(var_dic_list())"
    },
    "r": {
     "delete_cmd_postfix": ") ",
     "delete_cmd_prefix": "rm(",
     "library": "var_list.r",
     "varRefreshCmd": "cat(var_dic_list()) "
    }
   },
   "types_to_exclude": [
    "module",
    "function",
    "builtin_function_or_method",
    "instance",
    "_Feature"
   ],
   "window_display": false
  }
 },
 "nbformat": 4,
 "nbformat_minor": 4
}
