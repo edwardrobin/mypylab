{
 "cells": [
  {
   "cell_type": "code",
   "execution_count": 9,
   "metadata": {},
   "outputs": [
    {
     "name": "stdout",
     "output_type": "stream",
     "text": [
      "[1 2 3 4 5 6 7 8 9]\n",
      "(9,)\n",
      "True None\n",
      "[[1]\n",
      " [2]\n",
      " [3]\n",
      " [4]\n",
      " [5]\n",
      " [6]\n",
      " [7]\n",
      " [8]\n",
      " [9]]\n",
      "[ 0  1  2  3  4  5  6  7  8  9 10 11 12 13 14 15 16 17 18 19 20 21 22 23]\n",
      "True None\n",
      "[[[ 0  1  2  3]\n",
      "  [ 4  5  6  7]\n",
      "  [ 8  9 10 11]]\n",
      "\n",
      " [[12 13 14 15]\n",
      "  [16 17 18 19]\n",
      "  [20 21 22 23]]]\n"
     ]
    }
   ],
   "source": [
    "import numpy as np\n",
    "\n",
    "a = np.arange(1,10)\n",
    "print(a)\n",
    "print(a.shape)\n",
    "a.shape = (9,-1)\n",
    "print(a.flags.owndata, a.base)\n",
    "print(a)\n",
    "\n",
    "b = np.arange(0,24)\n",
    "print(b)\n",
    " ### (batches, rows, columns)\n",
    "b.shape = (2,3,4)\n",
    "print(b.flags.owndata, b.base)\n",
    "print(b)"
   ]
  },
  {
   "cell_type": "code",
   "execution_count": 2,
   "metadata": {},
   "outputs": [
    {
     "name": "stdout",
     "output_type": "stream",
     "text": [
      "False [1 2 3 4 5 6 7 8 9]\n",
      "[ 1  2  3  4 10  6  7  8  9]\n"
     ]
    }
   ],
   "source": [
    "# slicing : produce VIEW of array\n",
    "a = np.arange(1,10)\n",
    "b = a[:]\n",
    "print(b.flags.owndata, b.base)\n",
    "b[4] = 10\n",
    "print(a)"
   ]
  },
  {
   "cell_type": "code",
   "execution_count": 6,
   "metadata": {},
   "outputs": [
    {
     "name": "stdout",
     "output_type": "stream",
     "text": [
      "False [1 2 3 4 5 6 7 8 9]\n",
      "[[ 1  2  3]\n",
      " [ 4 10  6]\n",
      " [ 7  8  9]]\n",
      "[ 1  2  3  4 11  6  7  8  9]\n"
     ]
    }
   ],
   "source": [
    "# reshape : VIEW\n",
    "a = np.arange(1,10)\n",
    "b = a.reshape((3,3))\n",
    "print(b.flags.owndata, b.base)\n",
    "a[4] = 10\n",
    "print(b)\n",
    "b[1,1] = 11\n",
    "print(a)"
   ]
  },
  {
   "cell_type": "code",
   "execution_count": 4,
   "metadata": {},
   "outputs": [
    {
     "name": "stdout",
     "output_type": "stream",
     "text": [
      "False [1 2 3 4 5 6 7 8 9]\n",
      "False [1 2 3 4 5 6 7 8 9]\n",
      "[[ 1  2  3]\n",
      " [ 4 10  6]\n",
      " [ 7  8  9]]\n",
      "[ 1  2  3  4 10  6  7  8  9]\n"
     ]
    }
   ],
   "source": [
    "# ravel : VIEW\n",
    "a = np.arange(1,10).reshape(3,3)\n",
    "print(a.flags.owndata, a.base)\n",
    "b = a.ravel()\n",
    "print(b.flags.owndata, b.base)\n",
    "b[4] = 10\n",
    "print(a)\n",
    "print(b)"
   ]
  },
  {
   "cell_type": "code",
   "execution_count": 7,
   "metadata": {},
   "outputs": [
    {
     "name": "stdout",
     "output_type": "stream",
     "text": [
      "False [1 2 3 4 5 6 7 8 9]\n",
      "False [1 2 3 4 5 6 7 8 9]\n",
      "[ 1  2  3  4 10  6  7  8  9]\n"
     ]
    }
   ],
   "source": [
    "# T (Transpose) : VIEW\n",
    "a = np.arange(1,10)\n",
    "aT = a.T\n",
    "print(aT.flags.owndata, aT.base)\n",
    "aTp = a.transpose()\n",
    "print(aTp.flags.owndata, aTp.base)\n",
    "aT[4] = 10\n",
    "print(a)"
   ]
  },
  {
   "cell_type": "code",
   "execution_count": 6,
   "metadata": {},
   "outputs": [
    {
     "name": "stdout",
     "output_type": "stream",
     "text": [
      "True None\n",
      "[1 2 3 4 5 6 7 8 9]\n",
      "array([1, 2, 3, 4, 5, 6, 7, 8, 9]) <numpy.flatiter object at 0x557a48e2c240>\n"
     ]
    }
   ],
   "source": [
    "# flatten : COPY\n",
    "a = np.arange(1,10)\n",
    "b = a.flatten()\n",
    "print(b.flags.owndata, b.base)\n",
    "b[4] = 10\n",
    "print(a)\n",
    "\n",
    "c = a.flat\n",
    "print(repr(a), repr(c))"
   ]
  },
  {
   "cell_type": "code",
   "execution_count": 7,
   "metadata": {},
   "outputs": [
    {
     "name": "stdout",
     "output_type": "stream",
     "text": [
      "True None\n",
      "[[ 1  2  3]\n",
      " [ 4 10  6]\n",
      " [ 7  8  9]]\n",
      "[[11 12 13]\n",
      " [14 20 16]\n",
      " [17 18 19]]\n",
      "[[ 1  2  3]\n",
      " [ 4  5  6]\n",
      " [ 7  8  9]\n",
      " [11 12 13]\n",
      " [14 15 16]\n",
      " [17 18 19]]\n"
     ]
    }
   ],
   "source": [
    "# vstack : COPY\n",
    "a = np.arange(1,10).reshape(3,3)\n",
    "b = np.arange(11,20).reshape(3,3)\n",
    "c = np.vstack((a,b))\n",
    "print(c.flags.owndata, c.base)\n",
    "a[1,1] = 10\n",
    "b[1,1] = 20\n",
    "print(a)\n",
    "print(b)\n",
    "print(c)"
   ]
  },
  {
   "cell_type": "code",
   "execution_count": 7,
   "metadata": {},
   "outputs": [
    {
     "name": "stdout",
     "output_type": "stream",
     "text": [
      "Force a copy so that diminish the confusion caused by whether it's a view or not!\n",
      "True None\n"
     ]
    }
   ],
   "source": [
    "print(\"Force a copy so that diminish the confusion caused by whether it's a view or not!\")\n",
    "aT = np.array(a.T, copy=True)\n",
    "print(aT.flags.owndata, aT.base)"
   ]
  },
  {
   "cell_type": "code",
   "execution_count": null,
   "metadata": {},
   "outputs": [],
   "source": []
  }
 ],
 "metadata": {
  "kernelspec": {
   "display_name": "Python 3 (ipykernel)",
   "language": "python",
   "name": "python3"
  },
  "language_info": {
   "codemirror_mode": {
    "name": "ipython",
    "version": 3
   },
   "file_extension": ".py",
   "mimetype": "text/x-python",
   "name": "python",
   "nbconvert_exporter": "python",
   "pygments_lexer": "ipython3",
   "version": "3.8.12"
  },
  "varInspector": {
   "cols": {
    "lenName": 16,
    "lenType": 16,
    "lenVar": 40
   },
   "kernels_config": {
    "python": {
     "delete_cmd_postfix": "",
     "delete_cmd_prefix": "del ",
     "library": "var_list.py",
     "varRefreshCmd": "print(var_dic_list())"
    },
    "r": {
     "delete_cmd_postfix": ") ",
     "delete_cmd_prefix": "rm(",
     "library": "var_list.r",
     "varRefreshCmd": "cat(var_dic_list()) "
    }
   },
   "types_to_exclude": [
    "module",
    "function",
    "builtin_function_or_method",
    "instance",
    "_Feature"
   ],
   "window_display": false
  }
 },
 "nbformat": 4,
 "nbformat_minor": 4
}
