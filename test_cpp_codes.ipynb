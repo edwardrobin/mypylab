{
 "cells": [
  {
   "cell_type": "code",
   "execution_count": 36,
   "id": "fba314db-4724-49f9-befe-884af4474f85",
   "metadata": {},
   "outputs": [],
   "source": [
    "#include <stdio.h>\n",
    "#include <iostream>  \n",
    "using namespace std;\n"
   ]
  },
  {
   "cell_type": "code",
   "execution_count": 37,
   "id": "08a3e5f9-ad1e-4186-8a36-0f409d46e3f6",
   "metadata": {},
   "outputs": [],
   "source": [
    "// Greatest Common Divisor\n",
    "int32_t GCD(int32_t n1, int32_t n2)\n",
    "{\n",
    "    if (n1 == 0) return n2;\n",
    "    return GCD(n2 % n1, n1);\n",
    "}"
   ]
  },
  {
   "cell_type": "code",
   "execution_count": 38,
   "id": "59e2f36a-e7fd-4d04-8e16-d848e1a34fe5",
   "metadata": {},
   "outputs": [],
   "source": [
    "// Least Common Multiple\n",
    "int32_t LCM(int32_t n1, int32_t n2)\n",
    "{\n",
    "    return (n1 / GCD(n1, n2)) * n2;\n",
    "}"
   ]
  },
  {
   "cell_type": "code",
   "execution_count": 39,
   "id": "65936792-0b87-437a-b2be-b940ff54c821",
   "metadata": {},
   "outputs": [],
   "source": [
    "int32_t LCM(int32_t n1, int32_t n2, int32_t n3)\n",
    "{\n",
    "    return LCM(LCM(n1, n2), n3);\n",
    "}"
   ]
  },
  {
   "cell_type": "code",
   "execution_count": 40,
   "id": "d24427e4-679d-45c0-895b-d0b89647f221",
   "metadata": {},
   "outputs": [],
   "source": [
    "// declare local variable  \n",
    "int num1, num2, num3;"
   ]
  },
  {
   "cell_type": "code",
   "execution_count": 41,
   "id": "c8749893-eaca-4253-9ab5-e934feeca50e",
   "metadata": {},
   "outputs": [
    {
     "name": "stdout",
     "output_type": "stream",
     "text": [
      " Enter two numbers: \n"
     ]
    },
    {
     "name": "stdin",
     "output_type": "stream",
     "text": [
      " 3 4\n"
     ]
    },
    {
     "name": "stdout",
     "output_type": "stream",
     "text": [
      " LCM of two numbers 3 and 4 is 12"
     ]
    }
   ],
   "source": [
    "cout << \" Enter two numbers: \" <<endl;\n",
    "cin >> num1 >> num2;\n",
    "cout << \" LCM of two numbers \" <<num1 <<\" and \" << num2 << \" is \" << LCM(num1, num2);"
   ]
  },
  {
   "cell_type": "code",
   "execution_count": 42,
   "id": "8d307766-c18d-4d2b-a6b8-8c1bf457fcc6",
   "metadata": {},
   "outputs": [
    {
     "name": "stdout",
     "output_type": "stream",
     "text": [
      " Enter three numbers: \n"
     ]
    },
    {
     "name": "stdin",
     "output_type": "stream",
     "text": [
      " 4 8 4\n"
     ]
    },
    {
     "name": "stdout",
     "output_type": "stream",
     "text": [
      " LCM of three numbers 4, 8 and 4 is 8"
     ]
    }
   ],
   "source": [
    "cout << \" Enter three numbers: \" <<endl;\n",
    "cin >> num1 >> num2 >> num3;\n",
    "cout << \" LCM of three numbers \" <<num1 << \", \" << num2 <<\" and \" << num3 << \" is \" << LCM(num1, num2, num3);"
   ]
  },
  {
   "cell_type": "code",
   "execution_count": null,
   "id": "d9ceb61e-9bb7-4eed-bfb4-29ade49d4b5b",
   "metadata": {},
   "outputs": [],
   "source": []
  }
 ],
 "metadata": {
  "kernelspec": {
   "display_name": "C++11",
   "language": "C++11",
   "name": "xcpp11"
  },
  "language_info": {
   "codemirror_mode": "text/x-c++src",
   "file_extension": ".cpp",
   "mimetype": "text/x-c++src",
   "name": "c++",
   "version": "11"
  }
 },
 "nbformat": 4,
 "nbformat_minor": 5
}
